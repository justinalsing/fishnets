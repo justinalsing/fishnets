{
 "cells": [
  {
   "cell_type": "markdown",
   "metadata": {},
   "source": [
    "# run test on trained models for censored data"
   ]
  },
  {
   "cell_type": "code",
   "execution_count": 25,
   "metadata": {},
   "outputs": [
    {
     "name": "stdout",
     "output_type": "stream",
     "text": [
      "/home/makinen/repositories/fishnets\n"
     ]
    }
   ],
   "source": [
    "cd /home/makinen/repositories/fishnets/"
   ]
  },
  {
   "cell_type": "code",
   "execution_count": 2,
   "metadata": {},
   "outputs": [
    {
     "name": "stderr",
     "output_type": "stream",
     "text": [
      "/softs/python/py3mods/tensorflow/2.8.4/keras/optimizer_v2/adam.py:105: UserWarning: The `lr` argument is deprecated, use `learning_rate` instead.\n",
      "  super(Adam, self).__init__(name, **kwargs)\n"
     ]
    }
   ],
   "source": [
    "import jax.numpy as jnp\n",
    "from jax import grad, jit, vmap\n",
    "from jax import random\n",
    "#import torch\n",
    "import jax\n",
    "from jax import lax\n",
    "#import jax_cosmo as jc\n",
    "import scipy.constants as cnst\n",
    "import scipy.stats as ss\n",
    "\n",
    "import matplotlib.pyplot as plt\n",
    "\n",
    "import numpy as np\n",
    "import numpyro\n",
    "import numpyro.distributions as dist\n",
    "\n",
    "import tensorflow as tf\n",
    "import tensorflow_probability as tfp\n",
    "from tqdm import trange\n",
    "from scipy import stats\n",
    "tfk = tf.keras\n",
    "\n",
    "from fishnets import *"
   ]
  },
  {
   "cell_type": "code",
   "execution_count": 3,
   "metadata": {},
   "outputs": [],
   "source": [
    "n_data=10000 # for testing"
   ]
  },
  {
   "cell_type": "code",
   "execution_count": 4,
   "metadata": {},
   "outputs": [],
   "source": [
    "def gamma_pop_model_censored(key, theta, \n",
    "                    n_data=n_data, \n",
    "                    serum_min=25., \n",
    "                    tmax=10.,\n",
    "                    A=500.0):\n",
    "\n",
    "  population = jnp.zeros((n_data, 2))\n",
    "  mean, scale = theta # shape, reporting delay\n",
    "  rate = 1./ scale #concentration / report_delay\n",
    "  concentration = mean / scale\n",
    "  key,rng = jax.random.split(key)\n",
    "\n",
    "  def fn(data_tuple):\n",
    "    data,key = data_tuple\n",
    "    key,rng = jax.random.split(key)\n",
    "    decay_time = dist.Gamma(concentration=concentration, \n",
    "                           rate=rate).sample(key, ())\n",
    "\n",
    "    key,rng = jax.random.split(key)\n",
    "    measurement_time = dist.Uniform(low=0.0, high=tmax).sample(key, ())\n",
    "\n",
    "    key,rng = jax.random.split(key)\n",
    "    _lambda = A * jnp.exp(-measurement_time / decay_time )\n",
    "    measured_serum_level = dist.Poisson(rate=_lambda).sample(key, ())\n",
    "\n",
    "    #measured_serum_level += dist.Normal(loc=0.0, scale=0.2).sample(key, ())\n",
    "\n",
    "    return jnp.array([measurement_time, measured_serum_level]), key\n",
    "\n",
    "  def cond_fun(data_tuple):\n",
    "    data,_ = data_tuple\n",
    "    return data[1] < serum_min\n",
    "\n",
    "  for i in range(population.shape[0]):\n",
    "      key,rng = jax.random.split(key)\n",
    "      #ody_fn = lambda d: fn(key=key, data=d)\n",
    "      data,_ = jax.lax.while_loop(cond_fun, fn, init_val=(jnp.ones((2,))*0, key))\n",
    "\n",
    "      population = population.at[i, :].set(data)\n",
    "\n",
    "  return population"
   ]
  },
  {
   "cell_type": "code",
   "execution_count": 5,
   "metadata": {},
   "outputs": [],
   "source": [
    "n_sims = 5000\n",
    "\n",
    "# theta = (concentration, rate)\n",
    "# mean of Gamma = concentration / rate\n",
    "key = jax.random.PRNGKey(35)\n",
    "mean = dist.Uniform(low=0.5, high=10.).sample(key, (n_sims,))\n",
    "key,rng = jax.random.split(key)\n",
    "scale = dist.Uniform(low=0.1, high=1.5).sample(key, (n_sims,))\n",
    "\n",
    "\n",
    "theta = jnp.vstack([mean, scale]).T"
   ]
  },
  {
   "cell_type": "code",
   "execution_count": 6,
   "metadata": {},
   "outputs": [
    {
     "name": "stdout",
     "output_type": "stream",
     "text": [
      "CPU times: user 7min 35s, sys: 9.05 s, total: 7min 44s\n",
      "Wall time: 7min 22s\n"
     ]
    }
   ],
   "source": [
    "keys = jax.random.split(jax.random.PRNGKey(20), num=n_sims)\n",
    "%time data = jax.vmap(gamma_pop_model_censored)(keys, theta)"
   ]
  },
  {
   "cell_type": "code",
   "execution_count": 7,
   "metadata": {},
   "outputs": [],
   "source": [
    "outdir = '/data80/makinen/fishnets/gamma_pop/data/'\n",
    "np.save(outdir + 'data_censored_ndata_10k', data)\n",
    "np.save(outdir + 'theta_censored_ndata_10k', theta)"
   ]
  },
  {
   "cell_type": "code",
   "execution_count": 9,
   "metadata": {},
   "outputs": [],
   "source": []
  },
  {
   "cell_type": "markdown",
   "metadata": {},
   "source": [
    "# load in pretrained model"
   ]
  },
  {
   "cell_type": "code",
   "execution_count": 8,
   "metadata": {},
   "outputs": [],
   "source": [
    "outdir = '/data80/makinen/fishnets/gamma_pop/data/'\n",
    "\n",
    "data = np.load(outdir + 'data_censored_ndata_10k.npy')\n",
    "theta = np.load(outdir + 'theta_censored_ndata_10k.npy')"
   ]
  },
  {
   "cell_type": "code",
   "execution_count": 9,
   "metadata": {},
   "outputs": [],
   "source": [
    "n_sims = 5000\n",
    "n_data = 10000\n",
    "\n",
    "datamax = 500. #np.max(data[:, :, 1])\n",
    "datamin = 25. #np.min(data[:, :, 1])\n",
    "tmax = 10.\n",
    "#datamax = 592.\n",
    "\n",
    "full_data = np.zeros((n_sims,n_data,2))\n",
    "full_data[:, :, 0] = data[:, :, 0] / tmax\n",
    "full_data[:, :, 1] = data[:, :, 1] / datamax\n",
    "data = full_data; del full_data"
   ]
  },
  {
   "cell_type": "code",
   "execution_count": 10,
   "metadata": {},
   "outputs": [],
   "source": [
    "import numpy as np\n",
    "\n",
    "n_theta = 2\n",
    "\n",
    "tmax=10. # days\n",
    "serum_max_val=4.0\n",
    "\n",
    "theta_fid = tf.constant([5.0, 0.8], dtype=tf.float32) \n",
    "theta_fid_ = theta_fid.numpy()\n",
    "\n",
    "# stack up the data and parameters\n",
    "data = tf.convert_to_tensor(data, dtype=tf.float32)\n",
    "theta = tf.convert_to_tensor(theta, dtype=tf.float32)\n",
    "\n",
    "# construct masks\n",
    "score_mask = np.ones((n_sims, n_data, n_theta))\n",
    "fisher_mask = np.ones((n_sims, n_data, n_theta, n_theta))\n",
    "\n",
    "\n",
    "score_mask = tf.convert_to_tensor(score_mask, dtype=tf.float32)\n",
    "fisher_mask = tf.convert_to_tensor(fisher_mask, dtype=tf.float32)"
   ]
  },
  {
   "cell_type": "code",
   "execution_count": 11,
   "metadata": {},
   "outputs": [
    {
     "name": "stderr",
     "output_type": "stream",
     "text": [
      "/softs/python/py3mods/tensorflow/2.8.4/keras/optimizer_v2/adam.py:105: UserWarning: The `lr` argument is deprecated, use `learning_rate` instead.\n",
      "  super(Adam, self).__init__(name, **kwargs)\n"
     ]
    },
    {
     "name": "stdout",
     "output_type": "stream",
     "text": [
      "loading model\n",
      "restoring variables\n"
     ]
    }
   ],
   "source": [
    "Model = FishnetTwin(n_parameters=n_theta, \n",
    "                n_inputs=2, \n",
    "                n_hidden_score=[256, 256, 256], \n",
    "                activation_score=[tf.nn.elu, tf.nn.elu,  tf.nn.elu],\n",
    "                n_hidden_fisher=[256, 256, 256], \n",
    "                activation_fisher=[tf.nn.elu, tf.nn.elu,  tf.nn.elu],\n",
    "                optimizer=tf.keras.optimizers.Adam(lr=5e-4),\n",
    "                theta_fid=theta_fid,\n",
    "                priormu=tf.zeros(n_theta, dtype=tf.float32),\n",
    "                priorCinv=tf.eye(n_theta, dtype=tf.float32),\n",
    "                restore=True,\n",
    "                restore_filename='/data80/makinen/fishnets/gamma_pop/results/model_censored_0/checkpoint_4/model')"
   ]
  },
  {
   "cell_type": "code",
   "execution_count": 12,
   "metadata": {},
   "outputs": [
    {
     "name": "stderr",
     "output_type": "stream",
     "text": [
      "100%|██████████| 500/500 [04:53<00:00,  1.70it/s]\n"
     ]
    }
   ],
   "source": [
    "# model MLEs\n",
    "mle, F  = Model.compute_mle_(data[:10000], score_mask[:], fisher_mask[:])"
   ]
  },
  {
   "cell_type": "code",
   "execution_count": 21,
   "metadata": {},
   "outputs": [
    {
     "data": {
      "text/plain": [
       "<tf.Tensor: shape=(5000, 2), dtype=float64, numpy=\n",
       "array([[ 8.0709486 ,  1.10960698],\n",
       "       [ 5.73577642,  0.74274009],\n",
       "       [ 2.65421534,  0.44908124],\n",
       "       ...,\n",
       "       [ 0.62998915,  0.55569702],\n",
       "       [10.15709877,  0.50790673],\n",
       "       [ 7.64043713,  0.98977572]])>"
      ]
     },
     "execution_count": 21,
     "metadata": {},
     "output_type": "execute_result"
    }
   ],
   "source": [
    "mle"
   ]
  },
  {
   "cell_type": "code",
   "execution_count": 22,
   "metadata": {},
   "outputs": [
    {
     "data": {
      "image/png": "[encoded data removed]",
      "text/plain": [
       "<Figure size 432x288 with 1 Axes>"
      ]
     },
     "metadata": {
      "needs_background": "light"
     },
     "output_type": "display_data"
    },
    {
     "data": {
      "image/png": "[encoded data removed]",
      "text/plain": [
       "<Figure size 432x288 with 1 Axes>"
      ]
     },
     "metadata": {
      "needs_background": "light"
     },
     "output_type": "display_data"
    }
   ],
   "source": [
    "plt.hist(mle[:,0].numpy() - theta[:,0].numpy(), bins = 60, histtype='step', density=True, label='learned score MLE')\n",
    "plt.xlabel(r'$\\hat{\\rm mean} - \\rm{mean}$')\n",
    "plt.legend(frameon=False)\n",
    "plt.show()\n",
    "\n",
    "\n",
    "plt.hist(mle[:,1].numpy() - theta[:,1].numpy(), bins = 60, histtype='step', density=True, label='learned score MLE')\n",
    "plt.xlabel(r'$\\hat{\\rm scale} - \\rm scale$')\n",
    "plt.legend(frameon=False)\n",
    "plt.show()"
   ]
  },
  {
   "cell_type": "code",
   "execution_count": 23,
   "metadata": {},
   "outputs": [
    {
     "data": {
      "text/plain": [
       "Text(0, 0.5, 'mle mean')"
      ]
     },
     "execution_count": 23,
     "metadata": {},
     "output_type": "execute_result"
    },
    {
     "data": {
      "image/png": "[encoded data removed]",
      "text/plain": [
       "<Figure size 432x288 with 1 Axes>"
      ]
     },
     "metadata": {
      "needs_background": "light"
     },
     "output_type": "display_data"
    }
   ],
   "source": [
    "plt.scatter(theta[:10000, 0].numpy(), mle[:10000, 0].numpy(), s=1)\n",
    "plt.xlabel('mean')\n",
    "plt.ylabel('mle mean')"
   ]
  },
  {
   "cell_type": "code",
   "execution_count": 24,
   "metadata": {},
   "outputs": [
    {
     "data": {
      "text/plain": [
       "Text(0, 0.5, 'mle scale')"
      ]
     },
     "execution_count": 24,
     "metadata": {},
     "output_type": "execute_result"
    },
    {
     "data": {
      "image/png": "[encoded data removed]",
      "text/plain": [
       "<Figure size 432x288 with 1 Axes>"
      ]
     },
     "metadata": {
      "needs_background": "light"
     },
     "output_type": "display_data"
    }
   ],
   "source": [
    "plt.scatter(theta[:10000, 1].numpy(), mle[:10000, 1].numpy(), s=1)\n",
    "plt.xlabel('scale')\n",
    "plt.ylabel('mle scale')"
   ]
  },
  {
   "cell_type": "code",
   "execution_count": 18,
   "metadata": {},
   "outputs": [],
   "source": [
    "np.save('./gamma_pop/data/mle_censored_ndata_10k', mle.numpy())\n",
    "np.save('./gamma_pop/data/theta_censored_ndata_10k', theta.numpy())"
   ]
  },
  {
   "cell_type": "code",
   "execution_count": null,
   "metadata": {},
   "outputs": [],
   "source": []
  }
 ],
 "metadata": {
  "kernelspec": {
   "display_name": "Python 3",
   "language": "python",
   "name": "python3"
  },
  "language_info": {
   "codemirror_mode": {
    "name": "ipython",
    "version": 3
   },
   "file_extension": ".py",
   "mimetype": "text/x-python",
   "name": "python",
   "nbconvert_exporter": "python",
   "pygments_lexer": "ipython3",
   "version": "3.7.7"
  },
  "orig_nbformat": 4
 },
 "nbformat": 4,
 "nbformat_minor": 2
}

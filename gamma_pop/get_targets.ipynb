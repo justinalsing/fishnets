{
 "cells": [
  {
   "cell_type": "code",
   "execution_count": 24,
   "metadata": {},
   "outputs": [
    {
     "name": "stdout",
     "output_type": "stream",
     "text": [
      "/home/makinen/repositories/fishnets\n"
     ]
    }
   ],
   "source": [
    "cd /home/makinen/repositories/fishnets/"
   ]
  },
  {
   "cell_type": "code",
   "execution_count": 25,
   "metadata": {},
   "outputs": [],
   "source": [
    "import jax.numpy as jnp\n",
    "from jax import grad, jit, vmap\n",
    "from jax import random\n",
    "#import torch\n",
    "import jax\n",
    "from jax import lax\n",
    "#import jax_cosmo as jc\n",
    "import scipy.constants as cnst\n",
    "import scipy.stats as ss\n",
    "\n",
    "import matplotlib.pyplot as plt\n",
    "\n",
    "import numpy as np\n",
    "import numpyro\n",
    "import numpyro.distributions as dist\n",
    "\n",
    "import tensorflow as tf\n",
    "import tensorflow_probability as tfp\n",
    "from tqdm import trange\n",
    "from scipy import stats\n",
    "tfk = tf.keras\n",
    "\n",
    "from fishnets import *"
   ]
  },
  {
   "cell_type": "markdown",
   "metadata": {},
   "source": [
    "# first get targets for UNCENSORED data\n",
    "### do seed matching"
   ]
  },
  {
   "cell_type": "code",
   "execution_count": 3,
   "metadata": {},
   "outputs": [],
   "source": [
    "def gamma_pop_model(key, theta, \n",
    "                    n_data=500, \n",
    "                    serum_min=0.2, \n",
    "                    tmax=10.,\n",
    "                    A=500.0):\n",
    "\n",
    "  population = jnp.zeros((n_data, 2))\n",
    "  mean, scale = theta # shape, reporting delay\n",
    "  rate = 1./ scale #concentration / report_delay\n",
    "  concentration = mean / scale\n",
    "  key,rng = jax.random.split(key)\n",
    "\n",
    "  def fn(key):\n",
    "    #data,key = data_tuple\n",
    "    key,rng = jax.random.split(key)\n",
    "    decay_time = dist.Gamma(concentration=concentration, \n",
    "                           rate=rate).sample(key, ())\n",
    "\n",
    "    key,rng = jax.random.split(key)\n",
    "    measurement_time = dist.Uniform(low=0.0, high=tmax).sample(key, ())\n",
    "\n",
    "    key,rng = jax.random.split(key)\n",
    "    _lambda = A * jnp.exp(-measurement_time / decay_time )\n",
    "    measured_serum_level = dist.Poisson(rate=_lambda).sample(key, ())\n",
    "\n",
    "    #measured_serum_level += dist.Normal(loc=0.0, scale=0.2).sample(key, ())\n",
    "\n",
    "    return jnp.array([measurement_time, measured_serum_level]) #, key\n",
    "\n",
    "  # vmap without censoring\n",
    "  keys = jax.random.split(key, num=n_data)\n",
    "  population = jax.vmap(fn)(keys)\n",
    "\n",
    "  return population"
   ]
  },
  {
   "cell_type": "code",
   "execution_count": 4,
   "metadata": {},
   "outputs": [
    {
     "data": {
      "text/plain": [
       "((4, 500, 2), (4, 10000, 2))"
      ]
     },
     "execution_count": 4,
     "metadata": {},
     "output_type": "execute_result"
    }
   ],
   "source": [
    "# mean: (0.5, 10)\n",
    "# scale: (0.1, 1.5)\n",
    "# theta+fid = [5.0, 0.8]\n",
    "\n",
    "theta_targets = jnp.array([[5.1, 0.82],\n",
    "                            [3.0, 0.5],\n",
    "                            [2.0, 0.8],\n",
    "                            [8.0, 1.0],\n",
    "\n",
    "])\n",
    "\n",
    "target_key = jax.random.PRNGKey(99)\n",
    "target_keys = jax.random.split(target_key, num=4)\n",
    "\n",
    "_simulator = lambda k,t: gamma_pop_model(k,t, n_data=500)\n",
    "target_sims_500 = jax.vmap(_simulator)(target_keys, theta_targets)\n",
    "\n",
    "_simulator = lambda k,t: gamma_pop_model(k,t, n_data=10000)\n",
    "target_sims_10k = jax.vmap(_simulator)(target_keys, theta_targets)\n",
    "\n",
    "\n",
    "# save everything\n",
    "target_dir = \"/data80/makinen/fishnets/gamma_pop/uncensored_targets/\"\n",
    "\n",
    "np.save(target_dir + \"target_keys\", target_keys)\n",
    "np.save(target_dir + \"target_sims_500\", target_sims_500)\n",
    "np.save(target_dir + \"target_sims_10k\", target_sims_10k)\n",
    "\n",
    "\n",
    "target_sims_500.shape, target_sims_10k.shape\n"
   ]
  },
  {
   "cell_type": "code",
   "execution_count": 29,
   "metadata": {},
   "outputs": [],
   "source": [
    "# set up fishnets params\n",
    "n_theta = 2\n",
    "\n",
    "tmax=10. # days\n",
    "serum_max_val=4.0\n",
    "\n",
    "theta_fid = tf.constant([5.0, 0.8], dtype=tf.float32) \n",
    "theta_fid_ = theta_fid.numpy()\n",
    "\n",
    "\n",
    "def get_estimate(model_path, data, n_data, n_sims=4):\n",
    "\n",
    "    data = np.array(data)\n",
    "    # preprocess the data\n",
    "    # make data neural-net friendly\n",
    "    datamax = 500.\n",
    "    tmax = 10.\n",
    "\n",
    "    data[:, :, 0] /= tmax\n",
    "    data[:, :, 1] /= datamax\n",
    "\n",
    "    # stack up the data and parameters\n",
    "    data = tf.convert_to_tensor(data, dtype=tf.float32)\n",
    "\n",
    "\n",
    "\n",
    "    # construct masks\n",
    "    score_mask = np.ones((n_sims, n_data, n_theta))\n",
    "    fisher_mask = np.ones((n_sims, n_data, n_theta, n_theta))\n",
    "\n",
    "\n",
    "    score_mask = tf.convert_to_tensor(score_mask, dtype=tf.float32)\n",
    "    fisher_mask = tf.convert_to_tensor(fisher_mask, dtype=tf.float32)\n",
    "\n",
    "    Model = FishnetTwin(n_parameters=n_theta, \n",
    "                n_inputs=2, \n",
    "                n_hidden_score=[256, 256, 256], \n",
    "                activation_score=[tf.nn.elu, tf.nn.elu,  tf.nn.elu],\n",
    "                n_hidden_fisher=[256, 256, 256], \n",
    "                activation_fisher=[tf.nn.elu, tf.nn.elu,  tf.nn.elu],\n",
    "                optimizer=tf.keras.optimizers.Adam(lr=5e-4),\n",
    "                theta_fid=theta_fid,\n",
    "                priormu=tf.zeros(n_theta, dtype=tf.float32),\n",
    "                priorCinv=tf.eye(n_theta, dtype=tf.float32),\n",
    "                restore=True,\n",
    "                restore_filename=model_path)\n",
    "\n",
    "    mle, F  = Model.compute_mle_(data, score_mask, fisher_mask)\n",
    "\n",
    "    return mle, F"
   ]
  },
  {
   "cell_type": "code",
   "execution_count": null,
   "metadata": {},
   "outputs": [],
   "source": [
    "# load in Fishnets models to get neural summaries\n",
    "# load in whole ensemble\n",
    "parentdir = \"/data80/makinen/fishnets/gamma_pop/results/\"\n",
    "\n",
    "mles_500 = []\n",
    "Fs_500 = []\n",
    "\n",
    "mles_10k = []\n",
    "Fs_10k = []\n",
    "\n",
    "for i in range(10):\n",
    "    #  load model\n",
    "    modelpath = parentdir + \"model_%d/checkpoint_4/model\"%(i)\n",
    "\n",
    "    # do n_data=500 first\n",
    "    mle,F = get_estimate(modelpath, target_sims_500, n_data=500, n_sims=4)\n",
    "    mles_500.append(mle.numpy())\n",
    "    Fs_500.append(F.numpy())\n",
    "\n",
    "    print(\"model %d MSEs, n_data=500: \"%(i), (mle.numpy() - theta_targets)**2)\n",
    "\n",
    "    # now do n_data = 10k\n",
    "    mle,F = get_estimate(modelpath, target_sims_10k, n_data=10000, n_sims=4)\n",
    "    mles_10k.append(mle.numpy())\n",
    "    Fs_10k.append(F.numpy())\n",
    "\n",
    "    print(\"model %d MSEs, n_data=10k: \"%(i), (mle.numpy() - theta_targets)**2)\n",
    "\n",
    "\n",
    "np.save(target_dir + \"mles_500\", np.array(mles_500))\n",
    "np.save(target_dir + \"Fs_500\", np.array(Fs_500))\n",
    "\n",
    "np.save(target_dir + \"mles_10k\", np.array(mles_10k))\n",
    "np.save(target_dir + \"Fs_10k\", np.array(Fs_10k))"
   ]
  },
  {
   "cell_type": "code",
   "execution_count": 7,
   "metadata": {},
   "outputs": [
    {
     "data": {
      "text/plain": [
       "'/data80/makinen/fishnets/gamma_pop/results/'"
      ]
     },
     "execution_count": 7,
     "metadata": {},
     "output_type": "execute_result"
    }
   ],
   "source": [
    "parentdir"
   ]
  },
  {
   "cell_type": "code",
   "execution_count": 11,
   "metadata": {},
   "outputs": [
    {
     "data": {
      "text/plain": [
       "((1000, 2), (100000, 2))"
      ]
     },
     "execution_count": 11,
     "metadata": {},
     "output_type": "execute_result"
    }
   ],
   "source": [
    "datadir = \"/data80/makinen/fishnets/gamma_pop/data/\"\n",
    "\n",
    "training_theta_10k = np.load(datadir + 'theta_uncensored_10k.npy')\n",
    "training_theta_500 = np.load(datadir + 'theta_gamma_uncensored.npy')\n",
    "\n",
    "training_theta_10k.shape, training_theta_500.shape"
   ]
  },
  {
   "cell_type": "code",
   "execution_count": 12,
   "metadata": {},
   "outputs": [
    {
     "data": {
      "text/plain": [
       "'/data80/makinen/fishnets/gamma_pop/uncensored_targets/'"
      ]
     },
     "execution_count": 12,
     "metadata": {},
     "output_type": "execute_result"
    }
   ],
   "source": [
    "target_dir"
   ]
  },
  {
   "cell_type": "code",
   "execution_count": 17,
   "metadata": {},
   "outputs": [
    {
     "data": {
      "text/plain": [
       "((10, 100000, 2), (100000, 2))"
      ]
     },
     "execution_count": 17,
     "metadata": {},
     "output_type": "execute_result"
    }
   ],
   "source": [
    "# load and package all delfi training data for each model\n",
    "training_mle_500 = []\n",
    "training_theta_500 = np.load(parentdir + 'model_0/theta.npy')\n",
    "\n",
    "tranining_mle_10k = []\n",
    "training_theta_10k = np.load(parentdir + 'model_0/test_theta.npy')\n",
    "\n",
    "\n",
    "for i in range(10):\n",
    "    modelpath = parentdir + \"model_%d/checkpoint_4/\"%(i)\n",
    "\n",
    "    mle = np.load(modelpath + '/mle.npy', )\n",
    "    training_mle_500.append(mle)\n",
    "    \n",
    "\n",
    "np.save(target_dir + 'training_mle_500', np.array(training_mle_500))\n",
    "np.save(target_dir + 'training_theta_500', training_theta_500)\n",
    "\n",
    "\n",
    "np.array(training_mle_500).shape, training_theta_500.shape"
   ]
  },
  {
   "cell_type": "markdown",
   "metadata": {},
   "source": [
    "# generate some more sims of 10k"
   ]
  },
  {
   "cell_type": "code",
   "execution_count": 19,
   "metadata": {},
   "outputs": [
    {
     "data": {
      "text/plain": [
       "(5000, 10000, 2)"
      ]
     },
     "execution_count": 19,
     "metadata": {},
     "output_type": "execute_result"
    }
   ],
   "source": [
    "n_sims = 5000\n",
    "# theta = (concentration, rate)\n",
    "# mean of Gamma = concentration / rate\n",
    "key = jax.random.PRNGKey(33)\n",
    "mean = dist.Uniform(low=0.5, high=10.).sample(key, (n_sims,))\n",
    "key,rng = jax.random.split(key)\n",
    "scale = dist.Uniform(low=0.1, high=1.5).sample(key, (n_sims,))\n",
    "\n",
    "\n",
    "theta = jnp.vstack([mean, scale]).T\n",
    "\n",
    "keys = jax.random.split(jax.random.PRNGKey(0), num=n_sims)\n",
    "_simulator = lambda k,t: gamma_pop_model(k,t, n_data=10000)\n",
    "training_sims_10k = jax.vmap(_simulator)(keys, theta)\n",
    "\n",
    "# save everything\n",
    "target_dir = \"/data80/makinen/fishnets/gamma_pop/uncensored_targets/\"\n",
    "\n",
    "np.save(target_dir + \"training_sims_10k\", training_sims_10k)\n",
    "np.save(target_dir + \"training_theta_10k\", theta)\n",
    "\n",
    "training_sims_10k.shape"
   ]
  },
  {
   "cell_type": "code",
   "execution_count": 28,
   "metadata": {},
   "outputs": [
    {
     "ename": "NameError",
     "evalue": "name 'get_estimate' is not defined",
     "output_type": "error",
     "traceback": [
      "\u001b[0;31m---------------------------------------------------------------------------\u001b[0m",
      "\u001b[0;31mNameError\u001b[0m                                 Traceback (most recent call last)",
      "\u001b[0;32m<ipython-input-28-811e074d52d8>\u001b[0m in \u001b[0;36m<module>\u001b[0;34m\u001b[0m\n\u001b[1;32m     10\u001b[0m \u001b[0;34m\u001b[0m\u001b[0m\n\u001b[1;32m     11\u001b[0m     \u001b[0;31m# do n_data=500 first\u001b[0m\u001b[0;34m\u001b[0m\u001b[0;34m\u001b[0m\u001b[0;34m\u001b[0m\u001b[0m\n\u001b[0;32m---> 12\u001b[0;31m     \u001b[0mmle\u001b[0m\u001b[0;34m,\u001b[0m\u001b[0m_\u001b[0m \u001b[0;34m=\u001b[0m \u001b[0mget_estimate\u001b[0m\u001b[0;34m(\u001b[0m\u001b[0mmodelpath\u001b[0m\u001b[0;34m,\u001b[0m \u001b[0mtraining_sims_10k\u001b[0m\u001b[0;34m,\u001b[0m \u001b[0mn_data\u001b[0m\u001b[0;34m=\u001b[0m\u001b[0;36m10000\u001b[0m\u001b[0;34m,\u001b[0m \u001b[0mn_sims\u001b[0m\u001b[0;34m=\u001b[0m\u001b[0;36m5000\u001b[0m\u001b[0;34m)\u001b[0m\u001b[0;34m\u001b[0m\u001b[0;34m\u001b[0m\u001b[0m\n\u001b[0m\u001b[1;32m     13\u001b[0m     \u001b[0mmles_training_10k\u001b[0m\u001b[0;34m.\u001b[0m\u001b[0mappend\u001b[0m\u001b[0;34m(\u001b[0m\u001b[0mmle\u001b[0m\u001b[0;34m.\u001b[0m\u001b[0mnumpy\u001b[0m\u001b[0;34m(\u001b[0m\u001b[0;34m)\u001b[0m\u001b[0;34m)\u001b[0m\u001b[0;34m\u001b[0m\u001b[0;34m\u001b[0m\u001b[0m\n\u001b[1;32m     14\u001b[0m \u001b[0;34m\u001b[0m\u001b[0m\n",
      "\u001b[0;31mNameError\u001b[0m: name 'get_estimate' is not defined"
     ]
    }
   ],
   "source": [
    "# load in Fishnets models to get neural summaries\n",
    "# load in whole ensemble\n",
    "parentdir = \"/data80/makinen/fishnets/gamma_pop/results/\"\n",
    "\n",
    "mles_training_10k = []\n",
    "\n",
    "for i in range(10):\n",
    "    #  load model\n",
    "    modelpath = parentdir + \"model_new_%d/checkpoint_4/model\"%(i)\n",
    "\n",
    "    # do n_data=500 first\n",
    "    mle,_ = get_estimate(modelpath, training_sims_10k, n_data=10000, n_sims=5000)\n",
    "    mles_training_10k.append(mle.numpy())\n",
    "\n",
    "\n",
    "\n",
    "np.save(target_dir + \"mles_training_10k\", np.array(mles_training_10k))"
   ]
  },
  {
   "cell_type": "code",
   "execution_count": 21,
   "metadata": {},
   "outputs": [
    {
     "data": {
      "text/plain": [
       "(10, 5000, 2)"
      ]
     },
     "execution_count": 21,
     "metadata": {},
     "output_type": "execute_result"
    }
   ],
   "source": [
    "np.array(mles_training_10k).shape"
   ]
  },
  {
   "cell_type": "code",
   "execution_count": null,
   "metadata": {},
   "outputs": [],
   "source": []
  },
  {
   "cell_type": "markdown",
   "metadata": {},
   "source": [
    "# get estimates for new loss function"
   ]
  },
  {
   "cell_type": "code",
   "execution_count": 31,
   "metadata": {},
   "outputs": [],
   "source": [
    "# set up fishnets params\n",
    "n_theta = 2\n",
    "\n",
    "tmax=10. # days\n",
    "serum_max_val=4.0\n",
    "\n",
    "theta_fid = tf.constant([5.0, 0.8], dtype=tf.float32) \n",
    "theta_fid_ = theta_fid.numpy()\n",
    "\n",
    "\n",
    "def get_estimate(model_path, data, n_data, n_sims=4):\n",
    "\n",
    "    data = np.array(data)\n",
    "    # preprocess the data\n",
    "    # make data neural-net friendly\n",
    "    datamax = 500.\n",
    "    tmax = 10.\n",
    "\n",
    "    data[:, :, 0] /= tmax\n",
    "    data[:, :, 1] /= datamax\n",
    "\n",
    "    # stack up the data and parameters\n",
    "    data = tf.convert_to_tensor(data, dtype=tf.float32)\n",
    "\n",
    "\n",
    "\n",
    "    # construct masks\n",
    "    score_mask = np.ones((n_sims, n_data, n_theta))\n",
    "    fisher_mask = np.ones((n_sims, n_data, n_theta, n_theta))\n",
    "\n",
    "\n",
    "    score_mask = tf.convert_to_tensor(score_mask, dtype=tf.float32)\n",
    "    fisher_mask = tf.convert_to_tensor(fisher_mask, dtype=tf.float32)\n",
    "\n",
    "    Model = FishnetTwin(n_parameters=n_theta, \n",
    "                n_inputs=2, \n",
    "                n_hidden_score=[256, 256, 256], \n",
    "                activation_score=[tf.nn.elu, tf.nn.elu,  tf.nn.elu],\n",
    "                n_hidden_fisher=[256, 256, 256], \n",
    "                activation_fisher=[tf.nn.elu, tf.nn.elu,  tf.nn.elu],\n",
    "                optimizer=tf.keras.optimizers.Adam(lr=5e-4),\n",
    "                theta_fid=theta_fid,\n",
    "                priormu=tf.zeros(n_theta, dtype=tf.float32),\n",
    "                priorCinv=tf.eye(n_theta, dtype=tf.float32),\n",
    "                restore=True,\n",
    "                restore_filename=model_path)\n",
    "\n",
    "    # add in corrected loss function\n",
    "    @tf.function\n",
    "    def construct_fisher_matrix(outputs):\n",
    "        \n",
    "        Q = tfp.math.fill_triangular(outputs)\n",
    "        # EDIT: changed to + softplus(diag_part(Q))\n",
    "        L = Q - tf.linalg.diag(tf.linalg.diag_part(Q) - tf.math.softplus(tf.linalg.diag_part(Q)))\n",
    "        return tf.einsum('...ij,...jk->...ik', L, tf.transpose(L, perm=[0, 1, 3, 2]))\n",
    "\n",
    "    Model.construct_fisher_matrix = construct_fisher_matrix\n",
    "\n",
    "    mle, F  = Model.compute_mle_(data, score_mask, fisher_mask)\n",
    "\n",
    "    return mle, F"
   ]
  },
  {
   "cell_type": "code",
   "execution_count": 34,
   "metadata": {},
   "outputs": [],
   "source": [
    "# load everything\n",
    "target_dir = \"/data80/makinen/fishnets/gamma_pop/uncensored_targets/\"\n",
    "\n",
    "#np.load(target_dir + \"target_keys\", target_keys)\n",
    "target_sims_500 = np.load(target_dir + \"target_sims_500.npy\")\n",
    "target_sims_10k = np.load(target_dir + \"target_sims_10k.npy\")"
   ]
  },
  {
   "cell_type": "code",
   "execution_count": 37,
   "metadata": {},
   "outputs": [
    {
     "name": "stdout",
     "output_type": "stream",
     "text": [
      "loading model\n",
      "restoring variables\n",
      "loading model\n",
      "restoring variables\n",
      "loading model\n",
      "restoring variables\n",
      "loading model\n",
      "restoring variables\n",
      "loading model\n",
      "restoring variables\n",
      "loading model\n",
      "restoring variables\n"
     ]
    }
   ],
   "source": [
    "# load in Fishnets models to get neural summaries\n",
    "# load in whole ensemble\n",
    "parentdir = \"/data80/makinen/fishnets/gamma_pop/results/\"\n",
    "\n",
    "mles_500 = []\n",
    "Fs_500 = []\n",
    "\n",
    "mles_10k = []\n",
    "Fs_10k = []\n",
    "\n",
    "for i in range(3):\n",
    "    #  load model\n",
    "    modelpath = parentdir + \"model_new_%d/checkpoint_4/model\"%(i)\n",
    "\n",
    "    # do n_data=500 first\n",
    "    mle,F = get_estimate(modelpath, target_sims_500, n_data=500, n_sims=4)\n",
    "    mles_500.append(mle.numpy())\n",
    "    Fs_500.append(F.numpy())\n",
    "\n",
    "    #print(\"model %d MSEs, n_data=500: \"%(i), (mle.numpy() - theta_targets)**2)\n",
    "\n",
    "    # now do n_data = 10k\n",
    "    mle,F = get_estimate(modelpath, target_sims_10k, n_data=10000, n_sims=4)\n",
    "    mles_10k.append(mle.numpy())\n",
    "    Fs_10k.append(F.numpy())\n",
    "\n",
    "    #print(\"model %d MSEs, n_data=10k: \"%(i), (mle.numpy() - theta_targets)**2)\n",
    "\n",
    "\n",
    "np.save(target_dir + \"mles_new_500\", np.array(mles_500))\n",
    "np.save(target_dir + \"Fs_new_500\", np.array(Fs_500))\n",
    "\n",
    "np.save(target_dir + \"mles_new_10k\", np.array(mles_10k))\n",
    "np.save(target_dir + \"Fs_new_10k\", np.array(Fs_10k))"
   ]
  },
  {
   "cell_type": "code",
   "execution_count": 41,
   "metadata": {},
   "outputs": [
    {
     "data": {
      "text/plain": [
       "array([[[[ 2.1731221e+03, -1.6154799e+01],\n",
       "         [-1.6154799e+01,  9.8573743e+02]],\n",
       "\n",
       "        [[ 2.3752612e+03, -4.6494104e+02],\n",
       "         [-4.6494104e+02,  7.6216443e+02]],\n",
       "\n",
       "        [[ 2.6383420e+03, -7.2758179e+02],\n",
       "         [-7.2758179e+02,  6.4276801e+02]],\n",
       "\n",
       "        [[ 2.2096716e+03,  4.4178644e+02],\n",
       "         [ 4.4178644e+02,  1.1315194e+03]]],\n",
       "\n",
       "\n",
       "       [[[ 2.1663982e+03, -2.0142527e+01],\n",
       "         [-2.0142527e+01,  9.7478949e+02]],\n",
       "\n",
       "        [[ 2.3662129e+03, -4.6657794e+02],\n",
       "         [-4.6657794e+02,  7.5508069e+02]],\n",
       "\n",
       "        [[ 2.6326013e+03, -7.3103394e+02],\n",
       "         [-7.3103394e+02,  6.4046997e+02]],\n",
       "\n",
       "        [[ 2.2018975e+03,  4.2959955e+02],\n",
       "         [ 4.2959955e+02,  1.1157897e+03]]],\n",
       "\n",
       "\n",
       "       [[[ 2.2041943e+03,  6.3981237e+00],\n",
       "         [ 6.3981237e+00,  9.7821198e+02]],\n",
       "\n",
       "        [[ 2.3727341e+03, -4.1451956e+02],\n",
       "         [-4.1451956e+02,  7.0508496e+02]],\n",
       "\n",
       "        [[ 2.5751685e+03, -6.4667578e+02],\n",
       "         [-6.4667578e+02,  5.7827820e+02]],\n",
       "\n",
       "        [[ 2.2373767e+03,  4.6643713e+02],\n",
       "         [ 4.6643713e+02,  1.1364978e+03]]],\n",
       "\n",
       "\n",
       "       [[[ 2.1538840e+03, -1.2294333e+00],\n",
       "         [-1.2294333e+00,  9.5826086e+02]],\n",
       "\n",
       "        [[ 2.3385852e+03, -4.3710419e+02],\n",
       "         [-4.3710419e+02,  7.4016797e+02]],\n",
       "\n",
       "        [[ 2.5693914e+03, -6.8772412e+02],\n",
       "         [-6.8772412e+02,  6.1989850e+02]],\n",
       "\n",
       "        [[ 2.1893936e+03,  4.3992584e+02],\n",
       "         [ 4.3992584e+02,  1.1019347e+03]]],\n",
       "\n",
       "\n",
       "       [[[ 2.1703704e+03, -1.3449720e+01],\n",
       "         [-1.3449720e+01,  9.4156885e+02]],\n",
       "\n",
       "        [[ 2.3554163e+03, -4.3801105e+02],\n",
       "         [-4.3801105e+02,  7.2574756e+02]],\n",
       "\n",
       "        [[ 2.5783201e+03, -6.8700110e+02],\n",
       "         [-6.8700110e+02,  6.1442114e+02]],\n",
       "\n",
       "        [[ 2.1974175e+03,  4.2268170e+02],\n",
       "         [ 4.2268170e+02,  1.0984360e+03]]],\n",
       "\n",
       "\n",
       "       [[[ 2.1784702e+03,  3.7434042e-01],\n",
       "         [ 3.7434042e-01,  9.8925659e+02]],\n",
       "\n",
       "        [[ 2.3710432e+03, -4.4826508e+02],\n",
       "         [-4.4826508e+02,  7.6002197e+02]],\n",
       "\n",
       "        [[ 2.6303403e+03, -7.1563208e+02],\n",
       "         [-7.1563208e+02,  6.4407336e+02]],\n",
       "\n",
       "        [[ 2.2207942e+03,  4.5982233e+02],\n",
       "         [ 4.5982233e+02,  1.1364858e+03]]],\n",
       "\n",
       "\n",
       "       [[[ 2.1620271e+03, -1.4741966e+01],\n",
       "         [-1.4741966e+01,  9.6094739e+02]],\n",
       "\n",
       "        [[ 2.3536301e+03, -4.5635391e+02],\n",
       "         [-4.5635391e+02,  7.5194531e+02]],\n",
       "\n",
       "        [[ 2.6035166e+03, -7.1576929e+02],\n",
       "         [-7.1576929e+02,  6.3548590e+02]],\n",
       "\n",
       "        [[ 2.1946401e+03,  4.2382239e+02],\n",
       "         [ 4.2382239e+02,  1.0738954e+03]]],\n",
       "\n",
       "\n",
       "       [[[ 2.1886011e+03, -2.0363340e+01],\n",
       "         [-2.0363340e+01,  9.9147180e+02]],\n",
       "\n",
       "        [[ 2.3907217e+03, -4.6746729e+02],\n",
       "         [-4.6746729e+02,  7.4799713e+02]],\n",
       "\n",
       "        [[ 2.6521743e+03, -7.2429102e+02],\n",
       "         [-7.2429102e+02,  6.2863184e+02]],\n",
       "\n",
       "        [[ 2.2255852e+03,  4.3992322e+02],\n",
       "         [ 4.3992322e+02,  1.1336960e+03]]],\n",
       "\n",
       "\n",
       "       [[[ 2.2157585e+03,  1.8839211e+01],\n",
       "         [ 1.8839211e+01,  9.9503857e+02]],\n",
       "\n",
       "        [[ 2.3953018e+03, -4.2095151e+02],\n",
       "         [-4.2095151e+02,  7.3926086e+02]],\n",
       "\n",
       "        [[ 2.6176077e+03, -6.7061682e+02],\n",
       "         [-6.7061682e+02,  6.1202417e+02]],\n",
       "\n",
       "        [[ 2.2603804e+03,  4.8430667e+02],\n",
       "         [ 4.8430667e+02,  1.1551516e+03]]],\n",
       "\n",
       "\n",
       "       [[[ 2.1845957e+03, -2.9380632e+01],\n",
       "         [-2.9380632e+01,  9.7611517e+02]],\n",
       "\n",
       "        [[ 2.3928831e+03, -4.7760254e+02],\n",
       "         [-4.7760254e+02,  7.7011957e+02]],\n",
       "\n",
       "        [[ 2.6781484e+03, -7.6146130e+02],\n",
       "         [-7.6146130e+02,  6.7097717e+02]],\n",
       "\n",
       "        [[ 2.2140469e+03,  4.1942349e+02],\n",
       "         [ 4.1942349e+02,  1.0974803e+03]]]], dtype=float32)"
      ]
     },
     "execution_count": 41,
     "metadata": {},
     "output_type": "execute_result"
    }
   ],
   "source": [
    "np.load(target_dir + 'Fs_10k.npy')"
   ]
  },
  {
   "cell_type": "code",
   "execution_count": 42,
   "metadata": {},
   "outputs": [
    {
     "data": {
      "text/plain": [
       "array([[[[106.15389   ,   0.95012665],\n",
       "         [  0.95012665,  48.4604    ]],\n",
       "\n",
       "        [[119.78084   , -22.853203  ],\n",
       "         [-22.853203  ,  38.789127  ]],\n",
       "\n",
       "        [[129.72758   , -33.81417   ],\n",
       "         [-33.81417   ,  32.78931   ]],\n",
       "\n",
       "        [[110.82899   ,  19.824207  ],\n",
       "         [ 19.824207  ,  56.470917  ]]],\n",
       "\n",
       "\n",
       "       [[[107.40982   ,   0.48831248],\n",
       "         [  0.48831248,  48.3251    ]],\n",
       "\n",
       "        [[121.982475  , -23.545845  ],\n",
       "         [-23.545845  ,  39.71639   ]],\n",
       "\n",
       "        [[132.13809   , -34.94921   ],\n",
       "         [-34.94921   ,  33.873245  ]],\n",
       "\n",
       "        [[112.11726   ,  19.261057  ],\n",
       "         [ 19.261057  ,  56.2925    ]]],\n",
       "\n",
       "\n",
       "       [[[108.429436  ,   1.0730045 ],\n",
       "         [  1.0730045 ,  49.99024   ]],\n",
       "\n",
       "        [[122.88202   , -23.462118  ],\n",
       "         [-23.462118  ,  39.56526   ]],\n",
       "\n",
       "        [[132.85994   , -34.31184   ],\n",
       "         [-34.31184   ,  33.10341   ]],\n",
       "\n",
       "        [[113.34428   ,  20.778212  ],\n",
       "         [ 20.778212  ,  58.70424   ]]]], dtype=float32)"
      ]
     },
     "execution_count": 42,
     "metadata": {},
     "output_type": "execute_result"
    }
   ],
   "source": [
    "np.array(Fs_500)"
   ]
  },
  {
   "cell_type": "code",
   "execution_count": 32,
   "metadata": {},
   "outputs": [],
   "source": [
    "# load 10k training sims\n",
    "training_sims_10k = np.load('/data80/makinen/fishnets/gamma_pop/uncensored_targets/training_sims_10k.npy')\n",
    "theta_test = np.load('/data80/makinen/fishnets/gamma_pop/uncensored_targets/training_theta_10k.npy')"
   ]
  },
  {
   "cell_type": "code",
   "execution_count": 43,
   "metadata": {},
   "outputs": [],
   "source": [
    "# load in Fishnets models to get neural summaries\n",
    "# load in whole ensemble\n",
    "parentdir = \"/data80/makinen/fishnets/gamma_pop/results/\"\n",
    "\n",
    "mles_training_10k = []\n",
    "\n",
    "for i in range(3):\n",
    "    #  load model\n",
    "    modelpath = parentdir + \"model_new_%d/checkpoint_4/model\"%(i)\n",
    "\n",
    "    # do n_data=500 first\n",
    "    mle,_ = get_estimate(modelpath, training_sims_10k, n_data=10000, n_sims=5000)\n",
    "    mles_training_10k.append(mle.numpy())\n",
    "\n",
    "\n",
    "\n",
    "np.save(target_dir + \"mles_new_training_10k\", np.array(mles_training_10k))"
   ]
  },
  {
   "cell_type": "code",
   "execution_count": null,
   "metadata": {},
   "outputs": [],
   "source": []
  },
  {
   "cell_type": "markdown",
   "metadata": {},
   "source": [
    "# now for CENSORED data"
   ]
  },
  {
   "cell_type": "markdown",
   "metadata": {},
   "source": []
  }
 ],
 "metadata": {
  "kernelspec": {
   "display_name": "Python 3",
   "language": "python",
   "name": "python3"
  },
  "language_info": {
   "codemirror_mode": {
    "name": "ipython",
    "version": 3
   },
   "file_extension": ".py",
   "mimetype": "text/x-python",
   "name": "python",
   "nbconvert_exporter": "python",
   "pygments_lexer": "ipython3",
   "version": "3.7.7"
  },
  "orig_nbformat": 4
 },
 "nbformat": 4,
 "nbformat_minor": 2
}

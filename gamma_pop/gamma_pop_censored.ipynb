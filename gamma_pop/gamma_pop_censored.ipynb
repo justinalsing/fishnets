{
  "cells": [
    {
      "cell_type": "markdown",
      "metadata": {},
      "source": [
        "# CENSORED gamma population model"
      ]
    },
    {
      "cell_type": "code",
      "execution_count": 1,
      "metadata": {
        "colab": {
          "base_uri": "https://localhost:8080/"
        },
        "id": "bJyKwvMV_IBB",
        "outputId": "fe782e21-bd5b-423f-a00b-b5a4ae31dab5"
      },
      "outputs": [
        {
          "name": "stdout",
          "output_type": "stream",
          "text": [
            "/home/makinen/repositories/fishnets\n"
          ]
        }
      ],
      "source": [
        "cd /home/makinen/repositories/fishnets/"
      ]
    },
    {
      "cell_type": "code",
      "execution_count": 2,
      "metadata": {
        "id": "z78qFAwOI4eS"
      },
      "outputs": [
        {
          "name": "stderr",
          "output_type": "stream",
          "text": [
            "/softs/python/py3mods/tensorflow/2.8.4/keras/optimizer_v2/adam.py:105: UserWarning: The `lr` argument is deprecated, use `learning_rate` instead.\n",
            "  super(Adam, self).__init__(name, **kwargs)\n"
          ]
        }
      ],
      "source": [
        "import jax.numpy as jnp\n",
        "from jax import grad, jit, vmap\n",
        "from jax import random\n",
        "#import torch\n",
        "import jax\n",
        "from jax import lax\n",
        "#import jax_cosmo as jc\n",
        "import scipy.constants as cnst\n",
        "import scipy.stats as ss\n",
        "\n",
        "import matplotlib.pyplot as plt\n",
        "\n",
        "import numpy as np\n",
        "import numpyro\n",
        "import numpyro.distributions as dist\n",
        "\n",
        "import tensorflow as tf\n",
        "import tensorflow_probability as tfp\n",
        "from tqdm import trange\n",
        "from scipy import stats\n",
        "tfk = tf.keras\n",
        "\n",
        "from fishnets import *"
      ]
    },
    {
      "cell_type": "code",
      "execution_count": 3,
      "metadata": {
        "id": "d3vfPgMfRyVq"
      },
      "outputs": [],
      "source": [
        "def gamma_pop_model_censored(key, theta, \n",
        "                    n_data=500, \n",
        "                    serum_min=25., \n",
        "                    tmax=10.,\n",
        "                    A=500.0):\n",
        "\n",
        "  population = jnp.zeros((n_data, 2))\n",
        "  mean, scale = theta # shape, reporting delay\n",
        "  rate = 1./ scale #concentration / report_delay\n",
        "  concentration = mean / scale\n",
        "  key,rng = jax.random.split(key)\n",
        "\n",
        "  def fn(data_tuple):\n",
        "    data,key = data_tuple\n",
        "    key,rng = jax.random.split(key)\n",
        "    decay_time = dist.Gamma(concentration=concentration, \n",
        "                           rate=rate).sample(key, ())\n",
        "\n",
        "    key,rng = jax.random.split(key)\n",
        "    measurement_time = dist.Uniform(low=0.0, high=tmax).sample(key, ())\n",
        "\n",
        "    key,rng = jax.random.split(key)\n",
        "    _lambda = A * jnp.exp(-measurement_time / decay_time )\n",
        "    measured_serum_level = dist.Poisson(rate=_lambda).sample(key, ())\n",
        "\n",
        "    #measured_serum_level += dist.Normal(loc=0.0, scale=0.2).sample(key, ())\n",
        "\n",
        "    return jnp.array([measurement_time, measured_serum_level]), key\n",
        "\n",
        "  def cond_fun(data_tuple):\n",
        "    data,_ = data_tuple\n",
        "    return data[1] < serum_min\n",
        "\n",
        "  for i in range(population.shape[0]):\n",
        "      key,rng = jax.random.split(key)\n",
        "      #ody_fn = lambda d: fn(key=key, data=d)\n",
        "      data,_ = jax.lax.while_loop(cond_fun, fn, init_val=(jnp.ones((2,))*0, key))\n",
        "\n",
        "      population = population.at[i, :].set(data)\n",
        "\n",
        "  return population"
      ]
    },
    {
      "cell_type": "code",
      "execution_count": 4,
      "metadata": {
        "id": "W9G1kK_qGB2f"
      },
      "outputs": [],
      "source": [
        "# now generate a shitton of simulations over a prior for theta\n",
        "\n",
        "n_sims = 100000\n",
        "\n",
        "# theta = (concentration, rate)\n",
        "# mean of Gamma = concentration / rate\n",
        "key = jax.random.PRNGKey(33)\n",
        "mean = dist.Uniform(low=0.5, high=10.).sample(key, (n_sims,))\n",
        "key,rng = jax.random.split(key)\n",
        "scale = dist.Uniform(low=0.1, high=1.5).sample(key, (n_sims,))\n",
        "\n",
        "\n",
        "theta = jnp.vstack([mean, scale]).T"
      ]
    },
    {
      "cell_type": "code",
      "execution_count": 5,
      "metadata": {},
      "outputs": [
        {
          "name": "stdout",
          "output_type": "stream",
          "text": [
            "CPU times: user 1min 5s, sys: 2.59 s, total: 1min 8s\n",
            "Wall time: 1min 1s\n"
          ]
        }
      ],
      "source": [
        "# # now make sims\n",
        "keys = jax.random.split(jax.random.PRNGKey(0), num=n_sims)\n",
        "%time data = jax.vmap(gamma_pop_model_censored)(keys, theta)"
      ]
    },
    {
      "cell_type": "code",
      "execution_count": 6,
      "metadata": {},
      "outputs": [],
      "source": [
        "np.save('./gamma_pop/data_gamma_censored.npy', data)\n",
        "np.save('./gamma_pop/theta_gamma_censored.npy', theta)"
      ]
    },
    {
      "cell_type": "code",
      "execution_count": 12,
      "metadata": {},
      "outputs": [
        {
          "name": "stdout",
          "output_type": "stream",
          "text": [
            "CPU times: user 5min 6s, sys: 1.19 s, total: 5min 7s\n",
            "Wall time: 5min 3s\n"
          ]
        }
      ],
      "source": [
        "# # now make sims\n",
        "keys = jax.random.split(jax.random.PRNGKey(0), num=n_sims)\n",
        "%time data = jax.vmap(gamma_pop_model_censored)(keys, theta)\n",
        "\n",
        "np.save('./gamma_pop/data_gamma_censored.npy', data)\n",
        "np.save('./gamma_pop/theta_gamma_censored.npy', theta)"
      ]
    },
    {
      "cell_type": "code",
      "execution_count": 8,
      "metadata": {},
      "outputs": [
        {
          "data": {
            "text/plain": [
              "DeviceArray(25., dtype=float32)"
            ]
          },
          "execution_count": 8,
          "metadata": {},
          "output_type": "execute_result"
        }
      ],
      "source": [
        "np.min(data[:, :, 1])"
      ]
    },
    {
      "cell_type": "code",
      "execution_count": 10,
      "metadata": {},
      "outputs": [],
      "source": [
        "np.save('/data80/makinen/fishnets/gamma_pop/data/data_gamma_censored.npy', data)\n",
        "np.save('/data80/makinen/fishnets/gamma_pop/data/theta_gamma_censored.npy', theta)"
      ]
    },
    {
      "cell_type": "markdown",
      "metadata": {
        "id": "wd4ZMCIN5bSj"
      },
      "source": [
        "# fishnets models"
      ]
    },
    {
      "cell_type": "code",
      "execution_count": 4,
      "metadata": {},
      "outputs": [],
      "source": [
        "n_sims = 100000\n",
        "\n",
        "data = np.load('/data80/makinen/fishnets/gamma_pop/data/data_gamma_censored.npy')\n",
        "theta = np.load('/data80/makinen/fishnets/gamma_pop/data/theta_gamma_censored.npy')"
      ]
    },
    {
      "cell_type": "code",
      "execution_count": 5,
      "metadata": {},
      "outputs": [],
      "source": [
        "n_sims = 100000\n",
        "n_data = 500\n",
        "n_theta = 2\n",
        "\n",
        "datamax = 500. #np.max(data[:, :, 1])\n",
        "datamin = 25. #np.min(data[:, :, 1])\n",
        "tmax = 10.\n",
        "\n",
        "full_data = np.zeros((n_sims,n_data,n_theta))\n",
        "full_data[:, :, 0] = data[:, :, 0] / tmax\n",
        "full_data[:, :, 1] = data[:, :, 1] / datamax\n",
        "data = full_data; del full_data"
      ]
    },
    {
      "cell_type": "code",
      "execution_count": 6,
      "metadata": {
        "id": "ggnCDHHO4vzj"
      },
      "outputs": [],
      "source": [
        "import numpy as np\n",
        "\n",
        "n_sims = 100000\n",
        "n_data = 500\n",
        "n_theta = 2\n",
        "\n",
        "tmax=10. # days\n",
        "serum_max_val=4.0\n",
        "\n",
        "theta_fid = tf.constant([5.0, 0.8], dtype=tf.float32) \n",
        "theta_fid_ = theta_fid.numpy()\n",
        "\n",
        "# stack up the data and parameters\n",
        "data = tf.convert_to_tensor(data, dtype=tf.float32)\n",
        "theta = tf.convert_to_tensor(theta, dtype=tf.float32)\n",
        "\n",
        "# construct masks\n",
        "score_mask = np.ones((n_sims, n_data, n_theta))\n",
        "fisher_mask = np.ones((n_sims, n_data, n_theta, n_theta))\n",
        "\n",
        "\n",
        "score_mask = tf.convert_to_tensor(score_mask, dtype=tf.float32)\n",
        "fisher_mask = tf.convert_to_tensor(fisher_mask, dtype=tf.float32)"
      ]
    },
    {
      "cell_type": "code",
      "execution_count": 7,
      "metadata": {
        "id": "5XrQF-BQ5l8t"
      },
      "outputs": [],
      "source": [
        "Model = FishnetTwin(n_parameters=n_theta, \n",
        "                n_inputs=2, \n",
        "                n_hidden_score=[256, 256, 256], \n",
        "                activation_score=[tf.nn.elu, tf.nn.elu,  tf.nn.elu],\n",
        "                n_hidden_fisher=[256, 256, 256], \n",
        "                activation_fisher=[tf.nn.elu, tf.nn.elu,  tf.nn.elu],\n",
        "                optimizer=tf.keras.optimizers.Adam(lr=5e-4),\n",
        "                theta_fid=theta_fid,\n",
        "                priormu=tf.zeros(n_theta, dtype=tf.float32),\n",
        "                priorCinv=tf.eye(n_theta, dtype=tf.float32))"
      ]
    },
    {
      "cell_type": "code",
      "execution_count": 8,
      "metadata": {
        "colab": {
          "base_uri": "https://localhost:8080/"
        },
        "id": "M2nrrYXt6H-s",
        "outputId": "db699dde-0484-4ddb-f309-75fd95f2553a"
      },
      "outputs": [
        {
          "name": "stderr",
          "output_type": "stream",
          "text": [
            "100%|██████████| 100/100 [40:42<00:00, 24.42s/it, loss=-2.35] \n",
            " 79%|███████▉  | 79/100 [32:13<08:33, 24.47s/it, loss=-2.72]\n"
          ]
        },
        {
          "ename": "KeyboardInterrupt",
          "evalue": "",
          "output_type": "error",
          "traceback": [
            "\u001b[0;31m---------------------------------------------------------------------------\u001b[0m",
            "\u001b[0;31mKeyboardInterrupt\u001b[0m                         Traceback (most recent call last)",
            "\u001b[0;32m<ipython-input-8-9f2aae658a31>\u001b[0m in \u001b[0;36m<module>\u001b[0;34m\u001b[0m\n\u001b[1;32m      1\u001b[0m \u001b[0mModel\u001b[0m\u001b[0;34m.\u001b[0m\u001b[0mtrain\u001b[0m\u001b[0;34m(\u001b[0m\u001b[0;34m(\u001b[0m\u001b[0mdata\u001b[0m\u001b[0;34m,\u001b[0m \u001b[0mtheta\u001b[0m\u001b[0;34m,\u001b[0m \u001b[0mscore_mask\u001b[0m\u001b[0;34m,\u001b[0m \u001b[0mfisher_mask\u001b[0m\u001b[0;34m)\u001b[0m\u001b[0;34m,\u001b[0m \u001b[0mlr\u001b[0m\u001b[0;34m=\u001b[0m\u001b[0;36m1e-3\u001b[0m\u001b[0;34m,\u001b[0m \u001b[0mepochs\u001b[0m\u001b[0;34m=\u001b[0m\u001b[0;36m100\u001b[0m\u001b[0;34m,\u001b[0m \u001b[0mlossfn\u001b[0m\u001b[0;34m=\u001b[0m\u001b[0;34m'kl'\u001b[0m\u001b[0;34m)\u001b[0m\u001b[0;34m\u001b[0m\u001b[0;34m\u001b[0m\u001b[0m\n\u001b[0;32m----> 2\u001b[0;31m \u001b[0mModel\u001b[0m\u001b[0;34m.\u001b[0m\u001b[0mtrain\u001b[0m\u001b[0;34m(\u001b[0m\u001b[0;34m(\u001b[0m\u001b[0mdata\u001b[0m\u001b[0;34m,\u001b[0m \u001b[0mtheta\u001b[0m\u001b[0;34m,\u001b[0m \u001b[0mscore_mask\u001b[0m\u001b[0;34m,\u001b[0m \u001b[0mfisher_mask\u001b[0m\u001b[0;34m)\u001b[0m\u001b[0;34m,\u001b[0m \u001b[0mlr\u001b[0m\u001b[0;34m=\u001b[0m\u001b[0;36m5e-4\u001b[0m\u001b[0;34m,\u001b[0m \u001b[0mepochs\u001b[0m\u001b[0;34m=\u001b[0m\u001b[0;36m100\u001b[0m\u001b[0;34m,\u001b[0m \u001b[0mlossfn\u001b[0m\u001b[0;34m=\u001b[0m\u001b[0;34m'kl'\u001b[0m\u001b[0;34m)\u001b[0m\u001b[0;34m\u001b[0m\u001b[0;34m\u001b[0m\u001b[0m\n\u001b[0m\u001b[1;32m      3\u001b[0m \u001b[0mModel\u001b[0m\u001b[0;34m.\u001b[0m\u001b[0mtrain\u001b[0m\u001b[0;34m(\u001b[0m\u001b[0;34m(\u001b[0m\u001b[0mdata\u001b[0m\u001b[0;34m,\u001b[0m \u001b[0mtheta\u001b[0m\u001b[0;34m,\u001b[0m \u001b[0mscore_mask\u001b[0m\u001b[0;34m,\u001b[0m \u001b[0mfisher_mask\u001b[0m\u001b[0;34m)\u001b[0m\u001b[0;34m,\u001b[0m \u001b[0mlr\u001b[0m\u001b[0;34m=\u001b[0m\u001b[0;36m1e-4\u001b[0m\u001b[0;34m,\u001b[0m \u001b[0mepochs\u001b[0m\u001b[0;34m=\u001b[0m\u001b[0;36m200\u001b[0m\u001b[0;34m,\u001b[0m \u001b[0mlossfn\u001b[0m\u001b[0;34m=\u001b[0m\u001b[0;34m'kl'\u001b[0m\u001b[0;34m)\u001b[0m\u001b[0;34m\u001b[0m\u001b[0;34m\u001b[0m\u001b[0m\n\u001b[1;32m      4\u001b[0m \u001b[0mModel\u001b[0m\u001b[0;34m.\u001b[0m\u001b[0mtrain\u001b[0m\u001b[0;34m(\u001b[0m\u001b[0;34m(\u001b[0m\u001b[0mdata\u001b[0m\u001b[0;34m,\u001b[0m \u001b[0mtheta\u001b[0m\u001b[0;34m,\u001b[0m \u001b[0mscore_mask\u001b[0m\u001b[0;34m,\u001b[0m \u001b[0mfisher_mask\u001b[0m\u001b[0;34m)\u001b[0m\u001b[0;34m,\u001b[0m \u001b[0mlr\u001b[0m\u001b[0;34m=\u001b[0m\u001b[0;36m5e-5\u001b[0m\u001b[0;34m,\u001b[0m \u001b[0mepochs\u001b[0m\u001b[0;34m=\u001b[0m\u001b[0;36m200\u001b[0m\u001b[0;34m,\u001b[0m \u001b[0mlossfn\u001b[0m\u001b[0;34m=\u001b[0m\u001b[0;34m'kl'\u001b[0m\u001b[0;34m)\u001b[0m\u001b[0;34m\u001b[0m\u001b[0;34m\u001b[0m\u001b[0m\n",
            "\u001b[0;32m~/repositories/fishnets/fishnets.py\u001b[0m in \u001b[0;36mtrain\u001b[0;34m(self, training_data, epochs, lr, batch_size, lossfn)\u001b[0m\n\u001b[1;32m    482\u001b[0m             \u001b[0;32mfor\u001b[0m \u001b[0mepoch\u001b[0m \u001b[0;32min\u001b[0m \u001b[0mprogress\u001b[0m\u001b[0;34m:\u001b[0m\u001b[0;34m\u001b[0m\u001b[0;34m\u001b[0m\u001b[0m\n\u001b[1;32m    483\u001b[0m                 \u001b[0;32mfor\u001b[0m \u001b[0minputs_\u001b[0m\u001b[0;34m,\u001b[0m \u001b[0mparameters_\u001b[0m\u001b[0;34m,\u001b[0m \u001b[0mscore_mask_\u001b[0m\u001b[0;34m,\u001b[0m \u001b[0mfisher_mask_\u001b[0m \u001b[0;32min\u001b[0m \u001b[0mdataset\u001b[0m\u001b[0;34m.\u001b[0m\u001b[0mshuffle\u001b[0m\u001b[0;34m(\u001b[0m\u001b[0mbuffer_size\u001b[0m\u001b[0;34m=\u001b[0m\u001b[0mlen\u001b[0m\u001b[0;34m(\u001b[0m\u001b[0mdataset\u001b[0m\u001b[0;34m)\u001b[0m\u001b[0;34m)\u001b[0m\u001b[0;34m.\u001b[0m\u001b[0mbatch\u001b[0m\u001b[0;34m(\u001b[0m\u001b[0mbatch_size\u001b[0m\u001b[0;34m)\u001b[0m\u001b[0;34m:\u001b[0m\u001b[0;34m\u001b[0m\u001b[0;34m\u001b[0m\u001b[0m\n\u001b[0;32m--> 484\u001b[0;31m                     \u001b[0mloss\u001b[0m\u001b[0;34m,\u001b[0m \u001b[0mgradients\u001b[0m \u001b[0;34m=\u001b[0m \u001b[0mself\u001b[0m\u001b[0;34m.\u001b[0m\u001b[0mcompute_loss_and_gradients\u001b[0m\u001b[0;34m(\u001b[0m\u001b[0minputs_\u001b[0m\u001b[0;34m,\u001b[0m \u001b[0mparameters_\u001b[0m\u001b[0;34m,\u001b[0m \u001b[0mscore_mask_\u001b[0m\u001b[0;34m,\u001b[0m \u001b[0mfisher_mask_\u001b[0m\u001b[0;34m,\u001b[0m \u001b[0mlossfn\u001b[0m\u001b[0;34m=\u001b[0m\u001b[0mlossfn\u001b[0m\u001b[0;34m)\u001b[0m\u001b[0;34m\u001b[0m\u001b[0;34m\u001b[0m\u001b[0m\n\u001b[0m\u001b[1;32m    485\u001b[0m                     \u001b[0mself\u001b[0m\u001b[0;34m.\u001b[0m\u001b[0moptimizer\u001b[0m\u001b[0;34m.\u001b[0m\u001b[0mapply_gradients\u001b[0m\u001b[0;34m(\u001b[0m\u001b[0mzip\u001b[0m\u001b[0;34m(\u001b[0m\u001b[0mgradients\u001b[0m\u001b[0;34m,\u001b[0m \u001b[0mself\u001b[0m\u001b[0;34m.\u001b[0m\u001b[0mtrainable_variables\u001b[0m\u001b[0;34m)\u001b[0m\u001b[0;34m)\u001b[0m\u001b[0;34m\u001b[0m\u001b[0;34m\u001b[0m\u001b[0m\n\u001b[1;32m    486\u001b[0m                     \u001b[0mlosses\u001b[0m\u001b[0;34m.\u001b[0m\u001b[0mappend\u001b[0m\u001b[0;34m(\u001b[0m\u001b[0mloss\u001b[0m\u001b[0;34m.\u001b[0m\u001b[0mnumpy\u001b[0m\u001b[0;34m(\u001b[0m\u001b[0;34m)\u001b[0m\u001b[0;34m)\u001b[0m\u001b[0;34m\u001b[0m\u001b[0;34m\u001b[0m\u001b[0m\n",
            "\u001b[0;32m~/repositories/fishnets/fishnets.py\u001b[0m in \u001b[0;36mcompute_loss_and_gradients\u001b[0;34m(self, inputs, parameters, score_mask, fisher_mask, lossfn)\u001b[0m\n\u001b[1;32m    448\u001b[0m                 \u001b[0;31m# calculate loss and gradients\u001b[0m\u001b[0;34m\u001b[0m\u001b[0;34m\u001b[0m\u001b[0;34m\u001b[0m\u001b[0m\n\u001b[1;32m    449\u001b[0m                 \u001b[0;32mif\u001b[0m \u001b[0mlossfn\u001b[0m \u001b[0;34m==\u001b[0m \u001b[0;34m'kl'\u001b[0m\u001b[0;34m:\u001b[0m\u001b[0;34m\u001b[0m\u001b[0;34m\u001b[0m\u001b[0m\n\u001b[0;32m--> 450\u001b[0;31m                     \u001b[0mloss\u001b[0m\u001b[0;34m,\u001b[0m \u001b[0mgradients\u001b[0m \u001b[0;34m=\u001b[0m \u001b[0mself\u001b[0m\u001b[0;34m.\u001b[0m\u001b[0mloss_and_gradients_kl\u001b[0m\u001b[0;34m(\u001b[0m\u001b[0minputs_\u001b[0m\u001b[0;34m,\u001b[0m \u001b[0mparameters_\u001b[0m\u001b[0;34m,\u001b[0m \u001b[0mscore_mask_\u001b[0m\u001b[0;34m,\u001b[0m \u001b[0mfisher_mask_\u001b[0m\u001b[0;34m)\u001b[0m\u001b[0;34m\u001b[0m\u001b[0;34m\u001b[0m\u001b[0m\n\u001b[0m\u001b[1;32m    451\u001b[0m                 \u001b[0;32melse\u001b[0m\u001b[0;34m:\u001b[0m\u001b[0;34m\u001b[0m\u001b[0;34m\u001b[0m\u001b[0m\n\u001b[1;32m    452\u001b[0m                     \u001b[0mloss\u001b[0m\u001b[0;34m,\u001b[0m \u001b[0mgradients\u001b[0m \u001b[0;34m=\u001b[0m \u001b[0mself\u001b[0m\u001b[0;34m.\u001b[0m\u001b[0mloss_and_gradients_mse\u001b[0m\u001b[0;34m(\u001b[0m\u001b[0minputs_\u001b[0m\u001b[0;34m,\u001b[0m \u001b[0mparameters_\u001b[0m\u001b[0;34m,\u001b[0m \u001b[0mscore_mask_\u001b[0m\u001b[0;34m,\u001b[0m \u001b[0mfisher_mask_\u001b[0m\u001b[0;34m)\u001b[0m\u001b[0;34m\u001b[0m\u001b[0;34m\u001b[0m\u001b[0m\n",
            "\u001b[0;32m/softs/python/py3mods/tensorflow/2.8.4/tensorflow/python/util/traceback_utils.py\u001b[0m in \u001b[0;36merror_handler\u001b[0;34m(*args, **kwargs)\u001b[0m\n\u001b[1;32m    148\u001b[0m     \u001b[0mfiltered_tb\u001b[0m \u001b[0;34m=\u001b[0m \u001b[0;32mNone\u001b[0m\u001b[0;34m\u001b[0m\u001b[0;34m\u001b[0m\u001b[0m\n\u001b[1;32m    149\u001b[0m     \u001b[0;32mtry\u001b[0m\u001b[0;34m:\u001b[0m\u001b[0;34m\u001b[0m\u001b[0;34m\u001b[0m\u001b[0m\n\u001b[0;32m--> 150\u001b[0;31m       \u001b[0;32mreturn\u001b[0m \u001b[0mfn\u001b[0m\u001b[0;34m(\u001b[0m\u001b[0;34m*\u001b[0m\u001b[0margs\u001b[0m\u001b[0;34m,\u001b[0m \u001b[0;34m**\u001b[0m\u001b[0mkwargs\u001b[0m\u001b[0;34m)\u001b[0m\u001b[0;34m\u001b[0m\u001b[0;34m\u001b[0m\u001b[0m\n\u001b[0m\u001b[1;32m    151\u001b[0m     \u001b[0;32mexcept\u001b[0m \u001b[0mException\u001b[0m \u001b[0;32mas\u001b[0m \u001b[0me\u001b[0m\u001b[0;34m:\u001b[0m\u001b[0;34m\u001b[0m\u001b[0;34m\u001b[0m\u001b[0m\n\u001b[1;32m    152\u001b[0m       \u001b[0mfiltered_tb\u001b[0m \u001b[0;34m=\u001b[0m \u001b[0m_process_traceback_frames\u001b[0m\u001b[0;34m(\u001b[0m\u001b[0me\u001b[0m\u001b[0;34m.\u001b[0m\u001b[0m__traceback__\u001b[0m\u001b[0;34m)\u001b[0m\u001b[0;34m\u001b[0m\u001b[0;34m\u001b[0m\u001b[0m\n",
            "\u001b[0;32m/softs/python/py3mods/tensorflow/2.8.4/tensorflow/python/eager/def_function.py\u001b[0m in \u001b[0;36m__call__\u001b[0;34m(self, *args, **kwds)\u001b[0m\n\u001b[1;32m    913\u001b[0m \u001b[0;34m\u001b[0m\u001b[0m\n\u001b[1;32m    914\u001b[0m       \u001b[0;32mwith\u001b[0m \u001b[0mOptionalXlaContext\u001b[0m\u001b[0;34m(\u001b[0m\u001b[0mself\u001b[0m\u001b[0;34m.\u001b[0m\u001b[0m_jit_compile\u001b[0m\u001b[0;34m)\u001b[0m\u001b[0;34m:\u001b[0m\u001b[0;34m\u001b[0m\u001b[0;34m\u001b[0m\u001b[0m\n\u001b[0;32m--> 915\u001b[0;31m         \u001b[0mresult\u001b[0m \u001b[0;34m=\u001b[0m \u001b[0mself\u001b[0m\u001b[0;34m.\u001b[0m\u001b[0m_call\u001b[0m\u001b[0;34m(\u001b[0m\u001b[0;34m*\u001b[0m\u001b[0margs\u001b[0m\u001b[0;34m,\u001b[0m \u001b[0;34m**\u001b[0m\u001b[0mkwds\u001b[0m\u001b[0;34m)\u001b[0m\u001b[0;34m\u001b[0m\u001b[0;34m\u001b[0m\u001b[0m\n\u001b[0m\u001b[1;32m    916\u001b[0m \u001b[0;34m\u001b[0m\u001b[0m\n\u001b[1;32m    917\u001b[0m       \u001b[0mnew_tracing_count\u001b[0m \u001b[0;34m=\u001b[0m \u001b[0mself\u001b[0m\u001b[0;34m.\u001b[0m\u001b[0mexperimental_get_tracing_count\u001b[0m\u001b[0;34m(\u001b[0m\u001b[0;34m)\u001b[0m\u001b[0;34m\u001b[0m\u001b[0;34m\u001b[0m\u001b[0m\n",
            "\u001b[0;32m/softs/python/py3mods/tensorflow/2.8.4/tensorflow/python/eager/def_function.py\u001b[0m in \u001b[0;36m_call\u001b[0;34m(self, *args, **kwds)\u001b[0m\n\u001b[1;32m    952\u001b[0m       \u001b[0;31m# In this case we have not created variables on the first call. So we can\u001b[0m\u001b[0;34m\u001b[0m\u001b[0;34m\u001b[0m\u001b[0;34m\u001b[0m\u001b[0m\n\u001b[1;32m    953\u001b[0m       \u001b[0;31m# run the first trace but we should fail if variables are created.\u001b[0m\u001b[0;34m\u001b[0m\u001b[0;34m\u001b[0m\u001b[0;34m\u001b[0m\u001b[0m\n\u001b[0;32m--> 954\u001b[0;31m       \u001b[0mresults\u001b[0m \u001b[0;34m=\u001b[0m \u001b[0mself\u001b[0m\u001b[0;34m.\u001b[0m\u001b[0m_stateful_fn\u001b[0m\u001b[0;34m(\u001b[0m\u001b[0;34m*\u001b[0m\u001b[0margs\u001b[0m\u001b[0;34m,\u001b[0m \u001b[0;34m**\u001b[0m\u001b[0mkwds\u001b[0m\u001b[0;34m)\u001b[0m\u001b[0;34m\u001b[0m\u001b[0;34m\u001b[0m\u001b[0m\n\u001b[0m\u001b[1;32m    955\u001b[0m       \u001b[0;32mif\u001b[0m \u001b[0mself\u001b[0m\u001b[0;34m.\u001b[0m\u001b[0m_created_variables\u001b[0m \u001b[0;32mand\u001b[0m \u001b[0;32mnot\u001b[0m \u001b[0mALLOW_DYNAMIC_VARIABLE_CREATION\u001b[0m\u001b[0;34m:\u001b[0m\u001b[0;34m\u001b[0m\u001b[0;34m\u001b[0m\u001b[0m\n\u001b[1;32m    956\u001b[0m         raise ValueError(\"Creating variables on a non-first call to a function\"\n",
            "\u001b[0;32m/softs/python/py3mods/tensorflow/2.8.4/tensorflow/python/eager/function.py\u001b[0m in \u001b[0;36m__call__\u001b[0;34m(self, *args, **kwargs)\u001b[0m\n\u001b[1;32m   2955\u001b[0m        filtered_flat_args) = self._maybe_define_function(args, kwargs)\n\u001b[1;32m   2956\u001b[0m     return graph_function._call_flat(\n\u001b[0;32m-> 2957\u001b[0;31m         filtered_flat_args, captured_inputs=graph_function.captured_inputs)  # pylint: disable=protected-access\n\u001b[0m\u001b[1;32m   2958\u001b[0m \u001b[0;34m\u001b[0m\u001b[0m\n\u001b[1;32m   2959\u001b[0m   \u001b[0;34m@\u001b[0m\u001b[0mproperty\u001b[0m\u001b[0;34m\u001b[0m\u001b[0;34m\u001b[0m\u001b[0m\n",
            "\u001b[0;32m/softs/python/py3mods/tensorflow/2.8.4/tensorflow/python/eager/function.py\u001b[0m in \u001b[0;36m_call_flat\u001b[0;34m(self, args, captured_inputs, cancellation_manager)\u001b[0m\n\u001b[1;32m   1852\u001b[0m       \u001b[0;31m# No tape is watching; skip to running the function.\u001b[0m\u001b[0;34m\u001b[0m\u001b[0;34m\u001b[0m\u001b[0;34m\u001b[0m\u001b[0m\n\u001b[1;32m   1853\u001b[0m       return self._build_call_outputs(self._inference_function.call(\n\u001b[0;32m-> 1854\u001b[0;31m           ctx, args, cancellation_manager=cancellation_manager))\n\u001b[0m\u001b[1;32m   1855\u001b[0m     forward_backward = self._select_forward_and_backward_functions(\n\u001b[1;32m   1856\u001b[0m         \u001b[0margs\u001b[0m\u001b[0;34m,\u001b[0m\u001b[0;34m\u001b[0m\u001b[0;34m\u001b[0m\u001b[0m\n",
            "\u001b[0;32m/softs/python/py3mods/tensorflow/2.8.4/tensorflow/python/eager/function.py\u001b[0m in \u001b[0;36mcall\u001b[0;34m(self, ctx, args, cancellation_manager)\u001b[0m\n\u001b[1;32m    502\u001b[0m               \u001b[0minputs\u001b[0m\u001b[0;34m=\u001b[0m\u001b[0margs\u001b[0m\u001b[0;34m,\u001b[0m\u001b[0;34m\u001b[0m\u001b[0;34m\u001b[0m\u001b[0m\n\u001b[1;32m    503\u001b[0m               \u001b[0mattrs\u001b[0m\u001b[0;34m=\u001b[0m\u001b[0mattrs\u001b[0m\u001b[0;34m,\u001b[0m\u001b[0;34m\u001b[0m\u001b[0;34m\u001b[0m\u001b[0m\n\u001b[0;32m--> 504\u001b[0;31m               ctx=ctx)\n\u001b[0m\u001b[1;32m    505\u001b[0m         \u001b[0;32melse\u001b[0m\u001b[0;34m:\u001b[0m\u001b[0;34m\u001b[0m\u001b[0;34m\u001b[0m\u001b[0m\n\u001b[1;32m    506\u001b[0m           outputs = execute.execute_with_cancellation(\n",
            "\u001b[0;32m/softs/python/py3mods/tensorflow/2.8.4/tensorflow/python/eager/execute.py\u001b[0m in \u001b[0;36mquick_execute\u001b[0;34m(op_name, num_outputs, inputs, attrs, ctx, name)\u001b[0m\n\u001b[1;32m     53\u001b[0m     \u001b[0mctx\u001b[0m\u001b[0;34m.\u001b[0m\u001b[0mensure_initialized\u001b[0m\u001b[0;34m(\u001b[0m\u001b[0;34m)\u001b[0m\u001b[0;34m\u001b[0m\u001b[0;34m\u001b[0m\u001b[0m\n\u001b[1;32m     54\u001b[0m     tensors = pywrap_tfe.TFE_Py_Execute(ctx._handle, device_name, op_name,\n\u001b[0;32m---> 55\u001b[0;31m                                         inputs, attrs, num_outputs)\n\u001b[0m\u001b[1;32m     56\u001b[0m   \u001b[0;32mexcept\u001b[0m \u001b[0mcore\u001b[0m\u001b[0;34m.\u001b[0m\u001b[0m_NotOkStatusException\u001b[0m \u001b[0;32mas\u001b[0m \u001b[0me\u001b[0m\u001b[0;34m:\u001b[0m\u001b[0;34m\u001b[0m\u001b[0;34m\u001b[0m\u001b[0m\n\u001b[1;32m     57\u001b[0m     \u001b[0;32mif\u001b[0m \u001b[0mname\u001b[0m \u001b[0;32mis\u001b[0m \u001b[0;32mnot\u001b[0m \u001b[0;32mNone\u001b[0m\u001b[0;34m:\u001b[0m\u001b[0;34m\u001b[0m\u001b[0;34m\u001b[0m\u001b[0m\n",
            "\u001b[0;31mKeyboardInterrupt\u001b[0m: "
          ]
        }
      ],
      "source": [
        "Model.train((data, theta, score_mask, fisher_mask), lr=1e-3, epochs=100, lossfn='kl')\n",
        "Model.train((data, theta, score_mask, fisher_mask), lr=5e-4, epochs=100, lossfn='kl')\n",
        "Model.train((data, theta, score_mask, fisher_mask), lr=1e-4, epochs=200, lossfn='kl')\n",
        "Model.train((data, theta, score_mask, fisher_mask), lr=5e-5, epochs=200, lossfn='kl')"
      ]
    },
    {
      "cell_type": "code",
      "execution_count": null,
      "metadata": {},
      "outputs": [],
      "source": [
        "Model.train((data, theta, score_mask, fisher_mask), lr=5e-5, epochs=300, lossfn='kl')"
      ]
    },
    {
      "cell_type": "code",
      "execution_count": 9,
      "metadata": {},
      "outputs": [
        {
          "name": "stderr",
          "output_type": "stream",
          "text": [
            "100%|██████████| 50/50 [00:03<00:00, 13.47it/s]\n"
          ]
        }
      ],
      "source": [
        "# model MLEs\n",
        "mle, F  = Model.compute_mle_(data[:10000], score_mask[:10000], fisher_mask[:10000])"
      ]
    },
    {
      "cell_type": "code",
      "execution_count": 13,
      "metadata": {},
      "outputs": [
        {
          "data": {
            "image/png": "[encoded data removed]",
            "text/plain": [
              "<Figure size 432x288 with 1 Axes>"
            ]
          },
          "metadata": {
            "needs_background": "light"
          },
          "output_type": "display_data"
        },
        {
          "data": {
            "image/png": "[encoded data removed]",
            "text/plain": [
              "<Figure size 432x288 with 1 Axes>"
            ]
          },
          "metadata": {
            "needs_background": "light"
          },
          "output_type": "display_data"
        }
      ],
      "source": [
        "#plt.hist(mle_flow[:,0].numpy() - theta[:,0].numpy(), bins = 60, histtype='step', density=True, label='flow score MLE')\n",
        "plt.hist(mle[:10000,0].numpy() - theta[:10000,0].numpy(), bins = 60, histtype='step', density=True, label='learned score MLE')\n",
        "plt.xlabel(r'$\\hat{\\rm mean} - \\rm{mean}$')\n",
        "plt.legend(frameon=False)\n",
        "plt.show()\n",
        "\n",
        "\n",
        "#plt.hist(mle_flow[:,1].numpy() - theta[:,1].numpy(), bins = 60, histtype='step', density=True, label='flow score MLE')\n",
        "plt.hist(mle[:10000,1].numpy() - theta[:10000,1].numpy(), bins = 60, histtype='step', density=True, label='learned score MLE')\n",
        "plt.xlabel(r'$\\hat{\\rm scale} - \\rm scale$')\n",
        "plt.legend(frameon=False)\n",
        "plt.show()"
      ]
    },
    {
      "cell_type": "code",
      "execution_count": 14,
      "metadata": {},
      "outputs": [
        {
          "data": {
            "text/plain": [
              "<matplotlib.collections.PathCollection at 0x7fc9dc5c4bd0>"
            ]
          },
          "execution_count": 14,
          "metadata": {},
          "output_type": "execute_result"
        },
        {
          "data": {
            "image/png": "[encoded data removed]",
            "text/plain": [
              "<Figure size 432x288 with 1 Axes>"
            ]
          },
          "metadata": {
            "needs_background": "light"
          },
          "output_type": "display_data"
        }
      ],
      "source": [
        "plt.scatter(theta[:10000, 0].numpy(), mle[:10000, 0].numpy(), s=1)"
      ]
    },
    {
      "cell_type": "code",
      "execution_count": 15,
      "metadata": {},
      "outputs": [
        {
          "data": {
            "text/plain": [
              "<matplotlib.collections.PathCollection at 0x7fc9dc52e210>"
            ]
          },
          "execution_count": 15,
          "metadata": {},
          "output_type": "execute_result"
        },
        {
          "data": {
            "image/png": "[encoded data removed]",
            "text/plain": [
              "<Figure size 432x288 with 1 Axes>"
            ]
          },
          "metadata": {
            "needs_background": "light"
          },
          "output_type": "display_data"
        }
      ],
      "source": [
        "plt.scatter(theta[:10000, 1].numpy(), mle[:10000, 1].numpy(), s=1)"
      ]
    },
    {
      "cell_type": "code",
      "execution_count": 41,
      "metadata": {},
      "outputs": [
        {
          "data": {
            "text/plain": [
              "(2.729305, 0.11074221940520282)"
            ]
          },
          "execution_count": 41,
          "metadata": {},
          "output_type": "execute_result"
        }
      ],
      "source": [
        "np.std(theta[:10000, 0].numpy()), np.std(mle[:10000,0].numpy() - theta[:10000,0].numpy())"
      ]
    },
    {
      "cell_type": "code",
      "execution_count": 42,
      "metadata": {},
      "outputs": [
        {
          "data": {
            "text/plain": [
              "(0.4017106, 0.10501746343159045)"
            ]
          },
          "execution_count": 42,
          "metadata": {},
          "output_type": "execute_result"
        }
      ],
      "source": [
        "np.std(theta[:10000, 1]), np.std(mle[:10000,1].numpy() - theta[:10000,1].numpy())"
      ]
    },
    {
      "cell_type": "code",
      "execution_count": null,
      "metadata": {},
      "outputs": [],
      "source": []
    },
    {
      "cell_type": "code",
      "execution_count": 17,
      "metadata": {},
      "outputs": [
        {
          "data": {
            "text/plain": [
              "(array([ 21.,  57., 125., 186., 214., 196., 202., 241., 179., 226., 210.,\n",
              "        207., 217., 208., 196., 211., 216., 204., 177., 204., 221., 230.,\n",
              "        208., 225., 199., 232., 200., 230., 204., 199., 224., 193., 214.,\n",
              "        211., 201., 203., 219., 188., 213., 214., 207., 201., 200., 190.,\n",
              "        189., 191., 186., 165., 132., 112.,  78.,  65.,  66.,  30.,  20.,\n",
              "         20.,  10.,   7.,   4.,   2.]),\n",
              " array([0.4523078 , 0.47324708, 0.4941864 , 0.5151257 , 0.536065  ,\n",
              "        0.5570043 , 0.5779436 , 0.5988829 , 0.6198222 , 0.6407615 ,\n",
              "        0.6617008 , 0.6826401 , 0.7035794 , 0.7245187 , 0.745458  ,\n",
              "        0.7663973 , 0.7873366 , 0.8082759 , 0.8292152 , 0.8501545 ,\n",
              "        0.8710938 , 0.8920331 , 0.9129724 , 0.93391174, 0.95485103,\n",
              "        0.9757903 , 0.9967296 , 1.017669  , 1.0386082 , 1.0595475 ,\n",
              "        1.0804868 , 1.1014261 , 1.1223655 , 1.1433047 , 1.164244  ,\n",
              "        1.1851833 , 1.2061226 , 1.2270619 , 1.2480012 , 1.2689406 ,\n",
              "        1.2898798 , 1.3108191 , 1.3317584 , 1.3526977 , 1.3736371 ,\n",
              "        1.3945763 , 1.4155157 , 1.4364549 , 1.4573942 , 1.4783336 ,\n",
              "        1.4992728 , 1.5202122 , 1.5411514 , 1.5620908 , 1.58303   ,\n",
              "        1.6039693 , 1.6249087 , 1.6458479 , 1.6667873 , 1.6877265 ,\n",
              "        1.7086658 ], dtype=float32),\n",
              " <BarContainer object of 60 artists>)"
            ]
          },
          "execution_count": 17,
          "metadata": {},
          "output_type": "execute_result"
        },
        {
          "data": {
            "image/png": "[encoded data removed]",
            "text/plain": [
              "<Figure size 432x288 with 1 Axes>"
            ]
          },
          "metadata": {
            "needs_background": "light"
          },
          "output_type": "display_data"
        }
      ],
      "source": [
        "plt.hist(theta[:, 0].numpy() / theta[:, 1].numpy(), bins=60)"
      ]
    },
    {
      "cell_type": "code",
      "execution_count": null,
      "metadata": {},
      "outputs": [],
      "source": [
        "\n",
        "key = jax.random.PRNGKey(88)\n",
        "\n",
        "concentration = 2.0\n",
        "rate = 20.\n",
        "tmax = 10.\n",
        "\n",
        "A=1.0\n",
        "\n",
        "key,rng = jax.random.split(key)\n",
        "decay_time = dist.Gamma(concentration=concentration, \n",
        "                        rate=rate).sample(key, (10000,))\n",
        "\n",
        "key,rng = jax.random.split(key)\n",
        "measurement_time = dist.Uniform(low=0.0, high=tmax).sample(key, (10000,))\n",
        "\n",
        "key,rng = jax.random.split(key)\n",
        "_lambda = A * jnp.exp(-measurement_time / decay_time )\n",
        "measured_serum_level = dist.Poisson(rate=_lambda).sample(key, ())"
      ]
    },
    {
      "cell_type": "code",
      "execution_count": null,
      "metadata": {},
      "outputs": [],
      "source": [
        "np.linspace(1, 10)"
      ]
    },
    {
      "cell_type": "code",
      "execution_count": null,
      "metadata": {},
      "outputs": [],
      "source": [
        "rate"
      ]
    },
    {
      "cell_type": "code",
      "execution_count": null,
      "metadata": {},
      "outputs": [],
      "source": [
        "concentration = 4.0\n",
        "report_delay = 3 # days\n",
        "rate = concentration / report_delay\n",
        "tmax = 10.\n",
        "\n",
        "A=1.0\n",
        "\n",
        "key,rng = jax.random.split(key)\n",
        "decay_time = dist.Gamma(concentration=concentration, \n",
        "                        rate=rate).sample(key, (10000,))\n",
        "plt.hist(np.array(decay_time), bins=60)\n",
        "\n",
        "\n",
        "# concentration = 2.0\n",
        "# rate = 2.0 / 10\n",
        "\n",
        "# decay_time = dist.Gamma(concentration=concentration, \n",
        "#                         rate=rate).sample(key, (10000,))\n",
        "# plt.hist(np.array(decay_time), bins=60)"
      ]
    },
    {
      "cell_type": "code",
      "execution_count": null,
      "metadata": {},
      "outputs": [],
      "source": [
        "plt.hist(np.array(decay_time), bins=60)"
      ]
    },
    {
      "cell_type": "code",
      "execution_count": 13,
      "metadata": {},
      "outputs": [],
      "source": [
        "tfd = tfp.distributions\n",
        "tfb = tfp.bijectors"
      ]
    },
    {
      "cell_type": "code",
      "execution_count": 15,
      "metadata": {},
      "outputs": [],
      "source": [
        "maf = tfd.TransformedDistribution(\n",
        "    distribution=tfd.Sample(\n",
        "        tfd.Normal(loc=0., scale=1.), sample_shape=[2]),\n",
        "    bijector=tfb.MaskedAutoregressiveFlow(\n",
        "        shift_and_log_scale_fn=tfb.AutoregressiveNetwork(\n",
        "            params=2, hidden_units=[512, 512])))"
      ]
    },
    {
      "cell_type": "code",
      "execution_count": 16,
      "metadata": {},
      "outputs": [
        {
          "ename": "AttributeError",
          "evalue": "can't set attribute",
          "output_type": "error",
          "traceback": [
            "\u001b[0;31m---------------------------------------------------------------------------\u001b[0m",
            "\u001b[0;31mAttributeError\u001b[0m                            Traceback (most recent call last)",
            "\u001b[0;32m<ipython-input-16-7ff6c3bc33e5>\u001b[0m in \u001b[0;36m<module>\u001b[0;34m\u001b[0m\n\u001b[1;32m      1\u001b[0m maf.distribution = tfd.Sample(\n\u001b[0;32m----> 2\u001b[0;31m         tfd.Normal(loc=0., scale=3.), sample_shape=[2])\n\u001b[0m",
            "\u001b[0;32m/softs/python/py3mods/tensorflow/2.8.4/tensorflow/python/training/tracking/autotrackable.py\u001b[0m in \u001b[0;36m__setattr__\u001b[0;34m(self, name, value)\u001b[0m\n\u001b[1;32m     67\u001b[0m       value = data_structures.sticky_attribute_assignment(\n\u001b[1;32m     68\u001b[0m           trackable=self, value=value, name=name)\n\u001b[0;32m---> 69\u001b[0;31m     \u001b[0msuper\u001b[0m\u001b[0;34m(\u001b[0m\u001b[0mAutoTrackable\u001b[0m\u001b[0;34m,\u001b[0m \u001b[0mself\u001b[0m\u001b[0;34m)\u001b[0m\u001b[0;34m.\u001b[0m\u001b[0m__setattr__\u001b[0m\u001b[0;34m(\u001b[0m\u001b[0mname\u001b[0m\u001b[0;34m,\u001b[0m \u001b[0mvalue\u001b[0m\u001b[0;34m)\u001b[0m\u001b[0;34m\u001b[0m\u001b[0;34m\u001b[0m\u001b[0m\n\u001b[0m\u001b[1;32m     70\u001b[0m \u001b[0;34m\u001b[0m\u001b[0m\n\u001b[1;32m     71\u001b[0m   \u001b[0;32mdef\u001b[0m \u001b[0m__delattr__\u001b[0m\u001b[0;34m(\u001b[0m\u001b[0mself\u001b[0m\u001b[0;34m,\u001b[0m \u001b[0mname\u001b[0m\u001b[0;34m)\u001b[0m\u001b[0;34m:\u001b[0m\u001b[0;34m\u001b[0m\u001b[0;34m\u001b[0m\u001b[0m\n",
            "\u001b[0;31mAttributeError\u001b[0m: can't set attribute"
          ]
        }
      ],
      "source": [
        "maf.distribution = tfd.Sample(\n",
        "        tfd.Normal(loc=0., scale=3.), sample_shape=[2])"
      ]
    },
    {
      "cell_type": "code",
      "execution_count": 17,
      "metadata": {},
      "outputs": [],
      "source": [
        "maf._distribution = tfd.Sample(\n",
        "        tfd.Normal(loc=0., scale=3.), sample_shape=[2])"
      ]
    },
    {
      "cell_type": "code",
      "execution_count": 26,
      "metadata": {},
      "outputs": [
        {
          "data": {
            "text/plain": [
              "TensorShape([10000, 2, 2])"
            ]
          },
          "execution_count": 26,
          "metadata": {},
          "output_type": "execute_result"
        }
      ],
      "source": [
        "F.shape"
      ]
    },
    {
      "cell_type": "code",
      "execution_count": 66,
      "metadata": {},
      "outputs": [],
      "source": [
        "mydist = tfd.Sample(\n",
        "        tfd.MultivariateNormalFullCovariance(loc=0., \n",
        "        covariance_matrix=F[:]), sample_shape=[])"
      ]
    },
    {
      "cell_type": "code",
      "execution_count": 67,
      "metadata": {},
      "outputs": [
        {
          "data": {
            "text/plain": [
              "(10000, 2)"
            ]
          },
          "execution_count": 67,
          "metadata": {},
          "output_type": "execute_result"
        }
      ],
      "source": [
        "mydist.sample().numpy().shape"
      ]
    },
    {
      "cell_type": "code",
      "execution_count": 60,
      "metadata": {},
      "outputs": [
        {
          "data": {
            "text/plain": [
              "(array([[ 2.,  8.,  7., 22., 17., 18., 16.,  7.,  2.,  1.],\n",
              "        [ 0.,  0.,  1., 18., 47., 30.,  4.,  0.,  0.,  0.]]),\n",
              " array([-24.42128302, -19.23787973, -14.05447645,  -8.87107316,\n",
              "         -3.68766988,   1.4957334 ,   6.67913669,  11.86253997,\n",
              "         17.04594326,  22.22934654,  27.41274983]),\n",
              " <a list of 2 BarContainer objects>)"
            ]
          },
          "execution_count": 60,
          "metadata": {},
          "output_type": "execute_result"
        },
        {
          "data": {
            "image/png": "[encoded data removed]",
            "text/plain": [
              "<Figure size 432x288 with 1 Axes>"
            ]
          },
          "metadata": {
            "needs_background": "light"
          },
          "output_type": "display_data"
        }
      ],
      "source": [
        "plt.hist(mydist.sample((100,)).numpy()[:, 0])"
      ]
    },
    {
      "cell_type": "code",
      "execution_count": 25,
      "metadata": {},
      "outputs": [
        {
          "data": {
            "text/plain": [
              "(array([ 2.,  2.,  4.,  9., 10.,  7.,  4.,  3.,  7.,  2.]),\n",
              " array([-1.1977313 , -0.96494275, -0.73215425, -0.49936578, -0.2665773 ,\n",
              "        -0.0337888 ,  0.19899969,  0.43178818,  0.66457665,  0.89736515,\n",
              "         1.1301537 ], dtype=float32),\n",
              " <BarContainer object of 10 artists>)"
            ]
          },
          "execution_count": 25,
          "metadata": {},
          "output_type": "execute_result"
        },
        {
          "data": {
            "image/png": "[encoded data removed]",
            "text/plain": [
              "<Figure size 432x288 with 1 Axes>"
            ]
          },
          "metadata": {
            "needs_background": "light"
          },
          "output_type": "display_data"
        }
      ],
      "source": [
        "maf = tfd.TransformedDistribution(\n",
        "    distribution=tfd.Sample(\n",
        "        tfd.Normal(loc=0., scale=1.), sample_shape=[2]),\n",
        "    bijector=tfb.MaskedAutoregressiveFlow(\n",
        "        shift_and_log_scale_fn=tfb.AutoregressiveNetwork(\n",
        "            params=2, hidden_units=[512, 512])))\n",
        "\n",
        "\n",
        "plt.hist(maf.distribution.sample((50,)).numpy()[:, 0])\n",
        "\n",
        "\n",
        "maf._distribution = tfd.Sample(\n",
        "        tfd.Normal(loc=0., scale=0.5), sample_shape=[2])\n",
        "plt.hist(maf.distribution.sample((50,)).numpy()[:, 0])"
      ]
    },
    {
      "cell_type": "code",
      "execution_count": null,
      "metadata": {},
      "outputs": [],
      "source": []
    }
  ],
  "metadata": {
    "accelerator": "GPU",
    "colab": {
      "machine_shape": "hm",
      "provenance": []
    },
    "gpuClass": "standard",
    "kernelspec": {
      "display_name": "Python 3",
      "language": "python",
      "name": "python3"
    },
    "language_info": {
      "codemirror_mode": {
        "name": "ipython",
        "version": 3
      },
      "file_extension": ".py",
      "mimetype": "text/x-python",
      "name": "python",
      "nbconvert_exporter": "python",
      "pygments_lexer": "ipython3",
      "version": "3.7.7"
    }
  },
  "nbformat": 4,
  "nbformat_minor": 0
}

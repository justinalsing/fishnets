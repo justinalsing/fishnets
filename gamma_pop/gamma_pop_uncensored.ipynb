{
  "cells": [
    {
      "cell_type": "markdown",
      "metadata": {},
      "source": [
        "# uncensored gamma population model"
      ]
    },
    {
      "cell_type": "code",
      "execution_count": 1,
      "metadata": {
        "colab": {
          "base_uri": "https://localhost:8080/"
        },
        "id": "bJyKwvMV_IBB",
        "outputId": "fe782e21-bd5b-423f-a00b-b5a4ae31dab5"
      },
      "outputs": [
        {
          "name": "stdout",
          "output_type": "stream",
          "text": [
            "/home/makinen/repositories/fishnets\n"
          ]
        }
      ],
      "source": [
        "cd /home/makinen/repositories/fishnets/"
      ]
    },
    {
      "cell_type": "code",
      "execution_count": 2,
      "metadata": {
        "id": "z78qFAwOI4eS"
      },
      "outputs": [
        {
          "name": "stderr",
          "output_type": "stream",
          "text": [
            "/softs/python/py3mods/tensorflow/2.8.4/keras/optimizer_v2/adam.py:105: UserWarning: The `lr` argument is deprecated, use `learning_rate` instead.\n",
            "  super(Adam, self).__init__(name, **kwargs)\n"
          ]
        }
      ],
      "source": [
        "import jax.numpy as jnp\n",
        "from jax import grad, jit, vmap\n",
        "from jax import random\n",
        "#import torch\n",
        "import jax\n",
        "from jax import lax\n",
        "#import jax_cosmo as jc\n",
        "import scipy.constants as cnst\n",
        "import scipy.stats as ss\n",
        "\n",
        "import matplotlib.pyplot as plt\n",
        "\n",
        "import numpy as np\n",
        "import numpyro\n",
        "import numpyro.distributions as dist\n",
        "\n",
        "import tensorflow as tf\n",
        "import tensorflow_probability as tfp\n",
        "from tqdm import trange\n",
        "from scipy import stats\n",
        "tfk = tf.keras\n",
        "\n",
        "from fishnets import *"
      ]
    },
    {
      "cell_type": "code",
      "execution_count": 3,
      "metadata": {
        "id": "d3vfPgMfRyVq"
      },
      "outputs": [],
      "source": [
        "def gamma_pop_model(key, theta, \n",
        "                    n_data=500, \n",
        "                    serum_min=0.2, \n",
        "                    tmax=10.,\n",
        "                    A=500.0):\n",
        "\n",
        "  population = jnp.zeros((n_data, 2))\n",
        "  mean, scale = theta # shape, reporting delay\n",
        "  rate = 1./ scale #concentration / report_delay\n",
        "  concentration = mean / scale\n",
        "  key,rng = jax.random.split(key)\n",
        "\n",
        "  def fn(key):\n",
        "    #data,key = data_tuple\n",
        "    key,rng = jax.random.split(key)\n",
        "    decay_time = dist.Gamma(concentration=concentration, \n",
        "                           rate=rate).sample(key, ())\n",
        "\n",
        "    key,rng = jax.random.split(key)\n",
        "    measurement_time = dist.Uniform(low=0.0, high=tmax).sample(key, ())\n",
        "\n",
        "    key,rng = jax.random.split(key)\n",
        "    _lambda = A * jnp.exp(-measurement_time / decay_time )\n",
        "    measured_serum_level = dist.Poisson(rate=_lambda).sample(key, ())\n",
        "\n",
        "    #measured_serum_level += dist.Normal(loc=0.0, scale=0.2).sample(key, ())\n",
        "\n",
        "    return jnp.array([measurement_time, measured_serum_level]) #, key\n",
        "\n",
        "  # vmap without censoring\n",
        "  keys = jax.random.split(key, num=n_data)\n",
        "  population = jax.vmap(fn)(keys)\n",
        "\n",
        "  return population"
      ]
    },
    {
      "cell_type": "code",
      "execution_count": 4,
      "metadata": {
        "id": "W9G1kK_qGB2f"
      },
      "outputs": [],
      "source": [
        "# now generate a shitton of simulations over a prior for theta\n",
        "\n",
        "n_sims = 100000\n",
        "\n",
        "# theta = (concentration, rate)\n",
        "# mean of Gamma = concentration / rate\n",
        "key = jax.random.PRNGKey(33)\n",
        "mean = dist.Uniform(low=0.5, high=10.).sample(key, (n_sims,))\n",
        "key,rng = jax.random.split(key)\n",
        "scale = dist.Uniform(low=0.1, high=1.5).sample(key, (n_sims,))\n",
        "\n",
        "\n",
        "theta = jnp.vstack([mean, scale]).T"
      ]
    },
    {
      "cell_type": "code",
      "execution_count": 5,
      "metadata": {},
      "outputs": [
        {
          "name": "stdout",
          "output_type": "stream",
          "text": [
            "CPU times: user 9.54 s, sys: 2.42 s, total: 12 s\n",
            "Wall time: 4.68 s\n"
          ]
        }
      ],
      "source": [
        "# # now make sims\n",
        "keys = jax.random.split(jax.random.PRNGKey(0), num=n_sims)\n",
        "%time data = jax.vmap(gamma_pop_model)(keys, theta)"
      ]
    },
    {
      "cell_type": "code",
      "execution_count": 6,
      "metadata": {},
      "outputs": [
        {
          "data": {
            "text/plain": [
              "(array([17.,  7.,  9.,  5., 15., 17., 13.,  9.,  9., 14., 16., 12.,  9.,\n",
              "        15., 13., 13., 12., 12., 17., 13., 14., 12.,  9.,  7., 14.,  8.,\n",
              "        13., 15., 14.,  6.,  5., 11.,  9.,  7.,  5.,  7.,  6.,  5.,  9.,\n",
              "         4.,  5.,  8.,  6.,  8.,  3.,  1.,  1.,  7.,  6.,  6.,  4.,  2.,\n",
              "         2.,  2.,  3.,  2.,  1.,  4.,  1.,  1.]),\n",
              " array([  0.      ,   8.883333,  17.766666,  26.65    ,  35.533333,\n",
              "         44.416668,  53.3     ,  62.183334,  71.066666,  79.95    ,\n",
              "         88.833336,  97.71667 , 106.6     , 115.48333 , 124.36667 ,\n",
              "        133.25    , 142.13333 , 151.01666 , 159.9     , 168.78334 ,\n",
              "        177.66667 , 186.55    , 195.43333 , 204.31667 , 213.2     ,\n",
              "        222.08333 , 230.96666 , 239.85    , 248.73334 , 257.61667 ,\n",
              "        266.5     , 275.38333 , 284.26666 , 293.15    , 302.03333 ,\n",
              "        310.91666 , 319.8     , 328.68332 , 337.56668 , 346.45    ,\n",
              "        355.33334 , 364.21667 , 373.1     , 381.98334 , 390.86667 ,\n",
              "        399.75    , 408.63333 , 417.51666 , 426.4     , 435.28333 ,\n",
              "        444.16666 , 453.05    , 461.93332 , 470.81668 , 479.7     ,\n",
              "        488.58334 , 497.46667 , 506.35    , 515.23334 , 524.11664 ,\n",
              "        533.      ], dtype=float32),\n",
              " <BarContainer object of 60 artists>)"
            ]
          },
          "execution_count": 6,
          "metadata": {},
          "output_type": "execute_result"
        },
        {
          "data": {
            "image/png": "[encoded data removed]",
            "text/plain": [
              "<Figure size 432x288 with 1 Axes>"
            ]
          },
          "metadata": {
            "needs_background": "light"
          },
          "output_type": "display_data"
        }
      ],
      "source": [
        "plt.hist(np.array(data[200, :, 1]), bins=60)"
      ]
    },
    {
      "cell_type": "code",
      "execution_count": 7,
      "metadata": {},
      "outputs": [],
      "source": [
        "np.save('./gamma_pop/data_gamma_uncensored.npy', data)\n",
        "np.save('./gamma_pop/theta_gamma_uncensored.npy', theta)"
      ]
    },
    {
      "cell_type": "markdown",
      "metadata": {
        "id": "wd4ZMCIN5bSj"
      },
      "source": [
        "# fishnets models"
      ]
    },
    {
      "cell_type": "code",
      "execution_count": 3,
      "metadata": {},
      "outputs": [],
      "source": [
        "n_sims = 100000\n",
        "datadir = \"/data80/makinen/fishnets/gamma_pop/data/\"\n",
        "\n",
        "# load theta and data\n",
        "theta = np.load(datadir + 'theta_gamma_uncensored.npy')\n",
        "data = np.load(datadir + 'data_gamma_uncensored.npy')"
      ]
    },
    {
      "cell_type": "code",
      "execution_count": 4,
      "metadata": {},
      "outputs": [],
      "source": [
        "datamax = 500. #np.max(data[:, :, 1])\n",
        "tmax = 10.\n",
        "\n",
        "full_data = np.zeros((100000,500,2))\n",
        "full_data[:, :, 0] = data[:, :, 0] / tmax\n",
        "full_data[:, :, 1] = data[:, :, 1] / datamax\n",
        "#full_data[:, :, 2] = x1\n",
        "#full_data[:, :, 3] = x2; del data\n",
        "data = full_data"
      ]
    },
    {
      "cell_type": "code",
      "execution_count": 5,
      "metadata": {
        "id": "ggnCDHHO4vzj"
      },
      "outputs": [],
      "source": [
        "import numpy as np\n",
        "\n",
        "n_sims = 100000\n",
        "n_data = 500\n",
        "n_theta = 2\n",
        "\n",
        "tmax=10. # days\n",
        "serum_max_val=4.0\n",
        "\n",
        "theta_fid = tf.constant([5.0, 0.8], dtype=tf.float32) \n",
        "theta_fid_ = theta_fid.numpy()\n",
        "\n",
        "# stack up the data and parameters\n",
        "data = tf.convert_to_tensor(data, dtype=tf.float32)\n",
        "theta = tf.convert_to_tensor(theta, dtype=tf.float32)\n",
        "\n",
        "# construct masks\n",
        "score_mask = np.ones((n_sims, n_data, n_theta))\n",
        "fisher_mask = np.ones((n_sims, n_data, n_theta, n_theta))\n",
        "\n",
        "\n",
        "score_mask = tf.convert_to_tensor(score_mask, dtype=tf.float32)\n",
        "fisher_mask = tf.convert_to_tensor(fisher_mask, dtype=tf.float32)"
      ]
    },
    {
      "cell_type": "code",
      "execution_count": 19,
      "metadata": {
        "id": "5XrQF-BQ5l8t"
      },
      "outputs": [
        {
          "name": "stderr",
          "output_type": "stream",
          "text": [
            "/softs/python/py3mods/tensorflow/2.8.4/keras/optimizer_v2/adam.py:105: UserWarning: The `lr` argument is deprecated, use `learning_rate` instead.\n",
            "  super(Adam, self).__init__(name, **kwargs)\n"
          ]
        }
      ],
      "source": [
        "Model = FishnetTwin(n_parameters=n_theta, \n",
        "                n_inputs=2, \n",
        "                n_hidden_score=[256, 256, 256], \n",
        "                activation_score=[tf.nn.elu, tf.nn.elu,  tf.nn.elu],\n",
        "                n_hidden_fisher=[256, 256, 256], \n",
        "                activation_fisher=[tf.nn.elu, tf.nn.elu,  tf.nn.elu],\n",
        "                optimizer=tf.keras.optimizers.Adam(lr=5e-4),\n",
        "                theta_fid=theta_fid,\n",
        "                priormu=tf.zeros(n_theta, dtype=tf.float32),\n",
        "                priorCinv=tf.eye(n_theta, dtype=tf.float32))"
      ]
    },
    {
      "cell_type": "code",
      "execution_count": 22,
      "metadata": {},
      "outputs": [],
      "source": [
        "# new fisher function calculaion\n",
        "@tf.function\n",
        "def construct_fisher_matrix(outputs):\n",
        "    \n",
        "    Q = tfp.math.fill_triangular(outputs)\n",
        "    # EDIT: changed to + softplus(diag_part(Q))\n",
        "    L = Q - tf.linalg.diag(tf.linalg.diag_part(Q) - tf.math.softplus(tf.linalg.diag_part(Q)))\n",
        "    return tf.einsum('...ij,...jk->...ik', L, tf.transpose(L, perm=[0, 1, 3, 2]))\n",
        "\n",
        "Model.construct_fisher_matrix = construct_fisher_matrix"
      ]
    },
    {
      "cell_type": "code",
      "execution_count": 23,
      "metadata": {},
      "outputs": [
        {
          "name": "stderr",
          "output_type": "stream",
          "text": [
            "  0%|          | 0/300 [00:15<?, ?it/s, loss=3.21]\n"
          ]
        },
        {
          "ename": "KeyboardInterrupt",
          "evalue": "",
          "output_type": "error",
          "traceback": [
            "\u001b[0;31m---------------------------------------------------------------------------\u001b[0m",
            "\u001b[0;31mKeyboardInterrupt\u001b[0m                         Traceback (most recent call last)",
            "\u001b[0;32m<ipython-input-23-ef00fbc7d905>\u001b[0m in \u001b[0;36m<module>\u001b[0;34m\u001b[0m\n\u001b[0;32m----> 1\u001b[0;31m \u001b[0mModel\u001b[0m\u001b[0;34m.\u001b[0m\u001b[0mtrain\u001b[0m\u001b[0;34m(\u001b[0m\u001b[0;34m(\u001b[0m\u001b[0mdata\u001b[0m\u001b[0;34m,\u001b[0m \u001b[0mtheta\u001b[0m\u001b[0;34m,\u001b[0m \u001b[0mscore_mask\u001b[0m\u001b[0;34m,\u001b[0m \u001b[0mfisher_mask\u001b[0m\u001b[0;34m)\u001b[0m\u001b[0;34m,\u001b[0m \u001b[0mlr\u001b[0m\u001b[0;34m=\u001b[0m\u001b[0;36m5e-5\u001b[0m\u001b[0;34m,\u001b[0m \u001b[0mepochs\u001b[0m\u001b[0;34m=\u001b[0m\u001b[0;36m300\u001b[0m\u001b[0;34m,\u001b[0m \u001b[0mlossfn\u001b[0m\u001b[0;34m=\u001b[0m\u001b[0;34m'kl'\u001b[0m\u001b[0;34m)\u001b[0m\u001b[0;34m\u001b[0m\u001b[0;34m\u001b[0m\u001b[0m\n\u001b[0m",
            "\u001b[0;32m~/repositories/fishnets/fishnets.py\u001b[0m in \u001b[0;36mtrain\u001b[0;34m(self, training_data, epochs, lr, batch_size, lossfn)\u001b[0m\n\u001b[1;32m    481\u001b[0m         \u001b[0mdataset\u001b[0m \u001b[0;34m=\u001b[0m \u001b[0mtf\u001b[0m\u001b[0;34m.\u001b[0m\u001b[0mdata\u001b[0m\u001b[0;34m.\u001b[0m\u001b[0mDataset\u001b[0m\u001b[0;34m.\u001b[0m\u001b[0mfrom_tensor_slices\u001b[0m\u001b[0;34m(\u001b[0m\u001b[0mtraining_data\u001b[0m\u001b[0;34m)\u001b[0m\u001b[0;34m\u001b[0m\u001b[0;34m\u001b[0m\u001b[0m\n\u001b[1;32m    482\u001b[0m         \u001b[0;32mwith\u001b[0m \u001b[0mtrange\u001b[0m\u001b[0;34m(\u001b[0m\u001b[0mepochs\u001b[0m\u001b[0;34m)\u001b[0m \u001b[0;32mas\u001b[0m \u001b[0mprogress\u001b[0m\u001b[0;34m:\u001b[0m\u001b[0;34m\u001b[0m\u001b[0;34m\u001b[0m\u001b[0m\n\u001b[0;32m--> 483\u001b[0;31m             \u001b[0;32mfor\u001b[0m \u001b[0mepoch\u001b[0m \u001b[0;32min\u001b[0m \u001b[0mprogress\u001b[0m\u001b[0;34m:\u001b[0m\u001b[0;34m\u001b[0m\u001b[0;34m\u001b[0m\u001b[0m\n\u001b[0m\u001b[1;32m    484\u001b[0m                 \u001b[0;32mfor\u001b[0m \u001b[0minputs_\u001b[0m\u001b[0;34m,\u001b[0m \u001b[0mparameters_\u001b[0m\u001b[0;34m,\u001b[0m \u001b[0mscore_mask_\u001b[0m\u001b[0;34m,\u001b[0m \u001b[0mfisher_mask_\u001b[0m \u001b[0;32min\u001b[0m \u001b[0mdataset\u001b[0m\u001b[0;34m.\u001b[0m\u001b[0mshuffle\u001b[0m\u001b[0;34m(\u001b[0m\u001b[0mbuffer_size\u001b[0m\u001b[0;34m=\u001b[0m\u001b[0mlen\u001b[0m\u001b[0;34m(\u001b[0m\u001b[0mdataset\u001b[0m\u001b[0;34m)\u001b[0m\u001b[0;34m)\u001b[0m\u001b[0;34m.\u001b[0m\u001b[0mbatch\u001b[0m\u001b[0;34m(\u001b[0m\u001b[0mbatch_size\u001b[0m\u001b[0;34m)\u001b[0m\u001b[0;34m:\u001b[0m\u001b[0;34m\u001b[0m\u001b[0;34m\u001b[0m\u001b[0m\n\u001b[1;32m    485\u001b[0m                     \u001b[0mloss\u001b[0m\u001b[0;34m,\u001b[0m \u001b[0mgradients\u001b[0m \u001b[0;34m=\u001b[0m \u001b[0mself\u001b[0m\u001b[0;34m.\u001b[0m\u001b[0mcompute_loss_and_gradients\u001b[0m\u001b[0;34m(\u001b[0m\u001b[0minputs_\u001b[0m\u001b[0;34m,\u001b[0m \u001b[0mparameters_\u001b[0m\u001b[0;34m,\u001b[0m \u001b[0mscore_mask_\u001b[0m\u001b[0;34m,\u001b[0m \u001b[0mfisher_mask_\u001b[0m\u001b[0;34m,\u001b[0m \u001b[0mlossfn\u001b[0m\u001b[0;34m=\u001b[0m\u001b[0mlossfn\u001b[0m\u001b[0;34m)\u001b[0m\u001b[0;34m\u001b[0m\u001b[0;34m\u001b[0m\u001b[0m\n",
            "\u001b[0;32m/softs/python/py3mods/tensorflow/2.8.4/tensorflow/python/data/ops/iterator_ops.py\u001b[0m in \u001b[0;36m__next__\u001b[0;34m(self)\u001b[0m\n\u001b[1;32m    834\u001b[0m   \u001b[0;32mdef\u001b[0m \u001b[0m__next__\u001b[0m\u001b[0;34m(\u001b[0m\u001b[0mself\u001b[0m\u001b[0;34m)\u001b[0m\u001b[0;34m:\u001b[0m\u001b[0;34m\u001b[0m\u001b[0;34m\u001b[0m\u001b[0m\n\u001b[1;32m    835\u001b[0m     \u001b[0;32mtry\u001b[0m\u001b[0;34m:\u001b[0m\u001b[0;34m\u001b[0m\u001b[0;34m\u001b[0m\u001b[0m\n\u001b[0;32m--> 836\u001b[0;31m       \u001b[0;32mreturn\u001b[0m \u001b[0mself\u001b[0m\u001b[0;34m.\u001b[0m\u001b[0m_next_internal\u001b[0m\u001b[0;34m(\u001b[0m\u001b[0;34m)\u001b[0m\u001b[0;34m\u001b[0m\u001b[0;34m\u001b[0m\u001b[0m\n\u001b[0m\u001b[1;32m    837\u001b[0m     \u001b[0;32mexcept\u001b[0m \u001b[0merrors\u001b[0m\u001b[0;34m.\u001b[0m\u001b[0mOutOfRangeError\u001b[0m\u001b[0;34m:\u001b[0m\u001b[0;34m\u001b[0m\u001b[0;34m\u001b[0m\u001b[0m\n\u001b[1;32m    838\u001b[0m       \u001b[0;32mraise\u001b[0m \u001b[0mStopIteration\u001b[0m\u001b[0;34m\u001b[0m\u001b[0;34m\u001b[0m\u001b[0m\n",
            "\u001b[0;32m/softs/python/py3mods/tensorflow/2.8.4/tensorflow/python/data/ops/iterator_ops.py\u001b[0m in \u001b[0;36m_next_internal\u001b[0;34m(self)\u001b[0m\n\u001b[1;32m    820\u001b[0m           \u001b[0mself\u001b[0m\u001b[0;34m.\u001b[0m\u001b[0m_iterator_resource\u001b[0m\u001b[0;34m,\u001b[0m\u001b[0;34m\u001b[0m\u001b[0;34m\u001b[0m\u001b[0m\n\u001b[1;32m    821\u001b[0m           \u001b[0moutput_types\u001b[0m\u001b[0;34m=\u001b[0m\u001b[0mself\u001b[0m\u001b[0;34m.\u001b[0m\u001b[0m_flat_output_types\u001b[0m\u001b[0;34m,\u001b[0m\u001b[0;34m\u001b[0m\u001b[0;34m\u001b[0m\u001b[0m\n\u001b[0;32m--> 822\u001b[0;31m           output_shapes=self._flat_output_shapes)\n\u001b[0m\u001b[1;32m    823\u001b[0m \u001b[0;34m\u001b[0m\u001b[0m\n\u001b[1;32m    824\u001b[0m       \u001b[0;32mtry\u001b[0m\u001b[0;34m:\u001b[0m\u001b[0;34m\u001b[0m\u001b[0;34m\u001b[0m\u001b[0m\n",
            "\u001b[0;32m/softs/python/py3mods/tensorflow/2.8.4/tensorflow/python/ops/gen_dataset_ops.py\u001b[0m in \u001b[0;36miterator_get_next\u001b[0;34m(iterator, output_types, output_shapes, name)\u001b[0m\n\u001b[1;32m   2918\u001b[0m       _result = pywrap_tfe.TFE_Py_FastPathExecute(\n\u001b[1;32m   2919\u001b[0m         \u001b[0m_ctx\u001b[0m\u001b[0;34m,\u001b[0m \u001b[0;34m\"IteratorGetNext\"\u001b[0m\u001b[0;34m,\u001b[0m \u001b[0mname\u001b[0m\u001b[0;34m,\u001b[0m \u001b[0miterator\u001b[0m\u001b[0;34m,\u001b[0m \u001b[0;34m\"output_types\"\u001b[0m\u001b[0;34m,\u001b[0m \u001b[0moutput_types\u001b[0m\u001b[0;34m,\u001b[0m\u001b[0;34m\u001b[0m\u001b[0;34m\u001b[0m\u001b[0m\n\u001b[0;32m-> 2920\u001b[0;31m         \"output_shapes\", output_shapes)\n\u001b[0m\u001b[1;32m   2921\u001b[0m       \u001b[0;32mreturn\u001b[0m \u001b[0m_result\u001b[0m\u001b[0;34m\u001b[0m\u001b[0;34m\u001b[0m\u001b[0m\n\u001b[1;32m   2922\u001b[0m     \u001b[0;32mexcept\u001b[0m \u001b[0m_core\u001b[0m\u001b[0;34m.\u001b[0m\u001b[0m_NotOkStatusException\u001b[0m \u001b[0;32mas\u001b[0m \u001b[0me\u001b[0m\u001b[0;34m:\u001b[0m\u001b[0;34m\u001b[0m\u001b[0;34m\u001b[0m\u001b[0m\n",
            "\u001b[0;31mKeyboardInterrupt\u001b[0m: "
          ]
        }
      ],
      "source": [
        "Model.train((data, theta, score_mask, fisher_mask), lr=5e-5, epochs=300, lossfn='kl')"
      ]
    },
    {
      "cell_type": "code",
      "execution_count": 8,
      "metadata": {},
      "outputs": [
        {
          "name": "stderr",
          "output_type": "stream",
          "text": [
            "100%|██████████| 50/50 [00:03<00:00, 12.54it/s]\n"
          ]
        }
      ],
      "source": [
        "# model MLEs\n",
        "mle, F  = Model.compute_mle_(data[:10000], score_mask[:10000], fisher_mask[:10000])"
      ]
    },
    {
      "cell_type": "code",
      "execution_count": 14,
      "metadata": {},
      "outputs": [
        {
          "data": {
            "text/plain": [
              "<tf.Tensor: shape=(10, 2, 2), dtype=float64, numpy=\n",
              "array([[[13.69861221, -3.41973352],\n",
              "        [-3.41973352,  7.35654783]],\n",
              "\n",
              "       [[18.46552849, -4.34109116],\n",
              "        [-4.34109116, 10.5675354 ]],\n",
              "\n",
              "       [[12.70514774, -3.06048775],\n",
              "        [-3.06048775,  6.66834974]],\n",
              "\n",
              "       [[21.5755806 , -4.75743914],\n",
              "        [-4.75743914, 13.03299522]],\n",
              "\n",
              "       [[11.21801949, -2.62859225],\n",
              "        [-2.62859225,  5.79277658]],\n",
              "\n",
              "       [[12.37452126, -2.91606545],\n",
              "        [-2.91606545,  6.46781921]],\n",
              "\n",
              "       [[12.15125084, -2.86405444],\n",
              "        [-2.86405444,  6.34417725]],\n",
              "\n",
              "       [[11.51825619, -2.66524506],\n",
              "        [-2.66524506,  5.94216537]],\n",
              "\n",
              "       [[13.05808163, -3.10783601],\n",
              "        [-3.10783601,  6.79127455]],\n",
              "\n",
              "       [[20.66851044, -4.5941925 ],\n",
              "        [-4.5941925 , 11.81038475]]])>"
            ]
          },
          "execution_count": 14,
          "metadata": {},
          "output_type": "execute_result"
        }
      ],
      "source": [
        "F[:10]"
      ]
    },
    {
      "cell_type": "code",
      "execution_count": 13,
      "metadata": {},
      "outputs": [
        {
          "data": {
            "image/png": "[encoded data removed]",
            "text/plain": [
              "<Figure size 432x288 with 1 Axes>"
            ]
          },
          "metadata": {
            "needs_background": "light"
          },
          "output_type": "display_data"
        },
        {
          "data": {
            "image/png": "[encoded data removed]",
            "text/plain": [
              "<Figure size 432x288 with 1 Axes>"
            ]
          },
          "metadata": {
            "needs_background": "light"
          },
          "output_type": "display_data"
        }
      ],
      "source": [
        "#plt.hist(mle_flow[:,0].numpy() - theta[:,0].numpy(), bins = 60, histtype='step', density=True, label='flow score MLE')\n",
        "plt.hist(mle[:10000,0].numpy() - theta[:10000,0].numpy(), bins = 60, histtype='step', density=True, label='learned score MLE')\n",
        "plt.xlabel(r'$\\hat{\\rm mean} - \\rm{mean}$')\n",
        "plt.legend(frameon=False)\n",
        "plt.show()\n",
        "\n",
        "\n",
        "#plt.hist(mle_flow[:,1].numpy() - theta[:,1].numpy(), bins = 60, histtype='step', density=True, label='flow score MLE')\n",
        "plt.hist(mle[:10000,1].numpy() - theta[:10000,1].numpy(), bins = 60, histtype='step', density=True, label='learned score MLE')\n",
        "plt.xlabel(r'$\\hat{\\rm scale} - \\rm scale$')\n",
        "plt.legend(frameon=False)\n",
        "plt.show()"
      ]
    },
    {
      "cell_type": "code",
      "execution_count": 11,
      "metadata": {},
      "outputs": [
        {
          "data": {
            "image/png": "[encoded data removed]",
            "text/plain": [
              "<Figure size 432x288 with 1 Axes>"
            ]
          },
          "metadata": {
            "needs_background": "light"
          },
          "output_type": "display_data"
        },
        {
          "data": {
            "image/png": "[encoded data removed]",
            "text/plain": [
              "<Figure size 432x288 with 1 Axes>"
            ]
          },
          "metadata": {
            "needs_background": "light"
          },
          "output_type": "display_data"
        }
      ],
      "source": [
        "#plt.hist(mle_flow[:,0].numpy() - theta[:,0].numpy(), bins = 60, histtype='step', density=True, label='flow score MLE')\n",
        "plt.hist(mle[:10000,0].numpy() - theta[:10000,0].numpy(), bins = 60, histtype='step', density=True, label='learned score MLE')\n",
        "plt.xlabel(r'$\\hat{\\rm mean} - \\rm{mean}$')\n",
        "plt.legend(frameon=False)\n",
        "plt.show()\n",
        "\n",
        "\n",
        "#plt.hist(mle_flow[:,1].numpy() - theta[:,1].numpy(), bins = 60, histtype='step', density=True, label='flow score MLE')\n",
        "plt.hist(mle[:10000,1].numpy() - theta[:10000,1].numpy(), bins = 60, histtype='step', density=True, label='learned score MLE')\n",
        "plt.xlabel(r'$\\hat{\\rm scale} - \\rm scale$')\n",
        "plt.legend(frameon=False)\n",
        "plt.show()"
      ]
    },
    {
      "cell_type": "code",
      "execution_count": 17,
      "metadata": {},
      "outputs": [
        {
          "data": {
            "text/plain": [
              "<matplotlib.collections.PathCollection at 0x7fe650379b50>"
            ]
          },
          "execution_count": 17,
          "metadata": {},
          "output_type": "execute_result"
        },
        {
          "data": {
            "image/png": "[encoded data removed]",
            "text/plain": [
              "<Figure size 432x288 with 1 Axes>"
            ]
          },
          "metadata": {
            "needs_background": "light"
          },
          "output_type": "display_data"
        }
      ],
      "source": [
        "plt.scatter(theta[:10000, 0].numpy(), mle[:10000, 0].numpy(), s=1)"
      ]
    },
    {
      "cell_type": "code",
      "execution_count": 18,
      "metadata": {},
      "outputs": [
        {
          "data": {
            "text/plain": [
              "<matplotlib.collections.PathCollection at 0x7fe6449e6b10>"
            ]
          },
          "execution_count": 18,
          "metadata": {},
          "output_type": "execute_result"
        },
        {
          "data": {
            "image/png": "[encoded data removed]",
            "text/plain": [
              "<Figure size 432x288 with 1 Axes>"
            ]
          },
          "metadata": {
            "needs_background": "light"
          },
          "output_type": "display_data"
        }
      ],
      "source": [
        "plt.scatter(theta[:10000, 1].numpy(), mle[:10000, 1].numpy(), s=1)"
      ]
    },
    {
      "cell_type": "code",
      "execution_count": 34,
      "metadata": {},
      "outputs": [
        {
          "data": {
            "text/plain": [
              "(2.729305, 0.1295409178664161)"
            ]
          },
          "execution_count": 34,
          "metadata": {},
          "output_type": "execute_result"
        }
      ],
      "source": [
        "np.std(theta[:10000, 0].numpy()), np.std(mle[:10000,0].numpy() - theta[:10000,0].numpy())"
      ]
    },
    {
      "cell_type": "code",
      "execution_count": 35,
      "metadata": {},
      "outputs": [
        {
          "data": {
            "text/plain": [
              "(0.4017106, 0.1229592109359784)"
            ]
          },
          "execution_count": 35,
          "metadata": {},
          "output_type": "execute_result"
        }
      ],
      "source": [
        "np.std(theta[:10000, 1]), np.std(mle[:10000,1].numpy() - theta[:10000,1].numpy())"
      ]
    },
    {
      "cell_type": "code",
      "execution_count": null,
      "metadata": {},
      "outputs": [],
      "source": []
    },
    {
      "cell_type": "code",
      "execution_count": 17,
      "metadata": {},
      "outputs": [
        {
          "data": {
            "text/plain": [
              "(array([ 21.,  57., 125., 186., 214., 196., 202., 241., 179., 226., 210.,\n",
              "        207., 217., 208., 196., 211., 216., 204., 177., 204., 221., 230.,\n",
              "        208., 225., 199., 232., 200., 230., 204., 199., 224., 193., 214.,\n",
              "        211., 201., 203., 219., 188., 213., 214., 207., 201., 200., 190.,\n",
              "        189., 191., 186., 165., 132., 112.,  78.,  65.,  66.,  30.,  20.,\n",
              "         20.,  10.,   7.,   4.,   2.]),\n",
              " array([0.4523078 , 0.47324708, 0.4941864 , 0.5151257 , 0.536065  ,\n",
              "        0.5570043 , 0.5779436 , 0.5988829 , 0.6198222 , 0.6407615 ,\n",
              "        0.6617008 , 0.6826401 , 0.7035794 , 0.7245187 , 0.745458  ,\n",
              "        0.7663973 , 0.7873366 , 0.8082759 , 0.8292152 , 0.8501545 ,\n",
              "        0.8710938 , 0.8920331 , 0.9129724 , 0.93391174, 0.95485103,\n",
              "        0.9757903 , 0.9967296 , 1.017669  , 1.0386082 , 1.0595475 ,\n",
              "        1.0804868 , 1.1014261 , 1.1223655 , 1.1433047 , 1.164244  ,\n",
              "        1.1851833 , 1.2061226 , 1.2270619 , 1.2480012 , 1.2689406 ,\n",
              "        1.2898798 , 1.3108191 , 1.3317584 , 1.3526977 , 1.3736371 ,\n",
              "        1.3945763 , 1.4155157 , 1.4364549 , 1.4573942 , 1.4783336 ,\n",
              "        1.4992728 , 1.5202122 , 1.5411514 , 1.5620908 , 1.58303   ,\n",
              "        1.6039693 , 1.6249087 , 1.6458479 , 1.6667873 , 1.6877265 ,\n",
              "        1.7086658 ], dtype=float32),\n",
              " <BarContainer object of 60 artists>)"
            ]
          },
          "execution_count": 17,
          "metadata": {},
          "output_type": "execute_result"
        },
        {
          "data": {
            "image/png": "[encoded data removed]",
            "text/plain": [
              "<Figure size 432x288 with 1 Axes>"
            ]
          },
          "metadata": {
            "needs_background": "light"
          },
          "output_type": "display_data"
        }
      ],
      "source": [
        "plt.hist(theta[:, 0].numpy() / theta[:, 1].numpy(), bins=60)"
      ]
    },
    {
      "cell_type": "code",
      "execution_count": null,
      "metadata": {},
      "outputs": [],
      "source": [
        "\n",
        "key = jax.random.PRNGKey(88)\n",
        "\n",
        "concentration = 2.0\n",
        "rate = 20.\n",
        "tmax = 10.\n",
        "\n",
        "A=1.0\n",
        "\n",
        "key,rng = jax.random.split(key)\n",
        "decay_time = dist.Gamma(concentration=concentration, \n",
        "                        rate=rate).sample(key, (10000,))\n",
        "\n",
        "key,rng = jax.random.split(key)\n",
        "measurement_time = dist.Uniform(low=0.0, high=tmax).sample(key, (10000,))\n",
        "\n",
        "key,rng = jax.random.split(key)\n",
        "_lambda = A * jnp.exp(-measurement_time / decay_time )\n",
        "measured_serum_level = dist.Poisson(rate=_lambda).sample(key, ())"
      ]
    },
    {
      "cell_type": "code",
      "execution_count": null,
      "metadata": {},
      "outputs": [],
      "source": [
        "np.linspace(1, 10)"
      ]
    },
    {
      "cell_type": "code",
      "execution_count": null,
      "metadata": {},
      "outputs": [],
      "source": [
        "rate"
      ]
    },
    {
      "cell_type": "code",
      "execution_count": null,
      "metadata": {},
      "outputs": [],
      "source": [
        "concentration = 4.0\n",
        "report_delay = 3 # days\n",
        "rate = concentration / report_delay\n",
        "tmax = 10.\n",
        "\n",
        "A=1.0\n",
        "\n",
        "key,rng = jax.random.split(key)\n",
        "decay_time = dist.Gamma(concentration=concentration, \n",
        "                        rate=rate).sample(key, (10000,))\n",
        "plt.hist(np.array(decay_time), bins=60)\n",
        "\n",
        "\n",
        "# concentration = 2.0\n",
        "# rate = 2.0 / 10\n",
        "\n",
        "# decay_time = dist.Gamma(concentration=concentration, \n",
        "#                         rate=rate).sample(key, (10000,))\n",
        "# plt.hist(np.array(decay_time), bins=60)"
      ]
    },
    {
      "cell_type": "code",
      "execution_count": null,
      "metadata": {},
      "outputs": [],
      "source": [
        "plt.hist(np.array(decay_time), bins=60)"
      ]
    },
    {
      "cell_type": "code",
      "execution_count": 13,
      "metadata": {},
      "outputs": [],
      "source": [
        "tfd = tfp.distributions\n",
        "tfb = tfp.bijectors"
      ]
    },
    {
      "cell_type": "code",
      "execution_count": 15,
      "metadata": {},
      "outputs": [],
      "source": [
        "maf = tfd.TransformedDistribution(\n",
        "    distribution=tfd.Sample(\n",
        "        tfd.Normal(loc=0., scale=1.), sample_shape=[2]),\n",
        "    bijector=tfb.MaskedAutoregressiveFlow(\n",
        "        shift_and_log_scale_fn=tfb.AutoregressiveNetwork(\n",
        "            params=2, hidden_units=[512, 512])))"
      ]
    },
    {
      "cell_type": "code",
      "execution_count": 16,
      "metadata": {},
      "outputs": [
        {
          "ename": "AttributeError",
          "evalue": "can't set attribute",
          "output_type": "error",
          "traceback": [
            "\u001b[0;31m---------------------------------------------------------------------------\u001b[0m",
            "\u001b[0;31mAttributeError\u001b[0m                            Traceback (most recent call last)",
            "\u001b[0;32m<ipython-input-16-7ff6c3bc33e5>\u001b[0m in \u001b[0;36m<module>\u001b[0;34m\u001b[0m\n\u001b[1;32m      1\u001b[0m maf.distribution = tfd.Sample(\n\u001b[0;32m----> 2\u001b[0;31m         tfd.Normal(loc=0., scale=3.), sample_shape=[2])\n\u001b[0m",
            "\u001b[0;32m/softs/python/py3mods/tensorflow/2.8.4/tensorflow/python/training/tracking/autotrackable.py\u001b[0m in \u001b[0;36m__setattr__\u001b[0;34m(self, name, value)\u001b[0m\n\u001b[1;32m     67\u001b[0m       value = data_structures.sticky_attribute_assignment(\n\u001b[1;32m     68\u001b[0m           trackable=self, value=value, name=name)\n\u001b[0;32m---> 69\u001b[0;31m     \u001b[0msuper\u001b[0m\u001b[0;34m(\u001b[0m\u001b[0mAutoTrackable\u001b[0m\u001b[0;34m,\u001b[0m \u001b[0mself\u001b[0m\u001b[0;34m)\u001b[0m\u001b[0;34m.\u001b[0m\u001b[0m__setattr__\u001b[0m\u001b[0;34m(\u001b[0m\u001b[0mname\u001b[0m\u001b[0;34m,\u001b[0m \u001b[0mvalue\u001b[0m\u001b[0;34m)\u001b[0m\u001b[0;34m\u001b[0m\u001b[0;34m\u001b[0m\u001b[0m\n\u001b[0m\u001b[1;32m     70\u001b[0m \u001b[0;34m\u001b[0m\u001b[0m\n\u001b[1;32m     71\u001b[0m   \u001b[0;32mdef\u001b[0m \u001b[0m__delattr__\u001b[0m\u001b[0;34m(\u001b[0m\u001b[0mself\u001b[0m\u001b[0;34m,\u001b[0m \u001b[0mname\u001b[0m\u001b[0;34m)\u001b[0m\u001b[0;34m:\u001b[0m\u001b[0;34m\u001b[0m\u001b[0;34m\u001b[0m\u001b[0m\n",
            "\u001b[0;31mAttributeError\u001b[0m: can't set attribute"
          ]
        }
      ],
      "source": [
        "maf.distribution = tfd.Sample(\n",
        "        tfd.Normal(loc=0., scale=3.), sample_shape=[2])"
      ]
    },
    {
      "cell_type": "code",
      "execution_count": 17,
      "metadata": {},
      "outputs": [],
      "source": [
        "maf._distribution = tfd.Sample(\n",
        "        tfd.Normal(loc=0., scale=3.), sample_shape=[2])"
      ]
    },
    {
      "cell_type": "code",
      "execution_count": 26,
      "metadata": {},
      "outputs": [
        {
          "data": {
            "text/plain": [
              "TensorShape([10000, 2, 2])"
            ]
          },
          "execution_count": 26,
          "metadata": {},
          "output_type": "execute_result"
        }
      ],
      "source": [
        "F.shape"
      ]
    },
    {
      "cell_type": "code",
      "execution_count": 66,
      "metadata": {},
      "outputs": [],
      "source": [
        "mydist = tfd.Sample(\n",
        "        tfd.MultivariateNormalFullCovariance(loc=0., \n",
        "        covariance_matrix=F[:]), sample_shape=[])"
      ]
    },
    {
      "cell_type": "code",
      "execution_count": 67,
      "metadata": {},
      "outputs": [
        {
          "data": {
            "text/plain": [
              "(10000, 2)"
            ]
          },
          "execution_count": 67,
          "metadata": {},
          "output_type": "execute_result"
        }
      ],
      "source": [
        "mydist.sample().numpy().shape"
      ]
    },
    {
      "cell_type": "code",
      "execution_count": 60,
      "metadata": {},
      "outputs": [
        {
          "data": {
            "text/plain": [
              "(array([[ 2.,  8.,  7., 22., 17., 18., 16.,  7.,  2.,  1.],\n",
              "        [ 0.,  0.,  1., 18., 47., 30.,  4.,  0.,  0.,  0.]]),\n",
              " array([-24.42128302, -19.23787973, -14.05447645,  -8.87107316,\n",
              "         -3.68766988,   1.4957334 ,   6.67913669,  11.86253997,\n",
              "         17.04594326,  22.22934654,  27.41274983]),\n",
              " <a list of 2 BarContainer objects>)"
            ]
          },
          "execution_count": 60,
          "metadata": {},
          "output_type": "execute_result"
        },
        {
          "data": {
            "image/png": "[encoded data removed]",
            "text/plain": [
              "<Figure size 432x288 with 1 Axes>"
            ]
          },
          "metadata": {
            "needs_background": "light"
          },
          "output_type": "display_data"
        }
      ],
      "source": [
        "plt.hist(mydist.sample((100,)).numpy()[:, 0])"
      ]
    },
    {
      "cell_type": "code",
      "execution_count": 25,
      "metadata": {},
      "outputs": [
        {
          "data": {
            "text/plain": [
              "(array([ 2.,  2.,  4.,  9., 10.,  7.,  4.,  3.,  7.,  2.]),\n",
              " array([-1.1977313 , -0.96494275, -0.73215425, -0.49936578, -0.2665773 ,\n",
              "        -0.0337888 ,  0.19899969,  0.43178818,  0.66457665,  0.89736515,\n",
              "         1.1301537 ], dtype=float32),\n",
              " <BarContainer object of 10 artists>)"
            ]
          },
          "execution_count": 25,
          "metadata": {},
          "output_type": "execute_result"
        },
        {
          "data": {
            "image/png": "[encoded data removed]",
            "text/plain": [
              "<Figure size 432x288 with 1 Axes>"
            ]
          },
          "metadata": {
            "needs_background": "light"
          },
          "output_type": "display_data"
        }
      ],
      "source": [
        "maf = tfd.TransformedDistribution(\n",
        "    distribution=tfd.Sample(\n",
        "        tfd.Normal(loc=0., scale=1.), sample_shape=[2]),\n",
        "    bijector=tfb.MaskedAutoregressiveFlow(\n",
        "        shift_and_log_scale_fn=tfb.AutoregressiveNetwork(\n",
        "            params=2, hidden_units=[512, 512])))\n",
        "\n",
        "\n",
        "plt.hist(maf.distribution.sample((50,)).numpy()[:, 0])\n",
        "\n",
        "\n",
        "maf._distribution = tfd.Sample(\n",
        "        tfd.Normal(loc=0., scale=0.5), sample_shape=[2])\n",
        "plt.hist(maf.distribution.sample((50,)).numpy()[:, 0])"
      ]
    },
    {
      "cell_type": "code",
      "execution_count": null,
      "metadata": {},
      "outputs": [],
      "source": []
    }
  ],
  "metadata": {
    "accelerator": "GPU",
    "colab": {
      "machine_shape": "hm",
      "provenance": []
    },
    "gpuClass": "standard",
    "kernelspec": {
      "display_name": "Python 3",
      "language": "python",
      "name": "python3"
    },
    "language_info": {
      "codemirror_mode": {
        "name": "ipython",
        "version": 3
      },
      "file_extension": ".py",
      "mimetype": "text/x-python",
      "name": "python",
      "nbconvert_exporter": "python",
      "pygments_lexer": "ipython3",
      "version": "3.7.7"
    }
  },
  "nbformat": 4,
  "nbformat_minor": 0
}

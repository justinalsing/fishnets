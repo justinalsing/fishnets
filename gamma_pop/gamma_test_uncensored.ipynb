{
 "cells": [
  {
   "cell_type": "markdown",
   "metadata": {},
   "source": [
    "# run test on trained models for censored data"
   ]
  },
  {
   "cell_type": "code",
   "execution_count": 2,
   "metadata": {},
   "outputs": [
    {
     "name": "stdout",
     "output_type": "stream",
     "text": [
      "/home/makinen/repositories/fishnets\n"
     ]
    }
   ],
   "source": [
    "cd /home/makinen/repositories/fishnets/"
   ]
  },
  {
   "cell_type": "code",
   "execution_count": 3,
   "metadata": {},
   "outputs": [
    {
     "name": "stderr",
     "output_type": "stream",
     "text": [
      "/softs/python/py3mods/tensorflow/2.8.4/keras/optimizer_v2/adam.py:105: UserWarning: The `lr` argument is deprecated, use `learning_rate` instead.\n",
      "  super(Adam, self).__init__(name, **kwargs)\n"
     ]
    }
   ],
   "source": [
    "import jax.numpy as jnp\n",
    "from jax import grad, jit, vmap\n",
    "from jax import random\n",
    "#import torch\n",
    "import jax\n",
    "from jax import lax\n",
    "#import jax_cosmo as jc\n",
    "import scipy.constants as cnst\n",
    "import scipy.stats as ss\n",
    "\n",
    "import matplotlib.pyplot as plt\n",
    "\n",
    "import numpy as np\n",
    "import numpyro\n",
    "import numpyro.distributions as dist\n",
    "\n",
    "import tensorflow as tf\n",
    "import tensorflow_probability as tfp\n",
    "from tqdm import trange\n",
    "from scipy import stats\n",
    "tfk = tf.keras\n",
    "\n",
    "from fishnets import *"
   ]
  },
  {
   "cell_type": "code",
   "execution_count": 4,
   "metadata": {},
   "outputs": [],
   "source": [
    "n_data=10000 # for testing"
   ]
  },
  {
   "cell_type": "code",
   "execution_count": 5,
   "metadata": {},
   "outputs": [],
   "source": [
    "def gamma_pop_model(key, theta, \n",
    "                    n_data=n_data, \n",
    "                    serum_min=0.2, \n",
    "                    tmax=10.,\n",
    "                    A=500.0):\n",
    "\n",
    "  population = jnp.zeros((n_data, 2))\n",
    "  mean, scale = theta # shape, reporting delay\n",
    "  rate = 1./ scale #concentration / report_delay\n",
    "  concentration = mean / scale\n",
    "  key,rng = jax.random.split(key)\n",
    "\n",
    "  def fn(key):\n",
    "    #data,key = data_tuple\n",
    "    key,rng = jax.random.split(key)\n",
    "    decay_time = dist.Gamma(concentration=concentration, \n",
    "                           rate=rate).sample(key, ())\n",
    "\n",
    "    key,rng = jax.random.split(key)\n",
    "    measurement_time = dist.Uniform(low=0.0, high=tmax).sample(key, ())\n",
    "\n",
    "    key,rng = jax.random.split(key)\n",
    "    _lambda = A * jnp.exp(-measurement_time / decay_time )\n",
    "    measured_serum_level = dist.Poisson(rate=_lambda).sample(key, ())\n",
    "\n",
    "    #measured_serum_level += dist.Normal(loc=0.0, scale=0.2).sample(key, ())\n",
    "\n",
    "    return jnp.array([measurement_time, measured_serum_level]) #, key\n",
    "\n",
    "  # vmap without censoring\n",
    "  keys = jax.random.split(key, num=n_data)\n",
    "  population = jax.vmap(fn)(keys)\n",
    "\n",
    "  return population"
   ]
  },
  {
   "cell_type": "code",
   "execution_count": 11,
   "metadata": {},
   "outputs": [],
   "source": [
    "n_sims = 1000\n",
    "\n",
    "# theta = (concentration, rate)\n",
    "# mean of Gamma = concentration / rate\n",
    "key = jax.random.PRNGKey(34)\n",
    "mean = dist.Uniform(low=0.5, high=10.).sample(key, (n_sims,))\n",
    "key,rng = jax.random.split(key)\n",
    "scale = dist.Uniform(low=0.1, high=1.5).sample(key, (n_sims,))\n",
    "\n",
    "\n",
    "theta = jnp.vstack([mean, scale]).T"
   ]
  },
  {
   "cell_type": "code",
   "execution_count": 12,
   "metadata": {},
   "outputs": [
    {
     "name": "stdout",
     "output_type": "stream",
     "text": [
      "CPU times: user 197 ms, sys: 466 µs, total: 197 ms\n",
      "Wall time: 192 ms\n"
     ]
    }
   ],
   "source": [
    "keys = jax.random.split(jax.random.PRNGKey(10), num=n_sims)\n",
    "%time data = jax.vmap(gamma_pop_model)(keys, theta)"
   ]
  },
  {
   "cell_type": "code",
   "execution_count": 13,
   "metadata": {},
   "outputs": [],
   "source": [
    "outdir = '/data80/makinen/fishnets/gamma_pop/data/'\n",
    "np.save(outdir + 'data_uncensored_10k', data)\n",
    "np.save(outdir + 'theta_uncensored_10k', theta)"
   ]
  },
  {
   "cell_type": "code",
   "execution_count": 10,
   "metadata": {},
   "outputs": [
    {
     "data": {
      "text/plain": [
       "(1000, 10000, 2)"
      ]
     },
     "execution_count": 10,
     "metadata": {},
     "output_type": "execute_result"
    }
   ],
   "source": [
    "data.shape"
   ]
  },
  {
   "cell_type": "markdown",
   "metadata": {},
   "source": [
    "# load in pretrained model"
   ]
  },
  {
   "cell_type": "code",
   "execution_count": 8,
   "metadata": {},
   "outputs": [],
   "source": [
    "outdir = '/data80/makinen/fishnets/gamma_pop/data/'\n",
    "\n",
    "data = np.load(outdir + 'data_uncensored_10k.npy')"
   ]
  },
  {
   "cell_type": "code",
   "execution_count": 9,
   "metadata": {},
   "outputs": [
    {
     "data": {
      "text/plain": [
       "(1000, 10000, 2)"
      ]
     },
     "execution_count": 9,
     "metadata": {},
     "output_type": "execute_result"
    }
   ],
   "source": [
    "data.shape"
   ]
  },
  {
   "cell_type": "code",
   "execution_count": 20,
   "metadata": {},
   "outputs": [],
   "source": [
    "# data = np.load(outdir + 'data_gamma_uncensored.npy')\n",
    "# np.max(data[:, :, 1])"
   ]
  },
  {
   "cell_type": "code",
   "execution_count": 11,
   "metadata": {},
   "outputs": [],
   "source": [
    "n_sims = 1000\n",
    "n_data = 10000\n",
    "n_theta = 2\n",
    "\n",
    "datamax = 607. #np.max(data[:, :, 1])\n",
    "datamin = 25. #np.min(data[:, :, 1])\n",
    "tmax = 10.\n",
    "#datamax = 592.\n",
    "\n",
    "full_data = np.zeros((n_sims,n_data,2))\n",
    "full_data[:, :, 0] = data[:, :, 0] / tmax\n",
    "full_data[:, :, 1] = data[:, :, 1] / datamax\n",
    "data = full_data; del full_data"
   ]
  },
  {
   "cell_type": "code",
   "execution_count": 15,
   "metadata": {},
   "outputs": [],
   "source": [
    "tmax=10. # days\n",
    "serum_max_val=4.0\n",
    "\n",
    "theta_fid = tf.constant([5.0, 0.8], dtype=tf.float32) \n",
    "theta_fid_ = theta_fid.numpy()\n",
    "\n",
    "# stack up the data and parameters\n",
    "data = tf.convert_to_tensor(data, dtype=tf.float32)\n",
    "theta = tf.convert_to_tensor(theta, dtype=tf.float32)\n",
    "\n",
    "# construct masks\n",
    "score_mask = np.ones((n_sims, n_data, n_theta))\n",
    "fisher_mask = np.ones((n_sims, n_data, n_theta, n_theta))\n",
    "\n",
    "\n",
    "score_mask = tf.convert_to_tensor(score_mask, dtype=tf.float32)\n",
    "fisher_mask = tf.convert_to_tensor(fisher_mask, dtype=tf.float32)"
   ]
  },
  {
   "cell_type": "code",
   "execution_count": 16,
   "metadata": {},
   "outputs": [
    {
     "name": "stdout",
     "output_type": "stream",
     "text": [
      "loading model\n",
      "restoring variables\n"
     ]
    }
   ],
   "source": [
    "Model = FishnetTwin(n_parameters=n_theta, \n",
    "                n_inputs=2, \n",
    "                n_hidden_score=[256, 256, 256], \n",
    "                activation_score=[tf.nn.elu, tf.nn.elu,  tf.nn.elu],\n",
    "                n_hidden_fisher=[256, 256, 256], \n",
    "                activation_fisher=[tf.nn.elu, tf.nn.elu,  tf.nn.elu],\n",
    "                optimizer=tf.keras.optimizers.Adam(lr=5e-4),\n",
    "                theta_fid=theta_fid,\n",
    "                priormu=tf.zeros(n_theta, dtype=tf.float32),\n",
    "                priorCinv=tf.eye(n_theta, dtype=tf.float32),\n",
    "                restore=True,\n",
    "                restore_filename='/data80/makinen/fishnets/gamma_pop/results/model_0/checkpoint_4/model')"
   ]
  },
  {
   "cell_type": "code",
   "execution_count": 17,
   "metadata": {},
   "outputs": [
    {
     "name": "stderr",
     "output_type": "stream",
     "text": [
      "100%|██████████| 100/100 [00:13<00:00,  7.44it/s]\n"
     ]
    }
   ],
   "source": [
    "# model MLEs\n",
    "mle, F  = Model.compute_mle_(data[:10000], score_mask[:], fisher_mask[:])"
   ]
  },
  {
   "cell_type": "code",
   "execution_count": 53,
   "metadata": {},
   "outputs": [
    {
     "data": {
      "text/plain": [
       "<tf.Tensor: shape=(500, 2), dtype=float64, numpy=\n",
       "array([[9.89507751e+01, 1.45546794e-01],\n",
       "       [3.96847229e+01, 1.04099798e+00],\n",
       "       [3.58277740e+01, 2.20637941e+00],\n",
       "       [7.63716583e+01, 1.05714869e+00],\n",
       "       [2.13257561e+01, 1.46641111e+00],\n",
       "       [4.86215706e+01, 2.50020671e+00],\n",
       "       [8.99397125e+01, 1.38012826e-01],\n",
       "       [9.33644485e+01, 1.43001199e-01],\n",
       "       [4.28018379e+00, 1.22245979e+00],\n",
       "       [6.16610413e+01, 1.62679505e+00],\n",
       "       [9.77518692e+01, 3.83791924e-01],\n",
       "       [3.46559181e+01, 1.19645929e+00],\n",
       "       [1.13925789e+02, 3.24903220e-01],\n",
       "       [7.28695154e+00, 1.11371386e+00],\n",
       "       [9.82836685e+01, 3.27045411e-01],\n",
       "       [1.21365976e+00, 9.03310835e-01],\n",
       "       [7.82557983e+01, 2.22675681e-01],\n",
       "       [5.34809608e+01, 1.41699171e+00],\n",
       "       [5.46236076e+01, 1.54647470e+00],\n",
       "       [5.44788132e+01, 2.43702245e+00],\n",
       "       [6.40762939e+01, 8.22100580e-01],\n",
       "       [5.72353973e+01, 2.16135287e+00],\n",
       "       [1.97815037e+00, 9.78950918e-01],\n",
       "       [1.00913841e+02, 2.38555431e-01],\n",
       "       [6.11834946e+01, 9.80411351e-01],\n",
       "       [2.94491844e+01, 1.86649585e+00],\n",
       "       [9.95354309e+01, 2.28922844e-01],\n",
       "       [9.51680756e+01, 5.04804373e-01],\n",
       "       [2.25728188e+01, 1.85996294e+00],\n",
       "       [2.62901688e+01, 1.84874463e+00],\n",
       "       [6.97939377e+01, 1.08336425e+00],\n",
       "       [4.10705299e+01, 9.34858441e-01],\n",
       "       [7.05242462e+01, 1.13443899e+00],\n",
       "       [1.51321907e+01, 1.28955376e+00],\n",
       "       [7.30773163e+01, 1.02122331e+00],\n",
       "       [1.06543335e+02, 1.93829775e-01],\n",
       "       [6.40156555e+01, 2.39155459e+00],\n",
       "       [8.97530556e+00, 1.04894304e+00],\n",
       "       [3.16609116e+01, 1.12823832e+00],\n",
       "       [5.76560516e+01, 2.75319266e+00],\n",
       "       [1.35240402e+01, 1.51018512e+00],\n",
       "       [6.17151108e+01, 1.78046227e+00],\n",
       "       [3.53371735e+01, 1.20527411e+00],\n",
       "       [3.20763168e+01, 1.11178529e+00],\n",
       "       [1.69230156e+01, 8.45135570e-01],\n",
       "       [3.97914543e+01, 1.75071669e+00],\n",
       "       [1.12320013e+01, 5.43455541e-01],\n",
       "       [1.07433189e+02, 4.21859026e-01],\n",
       "       [1.35105953e+01, 7.82942116e-01],\n",
       "       [2.96335850e+01, 5.91164112e-01],\n",
       "       [3.18651581e+01, 1.72299218e+00],\n",
       "       [2.88699570e+01, 2.02183962e+00],\n",
       "       [1.09201912e+02, 1.78703904e-01],\n",
       "       [7.25318298e+01, 1.19962931e+00],\n",
       "       [1.01665077e+02, 4.14833188e-01],\n",
       "       [3.80033493e+01, 1.41890609e+00],\n",
       "       [3.26619492e+01, 4.79527354e-01],\n",
       "       [8.92615051e+01, 1.62692845e-01],\n",
       "       [7.54729919e+01, 1.03915060e+00],\n",
       "       [6.29710846e+01, 2.16734457e+00],\n",
       "       [1.16775818e+02, 3.50554496e-01],\n",
       "       [9.73718948e+01, 8.37858975e-01],\n",
       "       [6.09382172e+01, 1.57597351e+00],\n",
       "       [4.88068619e+01, 1.19087315e+00],\n",
       "       [2.14088202e+00, 1.21176469e+00],\n",
       "       [3.30592957e+01, 1.53553307e+00],\n",
       "       [8.93886261e+01, 9.03597772e-01],\n",
       "       [6.27176018e+01, 1.11142051e+00],\n",
       "       [4.64281464e+01, 1.14899099e+00],\n",
       "       [6.01692429e+01, 2.08129573e+00],\n",
       "       [5.00262718e+01, 1.34234309e+00],\n",
       "       [6.79231415e+01, 9.03992474e-01],\n",
       "       [5.72284164e+01, 1.06924820e+00],\n",
       "       [6.19845123e+01, 1.14252710e+00],\n",
       "       [5.50659676e+01, 2.28825974e+00],\n",
       "       [1.08059807e+02, 3.25438738e-01],\n",
       "       [5.59681320e+01, 1.42745590e+00],\n",
       "       [3.68287201e+01, 1.88319397e+00],\n",
       "       [3.12693167e+00, 8.28013659e-01],\n",
       "       [1.14003975e+02, 3.47813785e-01],\n",
       "       [1.02009010e+00, 1.24492550e+00],\n",
       "       [2.77306080e+01, 1.59404027e+00],\n",
       "       [5.79823685e+01, 2.85209084e+00],\n",
       "       [4.55163574e+01, 1.20947540e+00],\n",
       "       [4.31308136e+01, 2.28763604e+00],\n",
       "       [9.38300514e+00, 1.26383138e+00],\n",
       "       [6.11637688e+01, 2.88956940e-01],\n",
       "       [5.14495392e+01, 2.04199672e+00],\n",
       "       [6.16722679e+01, 1.61161625e+00],\n",
       "       [2.36707497e+01, 1.28385496e+00],\n",
       "       [7.84619331e-01, 9.88945961e-01],\n",
       "       [1.08278870e+02, 5.74190199e-01],\n",
       "       [2.50528259e+01, 1.70269084e+00],\n",
       "       [1.07793228e+02, 2.01457858e-01],\n",
       "       [5.22582283e+01, 2.15105009e+00],\n",
       "       [5.09594345e+01, 2.75358248e+00],\n",
       "       [1.00239059e+02, 3.12304974e-01],\n",
       "       [7.31366577e+01, 1.35503519e+00],\n",
       "       [8.12127590e-01, 1.19345450e+00],\n",
       "       [2.11125889e+01, 7.26815104e-01],\n",
       "       [7.56290588e+01, 1.22560096e+00],\n",
       "       [2.70882301e+01, 1.94217968e+00],\n",
       "       [6.13104706e+01, 2.91358161e+00],\n",
       "       [4.63189459e+00, 1.20235813e+00],\n",
       "       [7.70596771e+01, 9.15277302e-01],\n",
       "       [8.58805542e+01, 1.48638487e-01],\n",
       "       [8.16802788e+00, 1.25221133e+00],\n",
       "       [1.76630402e+01, 1.31012535e+00],\n",
       "       [4.68878889e+00, 1.13077903e+00],\n",
       "       [1.00169506e+01, 1.27075982e+00],\n",
       "       [2.17029667e+01, 1.71424556e+00],\n",
       "       [1.64605236e+00, 6.78994775e-01],\n",
       "       [6.58495178e+01, 2.49900103e+00],\n",
       "       [2.75228634e+01, 1.31125736e+00],\n",
       "       [6.63281860e+01, 1.32457304e+00],\n",
       "       [4.32467461e+01, 7.65704155e-01],\n",
       "       [5.66782455e+01, 2.47030687e+00],\n",
       "       [1.02620712e+02, 1.74144626e-01],\n",
       "       [1.01799118e+02, 5.80464244e-01],\n",
       "       [7.32378769e+01, 8.00951540e-01],\n",
       "       [5.83710098e+01, 3.02310133e+00],\n",
       "       [8.36558609e+01, 1.10900462e-01],\n",
       "       [5.24197159e+01, 1.70942092e+00],\n",
       "       [3.63821411e+01, 1.43554568e+00],\n",
       "       [1.07974503e+02, 5.00573993e-01],\n",
       "       [5.97664642e+01, 3.14804149e+00],\n",
       "       [3.07782021e+01, 2.20153594e+00],\n",
       "       [1.01560574e+01, 1.19064283e+00],\n",
       "       [3.53638382e+01, 2.01376653e+00],\n",
       "       [1.28525476e+01, 1.27168012e+00],\n",
       "       [1.98255939e+01, 1.11324596e+00],\n",
       "       [4.49071808e+01, 1.33207750e+00],\n",
       "       [9.01029892e+01, 5.71909070e-01],\n",
       "       [4.65902939e+01, 2.05592871e+00],\n",
       "       [4.16648178e+01, 1.74569440e+00],\n",
       "       [1.04088623e+02, 6.75423920e-01],\n",
       "       [6.49534302e+01, 1.44234955e+00],\n",
       "       [4.76408005e+01, 2.10003018e+00],\n",
       "       [1.02709084e+02, 5.38987279e-01],\n",
       "       [1.08809120e+02, 4.37221289e-01],\n",
       "       [9.64594040e+01, 6.82350159e-01],\n",
       "       [1.00644440e+02, 5.47659516e-01],\n",
       "       [6.20773468e+01, 1.47610354e+00],\n",
       "       [1.34116745e+01, 6.65812135e-01],\n",
       "       [1.02339029e+01, 1.24980640e+00],\n",
       "       [3.07292366e+01, 1.78135443e+00],\n",
       "       [5.91379776e+01, 1.09150708e+00],\n",
       "       [8.40213547e+01, 4.07955736e-01],\n",
       "       [8.57511520e+01, 1.26368046e-01],\n",
       "       [8.03525772e+01, 1.03704262e+00],\n",
       "       [9.03915787e+01, 7.15390146e-01],\n",
       "       [3.68659134e+01, 8.26565742e-01],\n",
       "       [7.38062000e+00, 1.20399570e+00],\n",
       "       [9.99889908e+01, 1.70573652e-01],\n",
       "       [4.21886826e+01, 8.41083288e-01],\n",
       "       [1.55333557e+01, 1.49347794e+00],\n",
       "       [4.11503220e+01, 1.10820746e+00],\n",
       "       [1.10697060e+02, 3.31368148e-01],\n",
       "       [1.07015549e+02, 3.01718175e-01],\n",
       "       [1.14171890e+02, 2.88491189e-01],\n",
       "       [3.59346628e+00, 8.87178957e-01],\n",
       "       [8.72341003e+01, 3.96483302e-01],\n",
       "       [1.10454697e+02, 3.48221779e-01],\n",
       "       [7.57590637e+01, 6.95728898e-01],\n",
       "       [6.63777847e+01, 1.43283594e+00],\n",
       "       [4.60124321e+01, 2.53129601e+00],\n",
       "       [6.61127167e+01, 1.36252069e+00],\n",
       "       [3.57398033e+00, 1.02593911e+00],\n",
       "       [3.92573214e+00, 1.22534263e+00],\n",
       "       [4.43201790e+01, 2.72517490e+00],\n",
       "       [5.79751205e+01, 2.92866015e+00],\n",
       "       [1.27335358e+01, 1.43089223e+00],\n",
       "       [1.04793091e+02, 6.20521188e-01],\n",
       "       [1.02375900e+02, 1.59228742e-01],\n",
       "       [1.15664032e+02, 2.95531809e-01],\n",
       "       [6.61353912e+01, 7.12106943e-01],\n",
       "       [7.91095829e+00, 1.25837708e+00],\n",
       "       [2.51212673e+01, 1.94225430e+00],\n",
       "       [1.01794464e+02, 4.12694901e-01],\n",
       "       [7.05574512e-01, 1.13712430e+00],\n",
       "       [5.35442505e+01, 2.02007365e+00],\n",
       "       [1.88130436e+01, 1.47184896e+00],\n",
       "       [4.28411388e+00, 1.15083575e+00],\n",
       "       [2.04227238e+01, 1.54654574e+00],\n",
       "       [5.02625008e+01, 2.17027879e+00],\n",
       "       [2.97589188e+01, 1.48016465e+00],\n",
       "       [7.62809515e+00, 9.06892598e-01],\n",
       "       [8.09919739e+01, 3.98706615e-01],\n",
       "       [1.01208000e+02, 7.10529685e-01],\n",
       "       [2.01802578e+01, 1.69834960e+00],\n",
       "       [1.09775681e+02, 3.19742322e-01],\n",
       "       [6.20860596e+01, 2.32145786e+00],\n",
       "       [5.89014816e+01, 1.71353781e+00],\n",
       "       [9.13735046e+01, 8.61175656e-01],\n",
       "       [4.85052185e+01, 1.23461175e+00],\n",
       "       [5.98494186e+01, 1.46938086e+00],\n",
       "       [4.56565170e+01, 1.56210732e+00],\n",
       "       [1.03953468e+02, 5.68313420e-01],\n",
       "       [3.70864639e+01, 1.15385664e+00],\n",
       "       [4.57019234e+00, 7.36648381e-01],\n",
       "       [9.68049850e+01, 7.31291711e-01],\n",
       "       [4.18648491e+01, 1.28788412e+00],\n",
       "       [1.55161285e+01, 7.55600810e-01],\n",
       "       [1.03440933e+01, 1.39380622e+00],\n",
       "       [9.47742844e+00, 9.53306019e-01],\n",
       "       [6.18745728e+01, 3.16030073e+00],\n",
       "       [1.10010468e+02, 2.33065307e-01],\n",
       "       [8.07278290e+01, 9.95943427e-01],\n",
       "       [9.93790665e+01, 3.29180360e-01],\n",
       "       [2.20253906e+01, 1.70324731e+00],\n",
       "       [7.89860687e+01, 1.13295972e-01],\n",
       "       [7.46889954e+01, 9.46341872e-01],\n",
       "       [5.96407890e+01, 1.21239841e+00],\n",
       "       [5.57858925e+01, 7.13231146e-01],\n",
       "       [4.61980057e+01, 1.08887243e+00],\n",
       "       [4.07847176e+01, 1.89758372e+00],\n",
       "       [2.97193089e+01, 8.41486692e-01],\n",
       "       [1.08417114e+02, 2.49024093e-01],\n",
       "       [7.03408279e+01, 1.23643470e+00],\n",
       "       [7.65693665e-01, 1.16682482e+00],\n",
       "       [1.06656766e+00, 1.13295746e+00],\n",
       "       [1.03152847e+01, 1.25167394e+00],\n",
       "       [1.07152977e+02, 4.26715434e-01],\n",
       "       [7.86157894e+00, 1.38241458e+00],\n",
       "       [1.87677231e+01, 1.73573279e+00],\n",
       "       [1.67304344e+01, 1.27485502e+00],\n",
       "       [6.20388107e+01, 1.89559937e+00],\n",
       "       [6.17156258e+01, 1.28733110e+00],\n",
       "       [1.37923203e+01, 1.34312701e+00],\n",
       "       [1.54792061e+01, 1.55513132e+00],\n",
       "       [6.40314178e+01, 2.90287018e+00],\n",
       "       [9.81750793e+01, 8.57504487e-01],\n",
       "       [7.11548462e+01, 7.11128652e-01],\n",
       "       [8.77375259e+01, 2.51598418e-01],\n",
       "       [4.20911713e+01, 2.36735678e+00],\n",
       "       [4.47863388e+01, 2.67848420e+00],\n",
       "       [7.50128889e+00, 1.21010852e+00],\n",
       "       [1.39329777e+01, 9.97388482e-01],\n",
       "       [2.96551514e+01, 9.06924605e-01],\n",
       "       [9.98654556e+01, 6.87924981e-01],\n",
       "       [1.97895603e+01, 1.40612268e+00],\n",
       "       [6.93249702e-01, 1.18276715e+00],\n",
       "       [3.46492615e+01, 9.98311400e-01],\n",
       "       [3.59659243e+00, 1.03809452e+00],\n",
       "       [8.85617752e+01, 4.56295639e-01],\n",
       "       [5.07703590e+01, 1.94272161e+00],\n",
       "       [1.04610062e+02, 7.14181125e-01],\n",
       "       [7.07039413e+01, 9.46633935e-01],\n",
       "       [5.89983139e+01, 9.43234921e-01],\n",
       "       [3.61388168e+01, 1.74305868e+00],\n",
       "       [2.07268524e+01, 1.34540200e+00],\n",
       "       [3.49862900e+01, 1.45057964e+00],\n",
       "       [8.10225487e-01, 1.04665017e+00],\n",
       "       [4.91193008e+00, 9.71554458e-01],\n",
       "       [1.10483139e+02, 3.60049546e-01],\n",
       "       [5.19276314e+01, 1.51781058e+00],\n",
       "       [4.37567329e+01, 1.25072050e+00],\n",
       "       [8.46370773e+01, 9.22538757e-01],\n",
       "       [9.92382507e+01, 6.14848614e-01],\n",
       "       [3.96383953e+00, 1.02721584e+00],\n",
       "       [4.19337158e+01, 7.68984318e-01],\n",
       "       [5.83224220e+01, 2.28277397e+00],\n",
       "       [4.76027374e+01, 2.77506495e+00],\n",
       "       [1.10544479e+02, 4.39437062e-01],\n",
       "       [4.20314636e+01, 2.43399501e+00],\n",
       "       [2.11498413e+01, 1.61550140e+00],\n",
       "       [2.16618690e+01, 6.99372888e-01],\n",
       "       [1.09793106e+02, 2.95173347e-01],\n",
       "       [6.92275467e+01, 1.42591858e+00],\n",
       "       [1.07878143e+02, 4.70863312e-01],\n",
       "       [3.46544724e+01, 1.94249606e+00],\n",
       "       [9.03936844e+01, 8.38631868e-01],\n",
       "       [5.22799072e+01, 2.35029268e+00],\n",
       "       [2.36030540e+01, 1.26849556e+00],\n",
       "       [1.13228531e+02, 3.62546206e-01],\n",
       "       [6.02756691e+01, 7.94685125e-01],\n",
       "       [6.20970268e+01, 2.15159440e+00],\n",
       "       [4.68032608e+01, 3.84061873e-01],\n",
       "       [8.93409729e+01, 1.51282907e-01],\n",
       "       [3.99591980e+01, 1.16466200e+00],\n",
       "       [9.84040527e+01, 6.03878140e-01],\n",
       "       [6.49219360e+01, 2.85119414e+00],\n",
       "       [1.68728328e+00, 6.62986994e-01],\n",
       "       [5.80468102e+01, 3.07065010e-01],\n",
       "       [8.99722748e+01, 8.08799624e-01],\n",
       "       [6.57298737e+01, 2.25585961e+00],\n",
       "       [2.38238297e+01, 1.82535315e+00],\n",
       "       [1.06595612e+02, 6.48305297e-01],\n",
       "       [1.17684975e+01, 1.25766802e+00],\n",
       "       [1.42244148e+00, 1.18482947e+00],\n",
       "       [1.09767929e+02, 2.20074832e-01],\n",
       "       [4.72498550e+01, 1.04934597e+00],\n",
       "       [5.37355804e+01, 1.40071988e+00],\n",
       "       [2.28172417e+01, 1.16969991e+00],\n",
       "       [5.52980461e+01, 2.83524275e+00],\n",
       "       [3.02969980e+00, 1.18747771e+00],\n",
       "       [4.84662056e+01, 1.52114320e+00],\n",
       "       [5.43203735e+01, 1.89236617e+00],\n",
       "       [6.35289536e+01, 2.95253730e+00],\n",
       "       [4.08138561e+00, 8.68249774e-01],\n",
       "       [4.64233246e+01, 1.59894848e+00],\n",
       "       [7.27760468e+01, 1.36791813e+00],\n",
       "       [2.92031898e+01, 1.23113155e+00],\n",
       "       [6.28358688e+01, 2.43269634e+00],\n",
       "       [9.94085541e+01, 7.24059641e-01],\n",
       "       [1.37244406e+01, 1.56823421e+00],\n",
       "       [6.65464783e+01, 1.27391601e+00],\n",
       "       [7.81611710e+01, 1.07620358e+00],\n",
       "       [6.93426285e+01, 1.18775630e+00],\n",
       "       [3.98185730e+01, 1.49674749e+00],\n",
       "       [6.19242859e+01, 1.79889584e+00],\n",
       "       [1.43891931e+00, 9.98474598e-01],\n",
       "       [4.44990768e+01, 2.10385203e+00],\n",
       "       [7.71334076e+01, 1.05513144e+00],\n",
       "       [1.73009109e+01, 1.54270959e+00],\n",
       "       [9.26710510e+01, 5.17470598e-01],\n",
       "       [8.23347168e+01, 3.82564187e-01],\n",
       "       [1.21022568e+01, 1.46718550e+00],\n",
       "       [4.01627960e+01, 2.59569716e+00],\n",
       "       [2.81645851e+01, 2.02404046e+00],\n",
       "       [8.79497375e+01, 3.35935682e-01],\n",
       "       [9.22705307e+01, 8.54124606e-01],\n",
       "       [5.87532158e+01, 1.61917663e+00],\n",
       "       [8.88803005e-01, 7.40039706e-01],\n",
       "       [1.15467024e+00, 1.04295945e+00],\n",
       "       [1.00685005e+02, 2.57288396e-01],\n",
       "       [2.42688103e+01, 1.88346076e+00],\n",
       "       [9.31924591e+01, 7.28879869e-01],\n",
       "       [1.00880272e+02, 3.98739785e-01],\n",
       "       [1.79614401e+00, 9.96591449e-01],\n",
       "       [1.28155880e+01, 9.60809827e-01],\n",
       "       [1.88775768e+01, 1.22227979e+00],\n",
       "       [2.01424932e+00, 1.15375495e+00],\n",
       "       [4.61133385e+01, 2.15169072e+00],\n",
       "       [5.29480133e+01, 1.40250778e+00],\n",
       "       [5.56237297e+01, 1.76900959e+00],\n",
       "       [4.71754684e+01, 1.72974992e+00],\n",
       "       [2.10455704e+01, 1.18353331e+00],\n",
       "       [6.62929840e+01, 1.05476141e+00],\n",
       "       [2.69043007e+01, 5.96959710e-01],\n",
       "       [1.03286209e+02, 2.70022035e-01],\n",
       "       [5.32801361e+01, 1.21550095e+00],\n",
       "       [6.31316757e+01, 1.23508871e+00],\n",
       "       [1.12132751e+02, 3.79744589e-01],\n",
       "       [6.80716085e+00, 1.27306044e+00],\n",
       "       [5.27462425e+01, 2.81061816e+00],\n",
       "       [9.16018372e+01, 1.01445198e+00],\n",
       "       [6.36954689e+00, 8.26897800e-01],\n",
       "       [6.40823593e+01, 1.46993947e+00],\n",
       "       [3.80936394e+01, 9.94145274e-01],\n",
       "       [5.28484011e+00, 1.22813678e+00],\n",
       "       [3.28371811e+01, 2.26614380e+00],\n",
       "       [6.70127563e+01, 7.90412188e-01],\n",
       "       [2.69560966e+01, 1.66849267e+00],\n",
       "       [6.32385025e+01, 1.25200272e+00],\n",
       "       [4.34374428e+01, 2.23434973e+00],\n",
       "       [2.39400158e+01, 1.66186357e+00],\n",
       "       [3.35771332e+01, 2.13478446e+00],\n",
       "       [7.83806381e+01, 1.10345244e-01],\n",
       "       [1.07685184e+01, 1.42555237e+00],\n",
       "       [1.98656998e+01, 1.60373354e+00],\n",
       "       [7.38658218e+01, 3.92908514e-01],\n",
       "       [2.41864510e+01, 1.20448983e+00],\n",
       "       [5.97213364e+01, 1.14952612e+00],\n",
       "       [3.81496353e+01, 1.66512752e+00],\n",
       "       [4.32939072e+01, 2.66804171e+00],\n",
       "       [1.75535336e+01, 8.07587445e-01],\n",
       "       [5.26553001e+01, 2.07949328e+00],\n",
       "       [5.16339035e+01, 9.24822748e-01],\n",
       "       [1.28173409e+01, 8.97843778e-01],\n",
       "       [9.98096466e+01, 1.51860058e-01],\n",
       "       [5.83290710e+01, 2.96650481e+00],\n",
       "       [3.35321274e+01, 3.58538449e-01],\n",
       "       [5.09130745e+01, 1.56113732e+00],\n",
       "       [9.71950302e+01, 4.10400629e-01],\n",
       "       [8.23501968e+01, 1.09714210e-01],\n",
       "       [2.84802628e+01, 1.69391990e+00],\n",
       "       [5.02257576e+01, 1.98544908e+00],\n",
       "       [1.02624107e+02, 1.67875886e-01],\n",
       "       [4.63511314e+01, 1.83144951e+00],\n",
       "       [1.08391579e+02, 1.87450409e-01],\n",
       "       [6.92123318e+00, 1.12728238e+00],\n",
       "       [5.59091492e+01, 8.33842933e-01],\n",
       "       [1.00458097e+00, 1.09424293e+00],\n",
       "       [3.84214287e+01, 1.46530879e+00],\n",
       "       [5.67999535e+01, 2.72190070e+00],\n",
       "       [4.94133224e+01, 2.35969663e+00],\n",
       "       [5.49363403e+01, 9.62640166e-01],\n",
       "       [1.41268530e+01, 1.21820199e+00],\n",
       "       [1.03354446e+02, 1.81900859e-01],\n",
       "       [1.05217186e+02, 1.86689436e-01],\n",
       "       [1.03063011e+02, 5.91582179e-01],\n",
       "       [7.40477142e+01, 3.37587059e-01],\n",
       "       [9.76810913e+01, 1.82776392e-01],\n",
       "       [5.75380402e+01, 1.55291104e+00],\n",
       "       [4.57984619e+01, 2.64663506e+00],\n",
       "       [1.01591309e+02, 4.35642570e-01],\n",
       "       [1.10598068e+02, 2.87883699e-01],\n",
       "       [1.41781330e+00, 1.15899265e+00],\n",
       "       [3.32837391e+00, 1.02426565e+00],\n",
       "       [1.87337375e+00, 5.67482769e-01],\n",
       "       [1.78230324e+01, 1.67505336e+00],\n",
       "       [2.30222111e+01, 1.77425480e+00],\n",
       "       [4.77549477e+01, 1.27563310e+00],\n",
       "       [3.58823662e+01, 1.44288898e+00],\n",
       "       [2.11931872e+00, 1.01404119e+00],\n",
       "       [7.36866150e+01, 1.15408552e+00],\n",
       "       [5.46843567e+01, 2.22856832e+00],\n",
       "       [1.96459217e+01, 1.26713848e+00],\n",
       "       [2.46025620e+01, 1.43540978e+00],\n",
       "       [6.56411209e+01, 1.33547330e+00],\n",
       "       [1.26460648e+01, 1.23832750e+00],\n",
       "       [4.66980028e+00, 1.06182957e+00],\n",
       "       [8.42783737e+01, 8.56248319e-01],\n",
       "       [2.15399780e+01, 6.55523479e-01],\n",
       "       [1.00056229e+01, 1.42650759e+00],\n",
       "       [2.23395996e+01, 1.83023143e+00],\n",
       "       [6.48142910e+00, 1.04280162e+00],\n",
       "       [3.67513924e+01, 1.55658221e+00],\n",
       "       [8.78338242e+01, 1.23361051e-01],\n",
       "       [2.34226475e+01, 1.31751943e+00],\n",
       "       [1.13810966e+02, 2.44298160e-01],\n",
       "       [3.91608124e+01, 2.06820345e+00],\n",
       "       [2.31670723e+01, 7.19773293e-01],\n",
       "       [1.12147720e+02, 2.72864461e-01],\n",
       "       [4.08783875e+01, 9.66267049e-01],\n",
       "       [6.30083694e+01, 2.75788951e+00],\n",
       "       [3.03930435e+01, 9.27266955e-01],\n",
       "       [3.44240074e+01, 1.99587321e+00],\n",
       "       [8.28586578e-01, 1.09255266e+00],\n",
       "       [1.04120148e+02, 4.81717139e-01],\n",
       "       [1.15223763e+02, 3.66129935e-01],\n",
       "       [1.40597477e+01, 1.52687061e+00],\n",
       "       [4.36490860e+01, 1.38295174e+00],\n",
       "       [1.75794659e+01, 1.73976195e+00],\n",
       "       [4.96563187e+01, 2.48778939e+00],\n",
       "       [6.22963905e-01, 8.52976084e-01],\n",
       "       [6.46985779e+01, 2.32016373e+00],\n",
       "       [2.65663147e+01, 1.68032765e+00],\n",
       "       [6.55507812e+01, 3.07825875e+00],\n",
       "       [4.63887444e+01, 1.82522821e+00],\n",
       "       [1.10291245e+02, 2.64132738e-01],\n",
       "       [2.20030956e+01, 7.28609085e-01],\n",
       "       [5.99851685e+01, 2.07953548e+00],\n",
       "       [3.38645325e+01, 2.30499673e+00],\n",
       "       [6.69410553e+01, 1.53078604e+00],\n",
       "       [4.96794281e+01, 2.35877419e+00],\n",
       "       [4.01711655e+01, 5.06919622e-01],\n",
       "       [1.05884201e+02, 1.63795054e-01],\n",
       "       [5.85836105e+01, 2.15552735e+00],\n",
       "       [1.92535820e+01, 1.44809878e+00],\n",
       "       [4.63229027e+01, 1.39780533e+00],\n",
       "       [8.99132767e+01, 7.38945544e-01],\n",
       "       [6.07580986e+01, 1.31131637e+00],\n",
       "       [6.07776108e+01, 1.76066232e+00],\n",
       "       [7.16440277e+01, 1.08528137e+00],\n",
       "       [1.25124149e+01, 1.00200522e+00],\n",
       "       [4.07618637e+01, 2.11917090e+00],\n",
       "       [5.91949997e+01, 2.26870728e+00],\n",
       "       [3.95765190e+01, 1.65054297e+00],\n",
       "       [3.08996239e+01, 1.33443284e+00],\n",
       "       [1.52371578e+01, 1.28637052e+00],\n",
       "       [9.31588135e+01, 9.70604658e-01],\n",
       "       [2.26433430e+01, 1.36560547e+00],\n",
       "       [4.56887054e+01, 1.24182415e+00],\n",
       "       [6.39477921e+01, 2.43648791e+00],\n",
       "       [1.23598671e+01, 1.37382257e+00],\n",
       "       [6.19930077e+01, 2.52796125e+00],\n",
       "       [5.52109680e+01, 1.03631449e+00],\n",
       "       [5.78981743e+01, 1.75054216e+00],\n",
       "       [7.74220352e+01, 1.09886765e-01],\n",
       "       [5.89271698e+01, 2.64062452e+00],\n",
       "       [2.48819685e+00, 1.22351491e+00],\n",
       "       [1.95453606e+01, 1.67606759e+00],\n",
       "       [6.23216553e+01, 1.59245038e+00],\n",
       "       [1.03901184e+02, 1.72771156e-01],\n",
       "       [3.10770950e+01, 1.73463404e+00],\n",
       "       [1.96448765e+01, 1.00491679e+00],\n",
       "       [4.55513992e+01, 2.57313943e+00],\n",
       "       [6.36063271e+01, 2.50655031e+00],\n",
       "       [2.96153545e+00, 1.10157895e+00],\n",
       "       [4.56493235e+00, 1.03372598e+00],\n",
       "       [2.83356056e+01, 2.01041722e+00],\n",
       "       [3.46571007e+01, 2.21758652e+00],\n",
       "       [4.21948776e+01, 2.44930220e+00],\n",
       "       [4.10777855e+01, 1.70008647e+00],\n",
       "       [8.99423122e-01, 1.07828140e+00],\n",
       "       [5.98582001e+01, 2.03844166e+00],\n",
       "       [1.03790047e+02, 2.01968133e-01],\n",
       "       [2.08698845e+01, 7.67778039e-01],\n",
       "       [1.42395630e+01, 9.02044654e-01],\n",
       "       [5.64485588e+01, 1.75594163e+00],\n",
       "       [1.12515015e+02, 2.36012638e-01],\n",
       "       [3.73961029e+01, 4.94891763e-01],\n",
       "       [3.23482285e+01, 1.08805060e+00],\n",
       "       [2.99485378e+01, 1.05792546e+00],\n",
       "       [6.15487366e+01, 7.03868330e-01],\n",
       "       [5.81595726e+01, 1.40518737e+00],\n",
       "       [2.54729342e+00, 9.67954159e-01],\n",
       "       [9.61296005e+01, 7.26513028e-01]])>"
      ]
     },
     "execution_count": 53,
     "metadata": {},
     "output_type": "execute_result"
    }
   ],
   "source": [
    "mle"
   ]
  },
  {
   "cell_type": "code",
   "execution_count": 18,
   "metadata": {},
   "outputs": [
    {
     "data": {
      "image/png": "[encoded data removed]",
      "text/plain": [
       "<Figure size 432x288 with 1 Axes>"
      ]
     },
     "metadata": {
      "needs_background": "light"
     },
     "output_type": "display_data"
    },
    {
     "data": {
      "image/png": "[encoded data removed]",
      "text/plain": [
       "<Figure size 432x288 with 1 Axes>"
      ]
     },
     "metadata": {
      "needs_background": "light"
     },
     "output_type": "display_data"
    }
   ],
   "source": [
    "plt.hist(mle[:,0].numpy() - theta[:,0].numpy(), bins = 60, histtype='step', density=True, label='learned score MLE')\n",
    "plt.xlabel(r'$\\hat{\\rm mean} - \\rm{mean}$')\n",
    "plt.legend(frameon=False)\n",
    "plt.show()\n",
    "\n",
    "\n",
    "plt.hist(mle[:,1].numpy() - theta[:,1].numpy(), bins = 60, histtype='step', density=True, label='learned score MLE')\n",
    "plt.xlabel(r'$\\hat{\\rm scale} - \\rm scale$')\n",
    "plt.legend(frameon=False)\n",
    "plt.show()"
   ]
  },
  {
   "cell_type": "code",
   "execution_count": 21,
   "metadata": {},
   "outputs": [
    {
     "data": {
      "text/plain": [
       "<matplotlib.collections.PathCollection at 0x7ff4109037d0>"
      ]
     },
     "execution_count": 21,
     "metadata": {},
     "output_type": "execute_result"
    }
   ],
   "source": [
    "plt.scatter(theta[:10000, 0].numpy(), mle[:10000, 0].numpy(), s=1)"
   ]
  },
  {
   "cell_type": "code",
   "execution_count": 20,
   "metadata": {},
   "outputs": [
    {
     "data": {
      "text/plain": [
       "<matplotlib.collections.PathCollection at 0x7ff3ebc31210>"
      ]
     },
     "execution_count": 20,
     "metadata": {},
     "output_type": "execute_result"
    },
    {
     "data": {
      "image/png": "[encoded data removed]",
      "text/plain": [
       "<Figure size 432x288 with 1 Axes>"
      ]
     },
     "metadata": {
      "needs_background": "light"
     },
     "output_type": "display_data"
    }
   ],
   "source": [
    "plt.scatter(theta[:10000, 1].numpy(), mle[:10000, 1].numpy(), s=1)"
   ]
  },
  {
   "cell_type": "code",
   "execution_count": null,
   "metadata": {},
   "outputs": [],
   "source": []
  }
 ],
 "metadata": {
  "kernelspec": {
   "display_name": "Python 3",
   "language": "python",
   "name": "python3"
  },
  "language_info": {
   "codemirror_mode": {
    "name": "ipython",
    "version": 3
   },
   "file_extension": ".py",
   "mimetype": "text/x-python",
   "name": "python",
   "nbconvert_exporter": "python",
   "pygments_lexer": "ipython3",
   "version": "3.7.7"
  },
  "orig_nbformat": 4
 },
 "nbformat": 4,
 "nbformat_minor": 2
}

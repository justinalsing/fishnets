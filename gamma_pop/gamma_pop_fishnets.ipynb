{
  "cells": [
    {
      "cell_type": "markdown",
      "metadata": {},
      "source": [
        "# gamma population model"
      ]
    },
    {
      "cell_type": "code",
      "execution_count": 1,
      "metadata": {
        "colab": {
          "base_uri": "https://localhost:8080/"
        },
        "id": "bJyKwvMV_IBB",
        "outputId": "fe782e21-bd5b-423f-a00b-b5a4ae31dab5",
        "vscode": {
          "languageId": "python"
        }
      },
      "outputs": [
        {
          "name": "stdout",
          "output_type": "stream",
          "text": [
            "/home/makinen/repositories/fishnets\n"
          ]
        }
      ],
      "source": [
        "cd /home/makinen/repositories/fishnets/"
      ]
    },
    {
      "cell_type": "code",
      "execution_count": 2,
      "metadata": {
        "id": "z78qFAwOI4eS",
        "vscode": {
          "languageId": "python"
        }
      },
      "outputs": [
        {
          "name": "stderr",
          "output_type": "stream",
          "text": [
            "/softs/python/py3mods/tensorflow/2.8.4/keras/optimizer_v2/adam.py:105: UserWarning: The `lr` argument is deprecated, use `learning_rate` instead.\n",
            "  super(Adam, self).__init__(name, **kwargs)\n"
          ]
        }
      ],
      "source": [
        "import jax.numpy as jnp\n",
        "from jax import grad, jit, vmap\n",
        "from jax import random\n",
        "#import torch\n",
        "import jax\n",
        "from jax import lax\n",
        "#import jax_cosmo as jc\n",
        "import scipy.constants as cnst\n",
        "import scipy.stats as ss\n",
        "\n",
        "import matplotlib.pyplot as plt\n",
        "\n",
        "import numpy as np\n",
        "import numpyro\n",
        "import numpyro.distributions as dist\n",
        "\n",
        "import tensorflow as tf\n",
        "import tensorflow_probability as tfp\n",
        "from tqdm import trange\n",
        "from scipy import stats\n",
        "tfk = tf.keras\n",
        "\n",
        "from fishnets import *"
      ]
    },
    {
      "cell_type": "code",
      "execution_count": 3,
      "metadata": {
        "id": "d3vfPgMfRyVq",
        "vscode": {
          "languageId": "python"
        }
      },
      "outputs": [],
      "source": [
        "def gamma_pop_model_while(key, theta, \n",
        "                    n_data=500, \n",
        "                    serum_min=0.2, \n",
        "                    tmax=10.,\n",
        "                    A=1.0):\n",
        "\n",
        "  population = jnp.zeros((n_data, 2))\n",
        "  concentration, report_delay = theta # shape, reporting delay\n",
        "  rate = concentration / report_delay\n",
        "  key,rng = jax.random.split(key)\n",
        "\n",
        "  def fn(data_tuple):\n",
        "    data,key = data_tuple\n",
        "    key,rng = jax.random.split(key)\n",
        "    decay_time = dist.Gamma(concentration=concentration, \n",
        "                           rate=rate).sample(key, ())\n",
        "\n",
        "    key,rng = jax.random.split(key)\n",
        "    measurement_time = dist.Uniform(low=0.0, high=tmax).sample(key, ())\n",
        "\n",
        "    key,rng = jax.random.split(key)\n",
        "    _lambda = A * jnp.exp(-measurement_time / decay_time )\n",
        "    measured_serum_level = dist.Poisson(rate=_lambda).sample(key, ())\n",
        "\n",
        "    measured_serum_level += dist.Normal(loc=0.0, scale=0.2).sample(key, ())\n",
        "\n",
        "    return jnp.array([measurement_time, measured_serum_level]), key\n",
        "\n",
        "  def cond_fun(data_tuple):\n",
        "    data,_ = data_tuple\n",
        "    return data[1] < serum_min\n",
        "\n",
        "  for i in range(population.shape[0]):\n",
        "      key,rng = jax.random.split(key)\n",
        "      #ody_fn = lambda d: fn(key=key, data=d)\n",
        "      data,_ = jax.lax.while_loop(cond_fun, fn, init_val=(jnp.ones((2,))*0, key))\n",
        "\n",
        "      population = population.at[i, :].set(data)\n",
        "\n",
        "  return population"
      ]
    },
    {
      "cell_type": "code",
      "execution_count": null,
      "metadata": {
        "id": "2jA7In-1RuQX",
        "vscode": {
          "languageId": "python"
        }
      },
      "outputs": [],
      "source": [
        "# def gamma_pop_model_while(key, theta, \n",
        "#                     n_data=500, \n",
        "#                     serum_min=0.2, \n",
        "#                     tmax=10.,\n",
        "#                     A=1.0):\n",
        "\n",
        "#   population = jnp.zeros((n_data, 2))\n",
        "#   concentration, report_delay = theta # shape, reporting delay\n",
        "#   rate = concentration / report_delay\n",
        "#   key,rng = jax.random.split(key)\n",
        "\n",
        "#   def fn(data_tuple):\n",
        "#     data,key = data_tuple\n",
        "#     key,rng = jax.random.split(key)\n",
        "#     decay_time = numpyro.sample('decay_time', dist.Gamma(concentration=concentration, \n",
        "#                                                   rate=rate))\n",
        "#     #dist.Gamma(concentration=concentration, \n",
        "#                  #           rate=rate).sample(key, ())\n",
        "\n",
        "\n",
        "#   mag = numpyro.sample('gauss_hermitian_mag', dist.Independent(dist.Normal(np.zeros(shape), \n",
        "#                                                                                 np.ones(shape)) ,\n",
        "#                                                                      self.dim))\n",
        "#   pha = numpyro.sample('gauss_hermitian_pha', dist.Independent(dist.Uniform(np.zeros(shape), \n",
        "#                                                                  2 * np.pi * np.ones(shape)),\n",
        "#                                                                      self.dim))\n",
        "    \n",
        "#     key,rng = jax.random.split(key)\n",
        "#     measurement_time = dist.Uniform(low=0.0, high=tmax).sample(key, ())\n",
        "\n",
        "#     key,rng = jax.random.split(key)\n",
        "#     _lambda = A * jnp.exp(-measurement_time / decay_time )\n",
        "#     measured_serum_level = dist.Poisson(rate=_lambda).sample(key, ())\n",
        "#     return jnp.array([measurement_time, measured_serum_level]), key\n",
        "\n",
        "#   def cond_fun(data_tuple):\n",
        "#     data,_ = data_tuple\n",
        "#     return data[1] < serum_min\n",
        "\n",
        "#   for i in range(population.shape[0]):\n",
        "#       key,rng = jax.random.split(key)\n",
        "#       #ody_fn = lambda d: fn(key=key, data=d)\n",
        "#       data,_ = jax.lax.while_loop(cond_fun, fn, init_val=(jnp.zeros((2,)), key))\n",
        "\n",
        "#       population = population.at[i, :].set(data)\n",
        "\n",
        "#   return population"
      ]
    },
    {
      "cell_type": "code",
      "execution_count": 13,
      "metadata": {
        "id": "W9G1kK_qGB2f",
        "vscode": {
          "languageId": "python"
        }
      },
      "outputs": [],
      "source": [
        "# now generate a shitton of simulations over a prior for theta\n",
        "\n",
        "# theta = (concentration, rate)\n",
        "# mean of Gamma = concentration / rate\n",
        "key = jax.random.PRNGKey(33)\n",
        "\n",
        "concentrations = dist.TruncatedNormal(loc=2.0, scale=0.1, low=1.0).sample(key, (10000,))\n",
        "#dist.Uniform(low=1.0, high=4.0).sample(key, (10000,))\n",
        "\n",
        "key,rng = jax.random.split(key)\n",
        "report_delay = dist.Uniform(low=1.0, high=3.0).sample(key, (10000,))\n",
        "\n",
        "theta = jnp.vstack([concentrations, report_delay]).T"
      ]
    },
    {
      "cell_type": "code",
      "execution_count": 14,
      "metadata": {
        "vscode": {
          "languageId": "python"
        }
      },
      "outputs": [
        {
          "name": "stdout",
          "output_type": "stream",
          "text": [
            "CPU times: user 21 s, sys: 402 ms, total: 21.4 s\n",
            "Wall time: 18.2 s\n"
          ]
        }
      ],
      "source": [
        "# # now make sims\n",
        "keys = jax.random.split(jax.random.PRNGKey(0), num=10000)\n",
        "%time data = jax.vmap(gamma_pop_model_while)(keys, theta)"
      ]
    },
    {
      "cell_type": "code",
      "execution_count": 15,
      "metadata": {
        "vscode": {
          "languageId": "python"
        }
      },
      "outputs": [
        {
          "data": {
            "text/plain": [
              "(array([55., 88., 23., 50.,  4.,  0., 24.,  2.,  0.,  7.,  8.,  3.,  9.,\n",
              "        10.,  7., 20.,  3., 12., 12., 20., 16., 23., 19.,  0., 18.,  1.,\n",
              "         0.,  0.,  0.,  5.,  0.,  0.,  0.,  0.,  0.,  6.,  2.,  9.,  2.,\n",
              "         0.,  6.,  4.,  7.,  0.,  0., 12.,  0.,  0.,  0.,  0.,  0.,  0.,\n",
              "         0.,  0.,  0.,  0.,  0.,  0.,  3., 10.]),\n",
              " array([0.20763777, 0.25348398, 0.2993302 , 0.3451764 , 0.39102262,\n",
              "        0.43686885, 0.48271504, 0.52856123, 0.57440746, 0.6202537 ,\n",
              "        0.6660999 , 0.7119461 , 0.7577923 , 0.8036385 , 0.84948474,\n",
              "        0.89533097, 0.9411772 , 0.98702335, 1.0328696 , 1.0787158 ,\n",
              "        1.124562  , 1.1704082 , 1.2162545 , 1.2621007 , 1.3079469 ,\n",
              "        1.353793  , 1.3996392 , 1.4454855 , 1.4913317 , 1.5371779 ,\n",
              "        1.5830241 , 1.6288704 , 1.6747166 , 1.7205628 , 1.766409  ,\n",
              "        1.8122551 , 1.8581014 , 1.9039476 , 1.9497938 , 1.99564   ,\n",
              "        2.0414863 , 2.0873325 , 2.1331787 , 2.179025  , 2.2248712 ,\n",
              "        2.2707174 , 2.3165636 , 2.3624098 , 2.408256  , 2.4541023 ,\n",
              "        2.4999483 , 2.5457945 , 2.5916407 , 2.637487  , 2.6833332 ,\n",
              "        2.7291794 , 2.7750256 , 2.8208718 , 2.866718  , 2.9125643 ,\n",
              "        2.9584105 ], dtype=float32),\n",
              " <BarContainer object of 60 artists>)"
            ]
          },
          "execution_count": 15,
          "metadata": {},
          "output_type": "execute_result"
        },
        {
          "data": {
            "image/png": "[encoded data removed]",
            "text/plain": [
              "<Figure size 432x288 with 1 Axes>"
            ]
          },
          "metadata": {
            "needs_background": "light"
          },
          "output_type": "display_data"
        }
      ],
      "source": [
        "plt.hist(np.array(data[200, :, 1]), bins=60)"
      ]
    },
    {
      "cell_type": "code",
      "execution_count": 16,
      "metadata": {
        "vscode": {
          "languageId": "python"
        }
      },
      "outputs": [],
      "source": [
        "np.save('./gamma_pop/data_gamma_delays.npy', data)\n",
        "np.save('./gamma_pop/theta_gamma_delays.npy', theta)"
      ]
    },
    {
      "cell_type": "markdown",
      "metadata": {
        "id": "wd4ZMCIN5bSj"
      },
      "source": [
        "# fishnets models"
      ]
    },
    {
      "cell_type": "code",
      "execution_count": 3,
      "metadata": {
        "vscode": {
          "languageId": "python"
        }
      },
      "outputs": [],
      "source": [
        "data = np.load('./gamma_pop/data_gamma_delays.npy')\n",
        "theta = np.load('./gamma_pop/theta_gamma_delays.npy')"
      ]
    },
    {
      "cell_type": "code",
      "execution_count": 4,
      "metadata": {
        "vscode": {
          "languageId": "python"
        }
      },
      "outputs": [
        {
          "data": {
            "text/plain": [
              "8.0973835"
            ]
          },
          "execution_count": 4,
          "metadata": {},
          "output_type": "execute_result"
        }
      ],
      "source": [
        "np.max(data[:, :, 1])"
      ]
    },
    {
      "cell_type": "code",
      "execution_count": 5,
      "metadata": {
        "vscode": {
          "languageId": "python"
        }
      },
      "outputs": [],
      "source": [
        "full_data = np.zeros((10000,500,2))\n",
        "full_data[:, :, 0] = data[:, :, 0] / 10.\n",
        "full_data[:, :, 1] = data[:, :, 1] / 8.\n",
        "#full_data[:, :, 2] = x1\n",
        "#full_data[:, :, 3] = x2; del data\n",
        "data = full_data"
      ]
    },
    {
      "cell_type": "code",
      "execution_count": 6,
      "metadata": {
        "id": "ggnCDHHO4vzj",
        "vscode": {
          "languageId": "python"
        }
      },
      "outputs": [],
      "source": [
        "import numpy as np\n",
        "\n",
        "n_sims = 10000\n",
        "n_data = 500\n",
        "n_theta = 2\n",
        "\n",
        "tmax=10. # days\n",
        "serum_max_val=4.0\n",
        "\n",
        "theta_fid = tf.constant([2.0, 2.0], dtype=tf.float32) \n",
        "theta_fid_ = theta_fid.numpy()\n",
        "\n",
        "# stack up the data and parameters\n",
        "data = tf.convert_to_tensor(data, dtype=tf.float32)\n",
        "theta = tf.convert_to_tensor(theta, dtype=tf.float32)\n",
        "\n",
        "# construct masks\n",
        "score_mask = np.ones((n_sims, n_data, n_theta))\n",
        "fisher_mask = np.ones((n_sims, n_data, n_theta, n_theta))\n",
        "\n",
        "\n",
        "score_mask = tf.convert_to_tensor(score_mask, dtype=tf.float32)\n",
        "fisher_mask = tf.convert_to_tensor(fisher_mask, dtype=tf.float32)"
      ]
    },
    {
      "cell_type": "code",
      "execution_count": 7,
      "metadata": {
        "id": "5XrQF-BQ5l8t",
        "vscode": {
          "languageId": "python"
        }
      },
      "outputs": [],
      "source": [
        "Model = FishnetTwinNorm(n_parameters=n_theta, \n",
        "                n_inputs=2, \n",
        "                n_hidden_score=[128, 128, 128], \n",
        "                activation_score=[tf.nn.elu, tf.nn.elu,  tf.nn.elu],\n",
        "                n_hidden_fisher=[128, 128, 128], \n",
        "                activation_fisher=[tf.nn.elu, tf.nn.elu,  tf.nn.elu],\n",
        "                optimizer=tf.keras.optimizers.Adam(lr=5e-4),\n",
        "                theta_fid=theta_fid,\n",
        "                priormu=tf.zeros(n_theta, dtype=tf.float32),\n",
        "                priorCinv=tf.eye(n_theta, dtype=tf.float32))"
      ]
    },
    {
      "cell_type": "code",
      "execution_count": 8,
      "metadata": {
        "colab": {
          "base_uri": "https://localhost:8080/"
        },
        "id": "M2nrrYXt6H-s",
        "outputId": "db699dde-0484-4ddb-f309-75fd95f2553a",
        "vscode": {
          "languageId": "python"
        }
      },
      "outputs": [
        {
          "name": "stderr",
          "output_type": "stream",
          "text": [
            "  0%|          | 0/100 [00:00<?, ?it/s]WARNING:tensorflow:From /data80/makinen/venvs/imnndev/lib/python3.7/site-packages/tensorflow_probability/python/distributions/distribution.py:342: MultivariateNormalFullCovariance.__init__ (from tensorflow_probability.python.distributions.mvn_full_covariance) is deprecated and will be removed after 2019-12-01.\n",
            "Instructions for updating:\n",
            "`MultivariateNormalFullCovariance` is deprecated, use `MultivariateNormalTriL(loc=loc, scale_tril=tf.linalg.cholesky(covariance_matrix))` instead.\n",
            " 23%|██▎       | 23/100 [00:59<03:00,  2.35s/it, loss=2.85]"
          ]
        }
      ],
      "source": [
        "Model.train((data, theta, score_mask, fisher_mask), lr=1e-3, epochs=100, lossfn='kl')\n",
        "Model.train((data, theta, score_mask, fisher_mask), lr=5e-4, epochs=100, lossfn='kl')\n",
        "Model.train((data, theta, score_mask, fisher_mask), lr=1e-4, epochs=100, lossfn='kl')\n",
        "Model.train((data, theta, score_mask, fisher_mask), lr=5e-5, epochs=100, lossfn='kl')"
      ]
    },
    {
      "cell_type": "code",
      "execution_count": null,
      "metadata": {
        "vscode": {
          "languageId": "python"
        }
      },
      "outputs": [
        {
          "ename": "",
          "evalue": "",
          "output_type": "error",
          "traceback": [
            "\u001b[1;31mFailed to connect to the remote Jupyter Server 'http://h07:8888/'. Verify the server is running and reachable. (request to http://h07:8888/api/kernels?1672928155922 failed, reason: connect ECONNREFUSED 10.0.21.7:8888)."
          ]
        }
      ],
      "source": [
        "Model.train((data, theta, score_mask, fisher_mask), lr=5e-6, epochs=100, lossfn='mse')"
      ]
    },
    {
      "cell_type": "code",
      "execution_count": 39,
      "metadata": {
        "vscode": {
          "languageId": "python"
        }
      },
      "outputs": [
        {
          "name": "stderr",
          "output_type": "stream",
          "text": [
            "100%|██████████| 50/50 [00:03<00:00, 14.94it/s]\n"
          ]
        }
      ],
      "source": [
        "# model MLEs\n",
        "mle, F  = Model.compute_mle_(data, score_mask, fisher_mask)"
      ]
    },
    {
      "cell_type": "code",
      "execution_count": null,
      "metadata": {
        "vscode": {
          "languageId": "python"
        }
      },
      "outputs": [],
      "source": [
        "mle = tf.convert_to_tensor(mle.numpy(), dtype=tf.float32)\n",
        "mle_flow = Model.normflow.bijector(mle)"
      ]
    },
    {
      "cell_type": "code",
      "execution_count": 10,
      "metadata": {
        "vscode": {
          "languageId": "python"
        }
      },
      "outputs": [
        {
          "data": {
            "image/png": "[encoded data removed]",
            "text/plain": [
              "<Figure size 432x288 with 1 Axes>"
            ]
          },
          "metadata": {
            "needs_background": "light"
          },
          "output_type": "display_data"
        },
        {
          "data": {
            "image/png": "[encoded data removed]",
            "text/plain": [
              "<Figure size 432x288 with 1 Axes>"
            ]
          },
          "metadata": {
            "needs_background": "light"
          },
          "output_type": "display_data"
        }
      ],
      "source": [
        "#plt.hist(mle_flow[:,0].numpy() - theta[:,0].numpy(), bins = 60, histtype='step', density=True, label='flow score MLE')\n",
        "plt.hist(mle[:,0].numpy() - theta[:,0].numpy(), bins = 60, histtype='step', density=True, label='learned score MLE')\n",
        "plt.xlabel(r'$\\hat{\\alpha} - \\alpha$')\n",
        "plt.legend(frameon=False)\n",
        "plt.show()\n",
        "\n",
        "\n",
        "#plt.hist(mle_flow[:,1].numpy() - theta[:,1].numpy(), bins = 60, histtype='step', density=True, label='flow score MLE')\n",
        "plt.hist(mle[:,1].numpy() - theta[:,1].numpy(), bins = 60, histtype='step', density=True, label='learned score MLE')\n",
        "plt.xlabel(r'$\\hat{\\beta} - \\beta$')\n",
        "plt.legend(frameon=False)\n",
        "plt.show()"
      ]
    },
    {
      "cell_type": "code",
      "execution_count": 13,
      "metadata": {
        "vscode": {
          "languageId": "python"
        }
      },
      "outputs": [
        {
          "data": {
            "text/plain": [
              "<matplotlib.collections.PathCollection at 0x7ef8101aef50>"
            ]
          },
          "execution_count": 13,
          "metadata": {},
          "output_type": "execute_result"
        },
        {
          "data": {
            "image/png": "[encoded data removed]",
            "text/plain": [
              "<Figure size 432x288 with 1 Axes>"
            ]
          },
          "metadata": {
            "needs_background": "light"
          },
          "output_type": "display_data"
        }
      ],
      "source": [
        "plt.scatter(theta[:, 0].numpy(), mle[:, 0].numpy())"
      ]
    },
    {
      "cell_type": "code",
      "execution_count": 14,
      "metadata": {
        "vscode": {
          "languageId": "python"
        }
      },
      "outputs": [
        {
          "data": {
            "text/plain": [
              "<matplotlib.collections.PathCollection at 0x7ef8100bc810>"
            ]
          },
          "execution_count": 14,
          "metadata": {},
          "output_type": "execute_result"
        },
        {
          "data": {
            "image/png": "[encoded data removed]",
            "text/plain": [
              "<Figure size 432x288 with 1 Axes>"
            ]
          },
          "metadata": {
            "needs_background": "light"
          },
          "output_type": "display_data"
        }
      ],
      "source": [
        "plt.scatter(theta[:, 1].numpy(), mle[:, 1].numpy())"
      ]
    },
    {
      "cell_type": "code",
      "execution_count": 17,
      "metadata": {
        "vscode": {
          "languageId": "python"
        }
      },
      "outputs": [
        {
          "data": {
            "image/png": "[encoded data removed]",
            "text/plain": [
              "<Figure size 432x288 with 1 Axes>"
            ]
          },
          "metadata": {
            "needs_background": "light"
          },
          "output_type": "display_data"
        },
        {
          "data": {
            "image/png": "[encoded data removed]",
            "text/plain": [
              "<Figure size 432x288 with 1 Axes>"
            ]
          },
          "metadata": {
            "needs_background": "light"
          },
          "output_type": "display_data"
        }
      ],
      "source": [
        "plt.hist(mle[:,0].numpy() - theta[:,0].numpy(), bins = 60, histtype='step', density=True, label='learned score MLE')\n",
        "plt.xlabel(r'$\\hat{\\alpha} - \\alpha$')\n",
        "plt.legend(frameon=False)\n",
        "plt.show()\n",
        "\n",
        "plt.hist(mle[:,1].numpy() - theta[:,1].numpy(), bins = 60, histtype='step', density=True, label='learned score MLE')\n",
        "plt.xlabel(r'$\\hat{\\beta} - \\beta$')\n",
        "plt.legend(frameon=False)\n",
        "plt.show()"
      ]
    },
    {
      "cell_type": "code",
      "execution_count": 14,
      "metadata": {
        "vscode": {
          "languageId": "python"
        }
      },
      "outputs": [
        {
          "data": {
            "image/png": "[encoded data removed]",
            "text/plain": [
              "<Figure size 432x288 with 1 Axes>"
            ]
          },
          "metadata": {
            "needs_background": "light"
          },
          "output_type": "display_data"
        },
        {
          "data": {
            "image/png": "[encoded data removed]",
            "text/plain": [
              "<Figure size 432x288 with 1 Axes>"
            ]
          },
          "metadata": {
            "needs_background": "light"
          },
          "output_type": "display_data"
        }
      ],
      "source": [
        "plt.hist(mle[:,0].numpy() - theta[:,0].numpy(), bins = 60, histtype='step', density=True, label='learned score MLE')\n",
        "plt.xlabel(r'$\\hat{\\alpha} - \\alpha$')\n",
        "plt.legend(frameon=False)\n",
        "plt.show()\n",
        "\n",
        "plt.hist(mle[:,1].numpy() - theta[:,1].numpy(), bins = 60, histtype='step', density=True, label='learned score MLE')\n",
        "plt.xlabel(r'$\\hat{\\beta} - \\beta$')\n",
        "plt.legend(frameon=False)\n",
        "plt.show()"
      ]
    },
    {
      "cell_type": "code",
      "execution_count": 11,
      "metadata": {
        "vscode": {
          "languageId": "python"
        }
      },
      "outputs": [
        {
          "data": {
            "text/plain": [
              "(0.10055089, 0.1005258748791685)"
            ]
          },
          "execution_count": 11,
          "metadata": {},
          "output_type": "execute_result"
        }
      ],
      "source": [
        "np.std(theta[:, 0].numpy()), np.std(mle[:,0].numpy() - theta[:,0].numpy())"
      ]
    },
    {
      "cell_type": "code",
      "execution_count": 12,
      "metadata": {
        "vscode": {
          "languageId": "python"
        }
      },
      "outputs": [
        {
          "data": {
            "text/plain": [
              "(0.5760553, 0.2935787311273193)"
            ]
          },
          "execution_count": 12,
          "metadata": {},
          "output_type": "execute_result"
        }
      ],
      "source": [
        "np.std(theta[:, 1]), np.std(mle[:,1].numpy() - theta[:,1].numpy())"
      ]
    },
    {
      "cell_type": "code",
      "execution_count": null,
      "metadata": {
        "vscode": {
          "languageId": "python"
        }
      },
      "outputs": [],
      "source": []
    },
    {
      "cell_type": "code",
      "execution_count": 17,
      "metadata": {
        "vscode": {
          "languageId": "python"
        }
      },
      "outputs": [
        {
          "data": {
            "text/plain": [
              "(array([ 21.,  57., 125., 186., 214., 196., 202., 241., 179., 226., 210.,\n",
              "        207., 217., 208., 196., 211., 216., 204., 177., 204., 221., 230.,\n",
              "        208., 225., 199., 232., 200., 230., 204., 199., 224., 193., 214.,\n",
              "        211., 201., 203., 219., 188., 213., 214., 207., 201., 200., 190.,\n",
              "        189., 191., 186., 165., 132., 112.,  78.,  65.,  66.,  30.,  20.,\n",
              "         20.,  10.,   7.,   4.,   2.]),\n",
              " array([0.4523078 , 0.47324708, 0.4941864 , 0.5151257 , 0.536065  ,\n",
              "        0.5570043 , 0.5779436 , 0.5988829 , 0.6198222 , 0.6407615 ,\n",
              "        0.6617008 , 0.6826401 , 0.7035794 , 0.7245187 , 0.745458  ,\n",
              "        0.7663973 , 0.7873366 , 0.8082759 , 0.8292152 , 0.8501545 ,\n",
              "        0.8710938 , 0.8920331 , 0.9129724 , 0.93391174, 0.95485103,\n",
              "        0.9757903 , 0.9967296 , 1.017669  , 1.0386082 , 1.0595475 ,\n",
              "        1.0804868 , 1.1014261 , 1.1223655 , 1.1433047 , 1.164244  ,\n",
              "        1.1851833 , 1.2061226 , 1.2270619 , 1.2480012 , 1.2689406 ,\n",
              "        1.2898798 , 1.3108191 , 1.3317584 , 1.3526977 , 1.3736371 ,\n",
              "        1.3945763 , 1.4155157 , 1.4364549 , 1.4573942 , 1.4783336 ,\n",
              "        1.4992728 , 1.5202122 , 1.5411514 , 1.5620908 , 1.58303   ,\n",
              "        1.6039693 , 1.6249087 , 1.6458479 , 1.6667873 , 1.6877265 ,\n",
              "        1.7086658 ], dtype=float32),\n",
              " <BarContainer object of 60 artists>)"
            ]
          },
          "execution_count": 17,
          "metadata": {},
          "output_type": "execute_result"
        },
        {
          "data": {
            "image/png": "[encoded data removed]",
            "text/plain": [
              "<Figure size 432x288 with 1 Axes>"
            ]
          },
          "metadata": {
            "needs_background": "light"
          },
          "output_type": "display_data"
        }
      ],
      "source": [
        "plt.hist(theta[:, 0].numpy() / theta[:, 1].numpy(), bins=60)"
      ]
    },
    {
      "cell_type": "code",
      "execution_count": null,
      "metadata": {
        "vscode": {
          "languageId": "python"
        }
      },
      "outputs": [],
      "source": [
        "\n",
        "key = jax.random.PRNGKey(88)\n",
        "\n",
        "concentration = 2.0\n",
        "rate = 20.\n",
        "tmax = 10.\n",
        "\n",
        "A=1.0\n",
        "\n",
        "key,rng = jax.random.split(key)\n",
        "decay_time = dist.Gamma(concentration=concentration, \n",
        "                        rate=rate).sample(key, (10000,))\n",
        "\n",
        "key,rng = jax.random.split(key)\n",
        "measurement_time = dist.Uniform(low=0.0, high=tmax).sample(key, (10000,))\n",
        "\n",
        "key,rng = jax.random.split(key)\n",
        "_lambda = A * jnp.exp(-measurement_time / decay_time )\n",
        "measured_serum_level = dist.Poisson(rate=_lambda).sample(key, ())"
      ]
    },
    {
      "cell_type": "code",
      "execution_count": null,
      "metadata": {
        "vscode": {
          "languageId": "python"
        }
      },
      "outputs": [],
      "source": [
        "np.linspace(1, 10)"
      ]
    },
    {
      "cell_type": "code",
      "execution_count": null,
      "metadata": {
        "vscode": {
          "languageId": "python"
        }
      },
      "outputs": [],
      "source": [
        "rate"
      ]
    },
    {
      "cell_type": "code",
      "execution_count": null,
      "metadata": {
        "vscode": {
          "languageId": "python"
        }
      },
      "outputs": [],
      "source": [
        "concentration = 4.0\n",
        "report_delay = 3 # days\n",
        "rate = concentration / report_delay\n",
        "tmax = 10.\n",
        "\n",
        "A=1.0\n",
        "\n",
        "key,rng = jax.random.split(key)\n",
        "decay_time = dist.Gamma(concentration=concentration, \n",
        "                        rate=rate).sample(key, (10000,))\n",
        "plt.hist(np.array(decay_time), bins=60)\n",
        "\n",
        "\n",
        "# concentration = 2.0\n",
        "# rate = 2.0 / 10\n",
        "\n",
        "# decay_time = dist.Gamma(concentration=concentration, \n",
        "#                         rate=rate).sample(key, (10000,))\n",
        "# plt.hist(np.array(decay_time), bins=60)"
      ]
    },
    {
      "cell_type": "code",
      "execution_count": null,
      "metadata": {
        "vscode": {
          "languageId": "python"
        }
      },
      "outputs": [],
      "source": [
        "plt.hist(np.array(decay_time), bins=60)"
      ]
    },
    {
      "cell_type": "code",
      "execution_count": 13,
      "metadata": {
        "vscode": {
          "languageId": "python"
        }
      },
      "outputs": [],
      "source": [
        "tfd = tfp.distributions\n",
        "tfb = tfp.bijectors"
      ]
    },
    {
      "cell_type": "code",
      "execution_count": 15,
      "metadata": {
        "vscode": {
          "languageId": "python"
        }
      },
      "outputs": [],
      "source": [
        "maf = tfd.TransformedDistribution(\n",
        "    distribution=tfd.Sample(\n",
        "        tfd.Normal(loc=0., scale=1.), sample_shape=[2]),\n",
        "    bijector=tfb.MaskedAutoregressiveFlow(\n",
        "        shift_and_log_scale_fn=tfb.AutoregressiveNetwork(\n",
        "            params=2, hidden_units=[512, 512])))"
      ]
    },
    {
      "cell_type": "code",
      "execution_count": 16,
      "metadata": {
        "vscode": {
          "languageId": "python"
        }
      },
      "outputs": [
        {
          "ename": "AttributeError",
          "evalue": "can't set attribute",
          "output_type": "error",
          "traceback": [
            "\u001b[0;31m---------------------------------------------------------------------------\u001b[0m",
            "\u001b[0;31mAttributeError\u001b[0m                            Traceback (most recent call last)",
            "\u001b[0;32m<ipython-input-16-7ff6c3bc33e5>\u001b[0m in \u001b[0;36m<module>\u001b[0;34m\u001b[0m\n\u001b[1;32m      1\u001b[0m maf.distribution = tfd.Sample(\n\u001b[0;32m----> 2\u001b[0;31m         tfd.Normal(loc=0., scale=3.), sample_shape=[2])\n\u001b[0m",
            "\u001b[0;32m/softs/python/py3mods/tensorflow/2.8.4/tensorflow/python/training/tracking/autotrackable.py\u001b[0m in \u001b[0;36m__setattr__\u001b[0;34m(self, name, value)\u001b[0m\n\u001b[1;32m     67\u001b[0m       value = data_structures.sticky_attribute_assignment(\n\u001b[1;32m     68\u001b[0m           trackable=self, value=value, name=name)\n\u001b[0;32m---> 69\u001b[0;31m     \u001b[0msuper\u001b[0m\u001b[0;34m(\u001b[0m\u001b[0mAutoTrackable\u001b[0m\u001b[0;34m,\u001b[0m \u001b[0mself\u001b[0m\u001b[0;34m)\u001b[0m\u001b[0;34m.\u001b[0m\u001b[0m__setattr__\u001b[0m\u001b[0;34m(\u001b[0m\u001b[0mname\u001b[0m\u001b[0;34m,\u001b[0m \u001b[0mvalue\u001b[0m\u001b[0;34m)\u001b[0m\u001b[0;34m\u001b[0m\u001b[0;34m\u001b[0m\u001b[0m\n\u001b[0m\u001b[1;32m     70\u001b[0m \u001b[0;34m\u001b[0m\u001b[0m\n\u001b[1;32m     71\u001b[0m   \u001b[0;32mdef\u001b[0m \u001b[0m__delattr__\u001b[0m\u001b[0;34m(\u001b[0m\u001b[0mself\u001b[0m\u001b[0;34m,\u001b[0m \u001b[0mname\u001b[0m\u001b[0;34m)\u001b[0m\u001b[0;34m:\u001b[0m\u001b[0;34m\u001b[0m\u001b[0;34m\u001b[0m\u001b[0m\n",
            "\u001b[0;31mAttributeError\u001b[0m: can't set attribute"
          ]
        }
      ],
      "source": [
        "maf.distribution = tfd.Sample(\n",
        "        tfd.Normal(loc=0., scale=3.), sample_shape=[2])"
      ]
    },
    {
      "cell_type": "code",
      "execution_count": 17,
      "metadata": {
        "vscode": {
          "languageId": "python"
        }
      },
      "outputs": [],
      "source": [
        "maf._distribution = tfd.Sample(\n",
        "        tfd.Normal(loc=0., scale=3.), sample_shape=[2])"
      ]
    },
    {
      "cell_type": "code",
      "execution_count": 26,
      "metadata": {
        "vscode": {
          "languageId": "python"
        }
      },
      "outputs": [
        {
          "data": {
            "text/plain": [
              "TensorShape([10000, 2, 2])"
            ]
          },
          "execution_count": 26,
          "metadata": {},
          "output_type": "execute_result"
        }
      ],
      "source": [
        "F.shape"
      ]
    },
    {
      "cell_type": "code",
      "execution_count": 66,
      "metadata": {
        "vscode": {
          "languageId": "python"
        }
      },
      "outputs": [],
      "source": [
        "mydist = tfd.Sample(\n",
        "        tfd.MultivariateNormalFullCovariance(loc=0., \n",
        "        covariance_matrix=F[:]), sample_shape=[])"
      ]
    },
    {
      "cell_type": "code",
      "execution_count": 67,
      "metadata": {
        "vscode": {
          "languageId": "python"
        }
      },
      "outputs": [
        {
          "data": {
            "text/plain": [
              "(10000, 2)"
            ]
          },
          "execution_count": 67,
          "metadata": {},
          "output_type": "execute_result"
        }
      ],
      "source": [
        "mydist.sample().numpy().shape"
      ]
    },
    {
      "cell_type": "code",
      "execution_count": 60,
      "metadata": {
        "vscode": {
          "languageId": "python"
        }
      },
      "outputs": [
        {
          "data": {
            "text/plain": [
              "(array([[ 2.,  8.,  7., 22., 17., 18., 16.,  7.,  2.,  1.],\n",
              "        [ 0.,  0.,  1., 18., 47., 30.,  4.,  0.,  0.,  0.]]),\n",
              " array([-24.42128302, -19.23787973, -14.05447645,  -8.87107316,\n",
              "         -3.68766988,   1.4957334 ,   6.67913669,  11.86253997,\n",
              "         17.04594326,  22.22934654,  27.41274983]),\n",
              " <a list of 2 BarContainer objects>)"
            ]
          },
          "execution_count": 60,
          "metadata": {},
          "output_type": "execute_result"
        },
        {
          "data": {
            "image/png": "[encoded data removed]",
            "text/plain": [
              "<Figure size 432x288 with 1 Axes>"
            ]
          },
          "metadata": {
            "needs_background": "light"
          },
          "output_type": "display_data"
        }
      ],
      "source": [
        "plt.hist(mydist.sample((100,)).numpy()[:, 0])"
      ]
    },
    {
      "cell_type": "code",
      "execution_count": 25,
      "metadata": {
        "vscode": {
          "languageId": "python"
        }
      },
      "outputs": [
        {
          "data": {
            "text/plain": [
              "(array([ 2.,  2.,  4.,  9., 10.,  7.,  4.,  3.,  7.,  2.]),\n",
              " array([-1.1977313 , -0.96494275, -0.73215425, -0.49936578, -0.2665773 ,\n",
              "        -0.0337888 ,  0.19899969,  0.43178818,  0.66457665,  0.89736515,\n",
              "         1.1301537 ], dtype=float32),\n",
              " <BarContainer object of 10 artists>)"
            ]
          },
          "execution_count": 25,
          "metadata": {},
          "output_type": "execute_result"
        },
        {
          "data": {
            "image/png": "[encoded data removed]",
            "text/plain": [
              "<Figure size 432x288 with 1 Axes>"
            ]
          },
          "metadata": {
            "needs_background": "light"
          },
          "output_type": "display_data"
        }
      ],
      "source": [
        "maf = tfd.TransformedDistribution(\n",
        "    distribution=tfd.Sample(\n",
        "        tfd.Normal(loc=0., scale=1.), sample_shape=[2]),\n",
        "    bijector=tfb.MaskedAutoregressiveFlow(\n",
        "        shift_and_log_scale_fn=tfb.AutoregressiveNetwork(\n",
        "            params=2, hidden_units=[512, 512])))\n",
        "\n",
        "\n",
        "plt.hist(maf.distribution.sample((50,)).numpy()[:, 0])\n",
        "\n",
        "\n",
        "maf._distribution = tfd.Sample(\n",
        "        tfd.Normal(loc=0., scale=0.5), sample_shape=[2])\n",
        "plt.hist(maf.distribution.sample((50,)).numpy()[:, 0])"
      ]
    },
    {
      "cell_type": "code",
      "execution_count": null,
      "metadata": {
        "vscode": {
          "languageId": "python"
        }
      },
      "outputs": [],
      "source": []
    }
  ],
  "metadata": {
    "accelerator": "GPU",
    "colab": {
      "machine_shape": "hm",
      "provenance": []
    },
    "gpuClass": "standard",
    "kernelspec": {
      "display_name": "Python 3",
      "language": "python",
      "name": "python3"
    }
  },
  "nbformat": 4,
  "nbformat_minor": 0
}

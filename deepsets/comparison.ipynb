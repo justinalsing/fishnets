{
 "cells": [
  {
   "cell_type": "code",
   "execution_count": 2,
   "metadata": {},
   "outputs": [
    {
     "name": "stdout",
     "output_type": "stream",
     "text": [
      "/home/makinen/repositories/fishnets\n"
     ]
    }
   ],
   "source": [
    "cd /home/makinen/repositories/fishnets"
   ]
  },
  {
   "cell_type": "code",
   "execution_count": 3,
   "metadata": {},
   "outputs": [
    {
     "name": "stderr",
     "output_type": "stream",
     "text": [
      "/softs/python/py3mods/tensorflow/2.10.1/keras/optimizers/optimizer_v2/adam.py:114: UserWarning: The `lr` argument is deprecated, use `learning_rate` instead.\n",
      "  super().__init__(name, **kwargs)\n"
     ]
    }
   ],
   "source": [
    "import numpy as np\n",
    "import tensorflow as tf\n",
    "import matplotlib.pyplot as plt\n",
    "import tensorflow_probability as tfp\n",
    "from tqdm import trange\n",
    "from scipy import stats\n",
    "tfk = tf.keras\n",
    "\n",
    "from fishnets import *"
   ]
  },
  {
   "cell_type": "markdown",
   "metadata": {},
   "source": [
    "## create simple example where deepsets might fail\n",
    "\n",
    "Say we want to estimate the mean of some 2-dimensional data with heteroscedastic noise "
   ]
  },
  {
   "cell_type": "code",
   "execution_count": 4,
   "metadata": {},
   "outputs": [],
   "source": [
    "def log_uniform(r, log_min_val, log_max_val):\n",
    "    \"\"\"log-uniform prior\n",
    "      given point sampled from unif(0, 1)\n",
    "      return point sampled on a uniform log scale from min_val to max_val\n",
    "      \"\"\"\n",
    "    #log_min_val = np.log10(min_val)\n",
    "    #log_max_val = np.log10(max_val)\n",
    "    point = 10.0 ** (log_min_val + r * (log_max_val - log_min_val))\n",
    "    return point"
   ]
  },
  {
   "cell_type": "code",
   "execution_count": 5,
   "metadata": {},
   "outputs": [
    {
     "data": {
      "text/plain": [
       "((10000, 500, 4), (10000, 2))"
      ]
     },
     "execution_count": 5,
     "metadata": {},
     "output_type": "execute_result"
    }
   ],
   "source": [
    "# data sizes\n",
    "n_sims = 10000\n",
    "n_data = 500\n",
    "\n",
    "n_theta = 2\n",
    "\n",
    "\n",
    "# fiducial parameters\n",
    "theta_fid = tf.constant([0.,0.], dtype=tf.float32)\n",
    "theta_fid_ = theta_fid.numpy()\n",
    "\n",
    "# prior mean and covariance\n",
    "priorCinv = tf.convert_to_tensor(np.eye(2), dtype=tf.float32)\n",
    "priormu = tf.constant([0.,0.], dtype=tf.float32)\n",
    "\n",
    "# get noise\n",
    "sigma1_ = log_uniform(np.random.uniform(size=(n_sims, n_data)), log_min_val=-2, log_max_val=1.)\n",
    "sigma2_ = log_uniform(np.random.uniform(size=(n_sims, n_data)), log_min_val=-2, log_max_val=1.)\n",
    "\n",
    "\n",
    "\n",
    "# do mean hyperparameter\n",
    "mu1_ = np.random.normal(0, 5, size=(n_sims,))\n",
    "mu2_ = np.random.normal(0, 5, size=(n_sims,))\n",
    "\n",
    "theta = np.ones((n_sims, n_theta))\n",
    "theta[:, 0] = mu1_\n",
    "theta[:, 1] = mu2_\n",
    "\n",
    "datamax = 30\n",
    "\n",
    "# create data\n",
    "data1 = np.random.normal(loc=mu1_[..., np.newaxis], scale=sigma1_) / datamax\n",
    "data2 = np.random.normal(loc=mu2_[..., np.newaxis], scale=sigma2_) / datamax\n",
    "\n",
    "\n",
    "data = np.ones((n_sims, n_data, 4))\n",
    "data[:, :, 0] = data1\n",
    "data[:, :, 1] = data2\n",
    "\n",
    "data[:, :, 2] = (1./sigma1_**2) / 1000.\n",
    "data[:, :, 3] = (1./sigma2_**2) / 1000.\n",
    "\n",
    "data.shape, theta.shape"
   ]
  },
  {
   "cell_type": "code",
   "execution_count": 6,
   "metadata": {},
   "outputs": [
    {
     "data": {
      "text/plain": [
       "9.999994938195943"
      ]
     },
     "execution_count": 6,
     "metadata": {},
     "output_type": "execute_result"
    }
   ],
   "source": [
    "data.max()"
   ]
  },
  {
   "cell_type": "markdown",
   "metadata": {},
   "source": [
    "## initialize fishnets"
   ]
  },
  {
   "cell_type": "code",
   "execution_count": 7,
   "metadata": {},
   "outputs": [],
   "source": [
    "# construct masks\n",
    "score_mask = np.ones((n_sims, n_data, n_theta))\n",
    "fisher_mask = np.ones((n_sims, n_data, n_theta, n_theta))\n",
    "\n",
    "score_mask = tf.convert_to_tensor(score_mask, dtype=tf.float32)\n",
    "fisher_mask = tf.convert_to_tensor(fisher_mask, dtype=tf.float32)"
   ]
  },
  {
   "cell_type": "code",
   "execution_count": 8,
   "metadata": {},
   "outputs": [],
   "source": [
    "# stack up the data and parameters\n",
    "data = tf.convert_to_tensor(data, dtype=tf.float32)\n",
    "theta = tf.convert_to_tensor(theta[:, :n_theta], dtype=tf.float32)"
   ]
  },
  {
   "cell_type": "code",
   "execution_count": 9,
   "metadata": {},
   "outputs": [],
   "source": [
    "# initialize the Fishnet model\n",
    "Model = FishnetTwin(n_parameters=n_theta, \n",
    "                n_inputs=4, \n",
    "                n_hidden_score=[256, 256, 256], \n",
    "                activation_score=[tf.nn.elu, tf.nn.elu,  tf.nn.elu],\n",
    "                n_hidden_fisher=[256, 256, 256], \n",
    "                activation_fisher=[tf.nn.elu, tf.nn.elu,  tf.nn.elu],\n",
    "                optimizer=tf.keras.optimizers.Adam(lr=5e-4),\n",
    "                theta_fid=theta_fid,\n",
    "                priormu=tf.zeros(n_theta, dtype=tf.float32),\n",
    "                priorCinv=tf.eye(n_theta, dtype=tf.float32))\n",
    "\n",
    "# add in corrected loss function\n",
    "@tf.function\n",
    "def construct_fisher_matrix(outputs):\n",
    "    \n",
    "    Q = tfp.math.fill_triangular(outputs)\n",
    "    # EDIT: changed to + softplus(diag_part(Q))\n",
    "    L = Q - tf.linalg.diag(tf.linalg.diag_part(Q) - tf.math.softplus(tf.linalg.diag_part(Q)))\n",
    "    return tf.einsum('...ij,...jk->...ik', L, tf.transpose(L, perm=[0, 1, 3, 2]))\n",
    "\n",
    "Model.construct_fisher_matrix = construct_fisher_matrix"
   ]
  },
  {
   "cell_type": "code",
   "execution_count": null,
   "metadata": {},
   "outputs": [],
   "source": [
    "fishnets_history = Model.train((data, theta, score_mask, fisher_mask), lr=5e-4, epochs=30)\n",
    "#Model.train((data, theta, score_mask, fisher_mask), lr=1e-4, epochs=100, lossfn='kl')"
   ]
  },
  {
   "cell_type": "code",
   "execution_count": 33,
   "metadata": {},
   "outputs": [
    {
     "name": "stderr",
     "output_type": "stream",
     "text": [
      "100%|██████████| 50/50 [00:04<00:00, 11.60it/s]\n"
     ]
    }
   ],
   "source": [
    "# model MLEs\n",
    "mle, F  = Model.compute_mle_(data[:10000], score_mask[:10000], fisher_mask[:10000])"
   ]
  },
  {
   "cell_type": "code",
   "execution_count": 34,
   "metadata": {},
   "outputs": [
    {
     "data": {
      "text/plain": [
       "<matplotlib.collections.PathCollection at 0x7f76c1481a50>"
      ]
     },
     "execution_count": 34,
     "metadata": {},
     "output_type": "execute_result"
    },
    {
     "data": {
      "image/png": "[encoded data removed]",
      "text/plain": [
       "<Figure size 432x288 with 2 Axes>"
      ]
     },
     "metadata": {
      "needs_background": "light"
     },
     "output_type": "display_data"
    }
   ],
   "source": [
    "plt.subplot(121)\n",
    "plt.scatter(theta[:10000, 0].numpy(), mle[:10000, 0].numpy(), s=1)\n",
    "\n",
    "plt.subplot(122)\n",
    "plt.scatter(theta[:10000, 1].numpy(), mle[:10000, 1].numpy(), s=1)\n"
   ]
  },
  {
   "cell_type": "markdown",
   "metadata": {},
   "source": [
    "## initialize deepsets"
   ]
  },
  {
   "cell_type": "code",
   "execution_count": 15,
   "metadata": {},
   "outputs": [
    {
     "name": "stderr",
     "output_type": "stream",
     "text": [
      "/softs/python/py3mods/tensorflow/2.10.1/keras/optimizers/optimizer_v2/adam.py:114: UserWarning: The `lr` argument is deprecated, use `learning_rate` instead.\n",
      "  super().__init__(name, **kwargs)\n"
     ]
    }
   ],
   "source": [
    "# fishnet class (seperate network models for both score and fisher)\n",
    "class FishnetDeepset(tf.Module):\n",
    "    \n",
    "    def __init__(self, n_parameters=2, n_inputs=3, n_hidden_score=[128, 128], activation_score=[tf.nn.leaky_relu, tf.nn.leaky_relu], n_hidden_globals=[128,128], activation_globals=[tf.nn.leaky_relu, tf.nn.leaky_relu], n_hidden_fisher=[128, 128], activation_fisher=[tf.nn.leaky_relu, tf.nn.leaky_relu], priormu=None, priorCinv=None, theta_fid=None, optimizer=tf.keras.optimizers.Adam(lr=1e-4), maxcall=1e5, restore=False, restore_filename=None):\n",
    "        \n",
    "        # restore?\n",
    "        if restore:\n",
    "            print(\"loading model\")\n",
    "            self.n_parameters, self.n_inputs, self.maxcall, self.n_hidden_score, self.n_hidden_fisher, self.activation_score, self.activation_fisher, self.priormu, self.priorCinv, self.theta_fid, loaded_trainable_variables = pickle.load(open(restore_filename, 'rb'))\n",
    "            self.optimizer = optimizer\n",
    "        else:\n",
    "            # parameters\n",
    "            self.n_parameters = n_parameters\n",
    "            self.n_inputs = n_inputs\n",
    "            self.maxcall = int(maxcall)\n",
    "\n",
    "            # architecture parameters\n",
    "            self.n_hidden_score = n_hidden_score\n",
    "            self.n_hidden_fisher = n_hidden_fisher\n",
    "            self.activation_score = activation_score\n",
    "            self.activation_fisher = activation_fisher\n",
    "            self.activation_globals  = activation_globals\n",
    "\n",
    "            # optimizer\n",
    "            self.optimizer = optimizer\n",
    "            \n",
    "            # prior\n",
    "            self.priormu = priormu\n",
    "            self.priorCinv = priorCinv\n",
    "            self.theta_fid = theta_fid\n",
    "\n",
    "        # architectures\n",
    "        self.architecture_score = [n_inputs] + n_hidden_score + [n_parameters]\n",
    "        self.architecture_globals = [n_parameters] + n_hidden_globals + [n_parameters]\n",
    "        self.architecture_fisher = [n_inputs] + n_hidden_fisher + [int(n_parameters * (n_parameters + 1)) // 2]\n",
    "        self.n_layers_score = len(self.architecture_score) - 1\n",
    "        self.n_layers_globals = len(self.architecture_globals) - 1\n",
    "        self.n_layers_fisher = len(self.architecture_fisher) - 1\n",
    "        self.activation_score = activation_score + [tf.identity]\n",
    "        self.activation_globals = activation_globals + [tf.identity]\n",
    "        self.activation_fisher = activation_fisher + [tf.identity]\n",
    "        \n",
    "        # score model\n",
    "        self.model_score = tfk.Sequential([tfk.layers.Dense(self.architecture_score[i+1], activation=self.activation_score[i]) for i in range(self.n_layers_score)])\n",
    "        _ = self.model_score(tf.ones((1, 1, n_inputs)))\n",
    "        \n",
    "        # globals model\n",
    "        self.model_globals = tfk.Sequential([tfk.layers.Dense(self.architecture_globals[i+1], activation=self.activation_globals[i]) for i in range(self.n_layers_globals)])\n",
    "        _ = self.model_globals(tf.ones((1, 1, n_parameters)))\n",
    "\n",
    "        # fisher model\n",
    "        self.model_fisher = tfk.Sequential([tfk.layers.Dense(self.architecture_fisher[i+1], activation=self.activation_fisher[i]) for i in range(self.n_layers_fisher)])\n",
    "        _ = self.model_fisher(tf.ones((1, 1, n_inputs)))\n",
    "\n",
    "        # restore trainable variables?\n",
    "        if restore:\n",
    "            print(\"restoring variables\")\n",
    "            for model_variable, loaded_variable in zip(self.trainable_variables, loaded_trainable_variables):\n",
    "                model_variable.assign(loaded_variable)\n",
    "\n",
    "        # set up for l-bfgs optimizer...\n",
    "        \n",
    "        # trainable variables shapes\n",
    "        self.trainable_variable_shapes = tf.shape_n(self.trainable_variables)\n",
    "        \n",
    "        # prepare stich and partition indices for dynamic stitching and partitioning\n",
    "        count = 0\n",
    "        stitch_idx = [] # stitch indices\n",
    "        partition_idx = [] # partition indices\n",
    "\n",
    "        for i, shape in enumerate(self.trainable_variable_shapes):\n",
    "            n = np.product(shape)\n",
    "            stitch_idx.append(tf.reshape(tf.range(count, count+n, dtype=tf.int32), shape))\n",
    "            partition_idx.extend([i]*n)\n",
    "            count += n\n",
    "\n",
    "        self.partition_idx = tf.constant(partition_idx)\n",
    "        self.stitch_idx = stitch_idx\n",
    "        \n",
    "    # for l-bfgs optimizer: assign model parameters from a 1d tensor\n",
    "    @tf.function\n",
    "    def assign_new_model_parameters(self, parameters_1d):\n",
    "\n",
    "        parameters = tf.dynamic_partition(parameters_1d, self.partition_idx, len(self.trainable_variable_shapes))\n",
    "        for i, (shape, param) in enumerate(zip(self.trainable_variable_shapes, parameters)):\n",
    "            self.trainable_variables[i].assign(tf.reshape(param, shape))\n",
    "            \n",
    "    # run lbfgs optimizer\n",
    "    def lbfgs_optimize(self, inputs, parameters, score_mask, fisher_mask, max_iterations=500, tolerance=1e-5, verbose=True):\n",
    "        \n",
    "        # initial parameters\n",
    "        initial_parameters = tf.dynamic_stitch(self.stitch_idx, self.trainable_variables)\n",
    "        \n",
    "        # value and gradients function, as required by l-bfgs\n",
    "        def value_and_gradient(x):\n",
    "            \n",
    "            # set the updated network parameters\n",
    "            self.assign_new_model_parameters(x)\n",
    "            \n",
    "            # compute loss and gradients (using gradient accumulation if needed)\n",
    "            loss, gradients = self.compute_loss_and_gradients(inputs, parameters, score_mask, fisher_mask)\n",
    "            gradients = tf.dynamic_stitch(self.stitch_idx, gradients) # stitch the gradients together into 1d, as needed by l-bfgs\n",
    "            \n",
    "            # print the loss if desired\n",
    "            if verbose:\n",
    "                print(loss.numpy())\n",
    "            \n",
    "            return loss, gradients\n",
    "        \n",
    "        # run the optimizer\n",
    "        results = tfp.optimizer.lbfgs_minimize(value_and_gradients_function=value_and_gradient,\n",
    "                                              initial_position=initial_parameters,\n",
    "                                              max_iterations=max_iterations,\n",
    "                                              tolerance=tolerance)\n",
    "        \n",
    "        return results\n",
    "        \n",
    "    # compute score and fisher outputs from the network model\n",
    "    @tf.function\n",
    "    def call(self, inputs):\n",
    "        \n",
    "        score = self.model_score(inputs)\n",
    "        fisher_cholesky = self.model_fisher(inputs)\n",
    "        \n",
    "        return score, self.construct_fisher_matrix(fisher_cholesky)\n",
    "    \n",
    "    # construct the Fisher matrix from the network outputs (ie., the elements of the cholseky factor)\n",
    "    @tf.function\n",
    "    def construct_fisher_matrix(self, outputs):\n",
    "        \n",
    "        Q = tfp.math.fill_triangular(outputs)\n",
    "        # EDIT: changed to + softplus(diag_part(Q))\n",
    "        L = Q - tf.linalg.diag(tf.linalg.diag_part(Q) + tf.math.softplus(tf.linalg.diag_part(Q)))\n",
    "        return tf.einsum('...ij,...jk->...ik', L, tf.transpose(L, perm=[0, 1, 3, 2]))\n",
    "\n",
    "    \n",
    "    # construct the MLE\n",
    "    @tf.function\n",
    "    def compute_mle(self, inputs, score_mask, fisher_mask):\n",
    "        \n",
    "        # score and fisher (per data point)\n",
    "        score, fisher = self.call(inputs)\n",
    "        \n",
    "        # sum the per-data point scores and Fishers, and include Gaussian prior correction\n",
    "        t = tf.reduce_sum(score*score_mask, axis=1) - tf.einsum('ij,j->i', self.priorCinv, (self.theta_fid - self.priormu))\n",
    "        F = tf.reduce_sum(fisher*fisher_mask, axis=1) + self.priorCinv\n",
    "        \n",
    "        # construct MLE\n",
    "        mle = self.theta_fid + tf.einsum('ijk,ik->ij', tf.linalg.inv(F), t)\n",
    "    \n",
    "        return mle, F\n",
    "    \n",
    "    # automatically break up the calculation if massive batches are called (to avoid memory issues)\n",
    "    def compute_mle_(self, inputs, score_mask, fisher_mask):\n",
    "        \n",
    "        # total number of network calls\n",
    "        ncalls = inputs.shape[0] * inputs.shape[1]\n",
    "        \n",
    "        # do we need to split the call into batches or not?\n",
    "        if ncalls > self.maxcall:\n",
    "            \n",
    "            # batch up the inputs\n",
    "            batch_size = (self.maxcall // inputs.shape[1])\n",
    "            idx = [np.arange(i*batch_size, min((i+1)*batch_size, inputs.shape[0])) for i in range(inputs.shape[0] // batch_size + int(inputs.shape[0] % batch_size > 0))]\n",
    "            \n",
    "            # compute the MLE and fisher over batches\n",
    "            mle = np.zeros((inputs.shape[0], self.n_parameters))\n",
    "            F = np.zeros((inputs.shape[0], self.n_parameters, self.n_parameters))\n",
    "            for i in trange(len(idx)):\n",
    "                mle_, F_ = self.compute_mle(inputs.numpy()[idx[i],...], score_mask.numpy()[idx[i],...], fisher_mask.numpy()[idx[i],...] )\n",
    "                mle[idx[i],:] = mle_.numpy()\n",
    "                F[idx[i],...] = F_.numpy()\n",
    "            mle = tf.convert_to_tensor(mle)\n",
    "            F = tf.convert_to_tensor(F)\n",
    "        else:\n",
    "        \n",
    "            # compute MLE and fisher\n",
    "            mle, F = self.compute_mle(inputs, score_mask, fisher_mask)\n",
    "    \n",
    "        return mle, F  \n",
    "\n",
    "    # prediction over lots of inputs\n",
    "    def compute_deepsets_pred(self, inputs, score_mask, fisher_mask):\n",
    "        score, fisher = self.call(inputs)\n",
    "        # sum the per-data point scores and Fishers, and include Gaussian prior correction\n",
    "        mle = tf.reduce_mean(score*score_mask, axis=1) # reduce sum\n",
    "\n",
    "        return self.model_globals(mle)\n",
    "\n",
    "    # automatically break up the calculation if massive batches are called (to avoid memory issues)\n",
    "    def compute_deepsets_pred_(self, inputs, score_mask, fisher_mask):\n",
    "        \n",
    "        # total number of network calls\n",
    "        ncalls = inputs.shape[0] * inputs.shape[1]\n",
    "        \n",
    "        # do we need to split the call into batches or not?\n",
    "        if ncalls > self.maxcall:\n",
    "            \n",
    "            # batch up the inputs\n",
    "            batch_size = (self.maxcall // inputs.shape[1])\n",
    "            idx = [np.arange(i*batch_size, min((i+1)*batch_size, inputs.shape[0])) for i in range(inputs.shape[0] // batch_size + int(inputs.shape[0] % batch_size > 0))]\n",
    "            \n",
    "            # compute the MLE and fisher over batches\n",
    "            mle = np.zeros((inputs.shape[0], self.n_parameters))\n",
    "            #F = np.zeros((inputs.shape[0], self.n_parameters, self.n_parameters))\n",
    "            for i in trange(len(idx)):\n",
    "                mle_ = self.compute_deepsets_pred(inputs.numpy()[idx[i],...], score_mask.numpy()[idx[i],...], fisher_mask.numpy()[idx[i],...] )\n",
    "                mle[idx[i],:] = mle_.numpy()\n",
    "                #F[idx[i],...] = F_.numpy()\n",
    "            mle = tf.convert_to_tensor(mle)\n",
    "            #F = tf.convert_to_tensor(F)\n",
    "        else:\n",
    "        \n",
    "            # compute MLE and fisher\n",
    "            mle = self.compute_deepsets_pred(inputs, score_mask, fisher_mask)\n",
    "    \n",
    "        return mle\n",
    "\n",
    "\n",
    "\n",
    "    # KL divergence loss\n",
    "    @tf.function\n",
    "    def kl_loss(self, inputs, parameters, score_mask, fisher_mask):\n",
    "        \n",
    "        mle, F = self.compute_mle(inputs, score_mask, fisher_mask)\n",
    "    \n",
    "        return -tf.reduce_mean(-0.5 * tf.einsum('ij,ij->i', (parameters - mle), tf.einsum('ijk, ik -> ij', F, (parameters - mle))) + 0.5*tf.linalg.logdet(F))\n",
    "\n",
    "    # mse loss\n",
    "    @tf.function\n",
    "    def mse_loss(self, inputs, parameters, score_mask, fisher_mask):\n",
    "\n",
    "        mle, F = self.compute_mle(inputs, score_mask, fisher_mask)\n",
    "\n",
    "        return tf.reduce_sum(tf.reduce_mean(tf.square(tf.subtract(mle, parameters)), axis=0))\n",
    "\n",
    "    \n",
    "    # deepsets mse loss\n",
    "    @tf.function\n",
    "    def deepsets_mse(self, inputs, parameters, score_mask, fisher_mask):\n",
    "\n",
    "        score, fisher = self.call(inputs)\n",
    "        # sum the per-data point scores and Fishers, and include Gaussian prior correction\n",
    "        mle = tf.reduce_mean(score*score_mask, axis=1) # reduce sum\n",
    "\n",
    "        mle = self.model_globals(mle)\n",
    "\n",
    "        return tf.reduce_sum(tf.reduce_mean(tf.square(tf.subtract(mle, parameters)), axis=0))\n",
    "\n",
    "    # basic loss and gradients function\n",
    "    @tf.function\n",
    "    def loss_and_gradients_kl(self, inputs, parameters, score_mask, fisher_mask):\n",
    "        \n",
    "        with tf.GradientTape() as tape:\n",
    "            tape.watch(self.trainable_variables)\n",
    "            loss = self.kl_loss(inputs, parameters, score_mask, fisher_mask)\n",
    "        gradients = tape.gradient(loss, self.trainable_variables)\n",
    "        \n",
    "        return loss, gradients\n",
    "\n",
    "    # basic loss and gradients function\n",
    "    @tf.function\n",
    "    def loss_and_gradients_mse(self, inputs, parameters, score_mask, fisher_mask):\n",
    "        \n",
    "        with tf.GradientTape() as tape:\n",
    "            tape.watch(self.trainable_variables)\n",
    "            loss = self.mse_loss(inputs, parameters, score_mask, fisher_mask)\n",
    "        gradients = tape.gradient(loss, self.trainable_variables)\n",
    "        \n",
    "        return loss, gradients\n",
    "        \n",
    "    # loss for deepsets\n",
    "    @tf.function\n",
    "    def loss_and_gradients_deepsets(self, inputs, parameters, score_mask, fisher_mask):\n",
    "        \n",
    "        with tf.GradientTape() as tape:\n",
    "            tape.watch(self.trainable_variables)\n",
    "            loss = self.deepsets_mse(inputs, parameters, score_mask, fisher_mask)\n",
    "        gradients = tape.gradient(loss, self.trainable_variables)\n",
    "        \n",
    "        return loss, gradients\n",
    "\n",
    "    # loss and gradients: accumulated in minibatches if neccessary (to avoid memory issues)\n",
    "    def compute_loss_and_gradients(self, inputs, parameters, score_mask, fisher_mask, lossfn='kl'):\n",
    "        \n",
    "        # total number of network calls\n",
    "        ncalls = inputs.shape[0] * inputs.shape[1]\n",
    "        \n",
    "        # accumulate gradients or not?\n",
    "        if ncalls > self.maxcall:\n",
    "            \n",
    "            # how many batches do we need to split it into?\n",
    "            batch_size = (self.maxcall // inputs.shape[1])\n",
    "            \n",
    "            # create dataset to do sub-calculations over\n",
    "            dataset = tf.data.Dataset.from_tensor_slices((inputs, parameters, score_mask, fisher_mask)).batch(batch_size)\n",
    "\n",
    "            # initialize gradients and loss (to zero)\n",
    "            accumulated_gradients = [tf.Variable(tf.zeros_like(variable), trainable=False) for variable in self.trainable_variables]\n",
    "            accumulated_loss = tf.Variable(0., trainable=False)\n",
    "\n",
    "            # loop over sub-batches\n",
    "            for inputs_, parameters_, score_mask_, fisher_mask_ in dataset:\n",
    "                \n",
    "                # calculate loss and gradients\n",
    "                if lossfn == 'kl':\n",
    "                    loss, gradients = self.loss_and_gradients_kl(inputs_, parameters_, score_mask_, fisher_mask_)\n",
    "                elif lossfn == 'deepsets':\n",
    "                    loss, gradients = self.loss_and_gradients_deepsets(inputs_, parameters_, score_mask_, fisher_mask_)\n",
    "                else:\n",
    "                    loss, gradients = self.loss_and_gradients_mse(inputs_, parameters_, score_mask_, fisher_mask_)\n",
    "\n",
    "\n",
    "                # update the accumulated gradients and loss\n",
    "                for i in range(len(accumulated_gradients)):\n",
    "                    accumulated_gradients[i].assign_add(gradients[i]*inputs_.shape[0]/inputs.shape[0])\n",
    "                accumulated_loss.assign_add(loss*inputs_.shape[0]/inputs.shape[0])\n",
    "\n",
    "        else:\n",
    "            # calculate loss and gradients\n",
    "            if lossfn == 'kl':\n",
    "                accumulated_loss, accumulated_gradients = self.loss_and_gradients_kl(inputs, parameters, score_mask, fisher_mask)\n",
    "            elif lossfn == 'deepsets':\n",
    "                accumulated_loss, accumulated_gradients = self.loss_and_gradients_deepsets(inputs, parameters, score_mask, fisher_mask)\n",
    "            else:\n",
    "                accumulated_loss, accumulated_gradients = self.loss_and_gradients_mse(inputs, parameters, score_mask, fisher_mask)\n",
    "\n",
    "\n",
    "        return accumulated_loss, accumulated_gradients\n",
    "    \n",
    "    def train(self, training_data, epochs=1000, lr=None, batch_size=512, lossfn='kl'):\n",
    "        \n",
    "        # set the learning rate if desired\n",
    "        if lr is not None:\n",
    "            self.optimizer.lr = lr\n",
    "\n",
    "        # save the loss\n",
    "        losses = []\n",
    "            \n",
    "        # main training loop\n",
    "        dataset = tf.data.Dataset.from_tensor_slices(training_data)\n",
    "        with trange(epochs) as progress:\n",
    "            for epoch in progress:\n",
    "                for inputs_, parameters_, score_mask_, fisher_mask_ in dataset.shuffle(buffer_size=len(dataset)).batch(batch_size):\n",
    "                    loss, gradients = self.compute_loss_and_gradients(inputs_, parameters_, score_mask_, fisher_mask_, lossfn=lossfn)\n",
    "                    self.optimizer.apply_gradients(zip(gradients, self.trainable_variables))\n",
    "                    losses.append(loss.numpy())\n",
    "                    progress.set_postfix({'loss':losses[-1]})\n",
    "        return losses\n",
    "\n",
    "    def save(self, filename):\n",
    "\n",
    "        pickle.dump([self.n_parameters, self.n_inputs, self.maxcall, self.n_hidden_score, self.n_hidden_fisher, self.activation_score, self.activation_fisher, self.priormu, self.priorCinv, self.theta_fid] + [tuple(variable.numpy() for variable in self.trainable_variables)], open(filename, 'wb'))\n",
    "\n",
    "# fishnettwin BETA class"
   ]
  },
  {
   "cell_type": "code",
   "execution_count": 16,
   "metadata": {},
   "outputs": [],
   "source": [
    "# initialize the Fishnet model\n",
    "deepset = FishnetDeepset(n_parameters=n_theta, \n",
    "                n_inputs=4, \n",
    "                n_hidden_score=[256, 256, 256], \n",
    "                activation_score=[tf.nn.elu, tf.nn.elu,  tf.nn.elu],\n",
    "                n_hidden_fisher=[256, 256, 256], \n",
    "                activation_fisher=[tf.nn.elu, tf.nn.elu,  tf.nn.elu],\n",
    "                activation_globals=[tf.nn.elu, tf.nn.elu,  tf.nn.elu],\n",
    "                n_hidden_globals=[50,50,50],\n",
    "                optimizer=tf.keras.optimizers.Adam(lr=5e-4),\n",
    "                theta_fid=theta_fid,\n",
    "                priormu=tf.zeros(n_theta, dtype=tf.float32),\n",
    "                priorCinv=tf.eye(n_theta, dtype=tf.float32))"
   ]
  },
  {
   "cell_type": "code",
   "execution_count": 17,
   "metadata": {},
   "outputs": [
    {
     "name": "stderr",
     "output_type": "stream",
     "text": [
      "  0%|          | 0/30 [00:00<?, ?it/s]"
     ]
    },
    {
     "name": "stdout",
     "output_type": "stream",
     "text": [
      "WARNING:tensorflow:Model was constructed with shape (1, 1, 2) for input KerasTensor(type_spec=TensorSpec(shape=(1, 1, 2), dtype=tf.float32, name='dense_12_input'), name='dense_12_input', description=\"created by layer 'dense_12_input'\"), but it was called on an input with incompatible shape (200, 2).\n"
     ]
    },
    {
     "name": "stderr",
     "output_type": "stream",
     "text": [
      "WARNING:tensorflow:Model was constructed with shape (1, 1, 2) for input KerasTensor(type_spec=TensorSpec(shape=(1, 1, 2), dtype=tf.float32, name='dense_12_input'), name='dense_12_input', description=\"created by layer 'dense_12_input'\"), but it was called on an input with incompatible shape (200, 2).\n"
     ]
    },
    {
     "name": "stdout",
     "output_type": "stream",
     "text": [
      "WARNING:tensorflow:Model was constructed with shape (1, 1, 2) for input KerasTensor(type_spec=TensorSpec(shape=(1, 1, 2), dtype=tf.float32, name='dense_12_input'), name='dense_12_input', description=\"created by layer 'dense_12_input'\"), but it was called on an input with incompatible shape (112, 2).\n"
     ]
    },
    {
     "name": "stderr",
     "output_type": "stream",
     "text": [
      "WARNING:tensorflow:Model was constructed with shape (1, 1, 2) for input KerasTensor(type_spec=TensorSpec(shape=(1, 1, 2), dtype=tf.float32, name='dense_12_input'), name='dense_12_input', description=\"created by layer 'dense_12_input'\"), but it was called on an input with incompatible shape (112, 2).\n",
      "  0%|          | 0/30 [00:03<?, ?it/s, loss=33.8]"
     ]
    },
    {
     "name": "stdout",
     "output_type": "stream",
     "text": [
      "WARNING:tensorflow:Model was constructed with shape (1, 1, 2) for input KerasTensor(type_spec=TensorSpec(shape=(1, 1, 2), dtype=tf.float32, name='dense_12_input'), name='dense_12_input', description=\"created by layer 'dense_12_input'\"), but it was called on an input with incompatible shape (72, 2).\n"
     ]
    },
    {
     "name": "stderr",
     "output_type": "stream",
     "text": [
      "WARNING:tensorflow:Model was constructed with shape (1, 1, 2) for input KerasTensor(type_spec=TensorSpec(shape=(1, 1, 2), dtype=tf.float32, name='dense_12_input'), name='dense_12_input', description=\"created by layer 'dense_12_input'\"), but it was called on an input with incompatible shape (72, 2).\n",
      "100%|██████████| 30/30 [01:18<00:00,  2.60s/it, loss=0.0463]\n"
     ]
    }
   ],
   "source": [
    "deepsets_history = deepset.train((data, theta, score_mask, fisher_mask), lr=5e-4, epochs=30, lossfn='deepsets')"
   ]
  },
  {
   "cell_type": "markdown",
   "metadata": {},
   "source": [
    "## saliency plots"
   ]
  },
  {
   "cell_type": "code",
   "execution_count": 18,
   "metadata": {},
   "outputs": [
    {
     "data": {
      "text/plain": [
       "<matplotlib.legend.Legend at 0x7f76c1b2f690>"
      ]
     },
     "execution_count": 18,
     "metadata": {},
     "output_type": "execute_result"
    },
    {
     "data": {
      "image/png": "[encoded data removed]",
      "text/plain": [
       "<Figure size 432x288 with 1 Axes>"
      ]
     },
     "metadata": {
      "needs_background": "light"
     },
     "output_type": "display_data"
    }
   ],
   "source": [
    "plt.plot(fishnets_history[50:], label='fishnets')\n",
    "plt.plot(deepsets_history[50:], label='deepsets mse')\n",
    "plt.legend()"
   ]
  },
  {
   "cell_type": "code",
   "execution_count": 50,
   "metadata": {},
   "outputs": [
    {
     "data": {
      "text/plain": [
       "<matplotlib.legend.Legend at 0x7fc286ca0dd0>"
      ]
     },
     "execution_count": 50,
     "metadata": {},
     "output_type": "execute_result"
    },
    {
     "data": {
      "image/png": "[encoded data removed]",
      "text/plain": [
       "<Figure size 432x288 with 1 Axes>"
      ]
     },
     "metadata": {
      "needs_background": "light"
     },
     "output_type": "display_data"
    }
   ],
   "source": [
    "plt.plot(fishnets_history[50:], label='fishnets')\n",
    "plt.plot(deepsets_history[50:], label='deepsets mse')\n",
    "plt.legend()"
   ]
  },
  {
   "cell_type": "code",
   "execution_count": 19,
   "metadata": {},
   "outputs": [
    {
     "name": "stderr",
     "output_type": "stream",
     "text": [
      "100%|██████████| 50/50 [00:04<00:00, 11.31it/s]\n"
     ]
    }
   ],
   "source": [
    "# model MLEs\n",
    "# score, _ = deepset.call(data)\n",
    "# # sum the per-data point scores and Fishers, and include Gaussian prior correction\n",
    "# score = tf.reduce_mean(score*score_mask, axis=1) # - tf.einsum('ij,j->i', self.priorCinv, (self.theta_fid - self.priormu))\n",
    "\n",
    "# score = deepset.model_globals(score)\n",
    "# prediction = score #tf.reduce_sum(score*score_mask, axis=1) #- tf.einsum('ij,j->i', deepset.priorCinv, (deepset.theta_fid - deepset.priormu))\n",
    "\n",
    "prediction = deepset.compute_deepsets_pred_(data, score_mask, fisher_mask)"
   ]
  },
  {
   "cell_type": "code",
   "execution_count": 20,
   "metadata": {},
   "outputs": [
    {
     "data": {
      "text/plain": [
       "<matplotlib.collections.PathCollection at 0x7f76c0d0ccd0>"
      ]
     },
     "execution_count": 20,
     "metadata": {},
     "output_type": "execute_result"
    },
    {
     "data": {
      "image/png": "[encoded data removed]",
      "text/plain": [
       "<Figure size 432x288 with 2 Axes>"
      ]
     },
     "metadata": {
      "needs_background": "light"
     },
     "output_type": "display_data"
    }
   ],
   "source": [
    "plt.subplot(121)\n",
    "plt.scatter(theta[:10000, 0].numpy(), prediction[:10000, 0].numpy(), s=1)\n",
    "\n",
    "plt.subplot(122)\n",
    "plt.scatter(theta[:10000, 1].numpy(), prediction[:10000, 1].numpy(), s=1)"
   ]
  },
  {
   "cell_type": "code",
   "execution_count": 35,
   "metadata": {},
   "outputs": [
    {
     "data": {
      "image/png": "[encoded data removed]",
      "text/plain": [
       "<Figure size 936x360 with 2 Axes>"
      ]
     },
     "metadata": {
      "needs_background": "light"
     },
     "output_type": "display_data"
    }
   ],
   "source": [
    "plt.figure(figsize=(13, 5))\n",
    "plt.subplot(121)\n",
    "plt.hist(mle[:10000,0].numpy() - theta[:10000,0].numpy(), bins = 60, histtype='step', density=True, label='fishnets')\n",
    "\n",
    "plt.hist(prediction[:10000,0].numpy() - theta[:10000,0].numpy(), bins = 60, histtype='step', density=True, label='deepsets')\n",
    "plt.xlabel(r'$\\hat{\\mu}_1 - \\mu_1$')\n",
    "plt.legend(frameon=False)\n",
    "\n",
    "\n",
    "plt.subplot(122)\n",
    "plt.hist(mle[:10000,1].numpy() - theta[:10000,1].numpy(), bins = 60, histtype='step', density=True, label='fishnets')\n",
    "plt.hist(prediction[:10000,1].numpy() - theta[:10000,1].numpy(), bins = 60, histtype='step', density=True, label='deepsets')\n",
    "plt.xlabel(r'$\\hat{\\mu_2} - \\mu_2$')\n",
    "plt.legend(frameon=False)\n",
    "\n",
    "plt.show()"
   ]
  },
  {
   "cell_type": "markdown",
   "metadata": {},
   "source": [
    "## now test the scaling"
   ]
  },
  {
   "cell_type": "code",
   "execution_count": 22,
   "metadata": {},
   "outputs": [
    {
     "data": {
      "text/plain": [
       "((1000, 10000, 4), (1000, 2))"
      ]
     },
     "execution_count": 22,
     "metadata": {},
     "output_type": "execute_result"
    }
   ],
   "source": [
    "# data sizes\n",
    "n_sims_test = 1000\n",
    "n_data_test = 10000\n",
    "\n",
    "n_theta = 2\n",
    "\n",
    "\n",
    "# get noise\n",
    "sigma1_ = log_uniform(np.random.uniform(size=(n_sims_test, n_data_test)), log_min_val=-2, log_max_val=1.)\n",
    "sigma2_ = log_uniform(np.random.uniform(size=(n_sims_test, n_data_test)), log_min_val=-2, log_max_val=1.)\n",
    "\n",
    "# do mean hyperparameter\n",
    "mu1_ = np.random.normal(0, 5, size=(n_sims_test,))\n",
    "mu2_ = np.random.normal(0, 5, size=(n_sims_test,))\n",
    "\n",
    "theta_test = np.ones((n_sims_test, n_theta))\n",
    "theta_test[:, 0] = mu1_\n",
    "theta_test[:, 1] = mu2_\n",
    "\n",
    "datamax = 30\n",
    "\n",
    "# create data\n",
    "data1 = np.random.normal(loc=mu1_[..., np.newaxis], scale=sigma1_) / datamax\n",
    "data2 = np.random.normal(loc=mu2_[..., np.newaxis], scale=sigma2_) / datamax\n",
    "\n",
    "\n",
    "data_test = np.ones((n_sims_test, n_data_test, 4))\n",
    "data_test[:, :, 0] = data1\n",
    "data_test[:, :, 1] = data2\n",
    "\n",
    "data_test[:, :, 2] = (1./sigma1_**2) / 1000.\n",
    "data_test[:, :, 3] = (1./sigma2_**2) / 1000.\n",
    "\n",
    "data_test.shape, theta_test.shape"
   ]
  },
  {
   "cell_type": "code",
   "execution_count": 23,
   "metadata": {},
   "outputs": [],
   "source": [
    "# stack up the data and parameters\n",
    "data_test = tf.convert_to_tensor(data_test, dtype=tf.float32)\n",
    "theta_test = tf.convert_to_tensor(theta_test[:, :n_theta], dtype=tf.float32)\n",
    "\n",
    "# construct masks\n",
    "score_mask_test = np.ones((n_sims_test, n_data_test, n_theta))\n",
    "fisher_mask_test = np.ones((n_sims_test, n_data_test, n_theta, n_theta))\n",
    "\n",
    "score_mask_test = tf.convert_to_tensor(score_mask_test, dtype=tf.float32)\n",
    "fisher_mask_test = tf.convert_to_tensor(fisher_mask_test, dtype=tf.float32)"
   ]
  },
  {
   "cell_type": "code",
   "execution_count": 24,
   "metadata": {},
   "outputs": [],
   "source": [
    "test_index = 1000"
   ]
  },
  {
   "cell_type": "code",
   "execution_count": 31,
   "metadata": {},
   "outputs": [
    {
     "name": "stderr",
     "output_type": "stream",
     "text": [
      "100%|██████████| 100/100 [00:15<00:00,  6.36it/s]\n"
     ]
    }
   ],
   "source": [
    "# fishnet MLEs\n",
    "mle_test, F_test  = Model.compute_mle_(data_test[:test_index], score_mask_test[:test_index], fisher_mask_test[:test_index])"
   ]
  },
  {
   "cell_type": "code",
   "execution_count": 26,
   "metadata": {},
   "outputs": [
    {
     "name": "stderr",
     "output_type": "stream",
     "text": [
      "100%|██████████| 100/100 [00:16<00:00,  6.23it/s]\n"
     ]
    }
   ],
   "source": [
    "prediction_test = deepset.compute_deepsets_pred_(data_test[:test_index], score_mask_test[:test_index], fisher_mask_test[:test_index])"
   ]
  },
  {
   "cell_type": "code",
   "execution_count": 27,
   "metadata": {},
   "outputs": [
    {
     "data": {
      "text/plain": [
       "<matplotlib.collections.PathCollection at 0x7f76c09bf990>"
      ]
     },
     "execution_count": 27,
     "metadata": {},
     "output_type": "execute_result"
    },
    {
     "data": {
      "image/png": "[encoded data removed]",
      "text/plain": [
       "<Figure size 432x288 with 2 Axes>"
      ]
     },
     "metadata": {
      "needs_background": "light"
     },
     "output_type": "display_data"
    }
   ],
   "source": [
    "plt.subplot(121)\n",
    "plt.scatter(theta_test[:test_index, 0].numpy(), prediction_test[:test_index, 0].numpy(), s=1)\n",
    "\n",
    "plt.subplot(122)\n",
    "plt.scatter(theta_test[:test_index, 1].numpy(), prediction_test[:test_index, 1].numpy(), s=1)"
   ]
  },
  {
   "cell_type": "code",
   "execution_count": 36,
   "metadata": {},
   "outputs": [
    {
     "data": {
      "image/png": "[encoded data removed]",
      "text/plain": [
       "<Figure size 936x360 with 2 Axes>"
      ]
     },
     "metadata": {
      "needs_background": "light"
     },
     "output_type": "display_data"
    }
   ],
   "source": [
    "plt.figure(figsize=(13, 5))\n",
    "plt.subplot(121)\n",
    "plt.hist(mle_test[:test_index,0].numpy() - theta_test[:test_index,0].numpy(), bins = 60, histtype='step', density=True, label='fishnets')\n",
    "\n",
    "plt.hist(prediction_test[:test_index,0].numpy() - theta_test[:test_index,0].numpy(), bins = 60, histtype='step', density=True, label='deepsets')\n",
    "plt.xlabel(r'$\\hat{\\mu}_1 - \\mu_1$')\n",
    "plt.legend(frameon=False)\n",
    "\n",
    "\n",
    "plt.subplot(122)\n",
    "plt.hist(mle_test[:test_index,1].numpy() - theta_test[:test_index,1].numpy(), bins = 60, histtype='step', density=True, label='fishnets')\n",
    "plt.hist(prediction_test[:test_index,1].numpy() - theta_test[:test_index,1].numpy(), bins = 60, histtype='step', density=True, label='deepsets')\n",
    "plt.xlabel(r'$\\hat{\\mu_2} - \\mu_2$')\n",
    "plt.legend(frameon=False)\n",
    "\n",
    "#plt.xlim(-10, 10)\n",
    "plt.show()"
   ]
  },
  {
   "cell_type": "code",
   "execution_count": null,
   "metadata": {},
   "outputs": [],
   "source": []
  }
 ],
 "metadata": {
  "kernelspec": {
   "display_name": "Python 3",
   "language": "python",
   "name": "python3"
  },
  "language_info": {
   "codemirror_mode": {
    "name": "ipython",
    "version": 3
   },
   "file_extension": ".py",
   "mimetype": "text/x-python",
   "name": "python",
   "nbconvert_exporter": "python",
   "pygments_lexer": "ipython3",
   "version": "3.7.7"
  },
  "orig_nbformat": 4
 },
 "nbformat": 4,
 "nbformat_minor": 2
}

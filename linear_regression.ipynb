{
 "cells": [
  {
   "cell_type": "code",
   "execution_count": 1,
   "id": "1158cee3",
   "metadata": {},
   "outputs": [
    {
     "name": "stderr",
     "output_type": "stream",
     "text": [
      "/Users/justinalsing/.pyenv/versions/3.8.6/envs/base3.8/lib/python3.8/site-packages/pandas/compat/__init__.py:97: UserWarning: Could not import the lzma module. Your installed Python is incomplete. Attempting to use lzma compression will result in a RuntimeError.\n",
      "  warnings.warn(msg)\n"
     ]
    }
   ],
   "source": [
    "import numpy as np\n",
    "import tensorflow as tf\n",
    "import matplotlib.pyplot as plt\n",
    "import tensorflow_probability as tfp\n",
    "from tqdm import trange\n",
    "from scipy import stats\n",
    "tfk = tf.keras\n",
    "\n",
    "from fishnets import *"
   ]
  },
  {
   "cell_type": "markdown",
   "id": "7758b6e3",
   "metadata": {},
   "source": [
    "Create training data"
   ]
  },
  {
   "cell_type": "code",
   "execution_count": 2,
   "id": "4481fe8c",
   "metadata": {},
   "outputs": [],
   "source": [
    "# data sizes\n",
    "n_sims = 10000\n",
    "n_data = 100\n",
    "\n",
    "# fiducial parameters\n",
    "theta_fid = tf.constant([0.,0.], dtype=tf.float32)\n",
    "theta_fid_ = theta_fid.numpy()\n",
    "\n",
    "# prior mean and covariance\n",
    "priorCinv = tf.convert_to_tensor(np.eye(2), dtype=tf.float32)\n",
    "priormu = tf.constant([0.,0.], dtype=tf.float32)\n",
    "\n",
    "# slopes and intercepts\n",
    "m_ = np.random.normal(0, 1, n_sims).astype(np.float32)\n",
    "c_ = np.random.normal(0, 1, n_sims).astype(np.float32)\n",
    "\n",
    "# x-values\n",
    "x_ = np.random.uniform(0, 10, (n_sims, n_data)).astype(np.float32)\n",
    "\n",
    "# noise std devs\n",
    "sigma_ = np.random.uniform(1, 10, (n_sims, n_data)).astype(np.float32)\n",
    "\n",
    "# simulate \"data\"\n",
    "y_ = m_[...,np.newaxis]*x_ + c_[...,np.newaxis] + np.random.normal(0, 1, sigma_.shape)*sigma_\n",
    "y_ = y_.astype(np.float32)\n",
    "\n",
    "# stack up the data and parameters\n",
    "data = tf.stack([y_, x_, 1./sigma_**2], axis=-1)\n",
    "theta = tf.stack([m_, c_], axis=-1)"
   ]
  },
  {
   "cell_type": "markdown",
   "id": "99bab800",
   "metadata": {},
   "source": [
    "Create the masks if we want to train over variable N"
   ]
  },
  {
   "cell_type": "code",
   "execution_count": 6,
   "id": "5a751ad0",
   "metadata": {},
   "outputs": [],
   "source": [
    "# construct masks\n",
    "score_mask = np.ones((n_sims, n_data, 2))\n",
    "fisher_mask = np.ones((n_sims, n_data, 2, 2))\n",
    "\n",
    "# mask or not?\n",
    "masked = True\n",
    "\n",
    "# make the masks\n",
    "if masked is True:\n",
    "    for i in range(n_sims):\n",
    "        \n",
    "        # how many points to mask?\n",
    "        n_mask = np.random.randint(1, n_data-5)\n",
    "        \n",
    "        # choose which points to mask\n",
    "        idx = np.random.choice(np.arange(n_data), n_mask, replace=False)\n",
    "        \n",
    "        # mask those points (set the fisher and score masks to zero for those points)\n",
    "        for j in idx:\n",
    "            score_mask[i,j,:] = 0\n",
    "            fisher_mask[i,j,...] = 0\n",
    "\n",
    "score_mask = tf.convert_to_tensor(score_mask, dtype=tf.float32)\n",
    "fisher_mask = tf.convert_to_tensor(fisher_mask, dtype=tf.float32)"
   ]
  },
  {
   "cell_type": "markdown",
   "id": "0fcaef8c",
   "metadata": {},
   "source": [
    "Construct the exact MLEs for comparison"
   ]
  },
  {
   "cell_type": "code",
   "execution_count": 5,
   "id": "6f00233f",
   "metadata": {},
   "outputs": [],
   "source": [
    "# compute MLEs\n",
    "F_ = np.sum(np.stack([x_**2 / sigma_**2, x_ / sigma_**2, x_ / sigma_**2, 1. / sigma_**2], axis=-1).reshape((n_sims, n_data, 2, 2)) * fisher_mask.numpy(), axis=1) + priorCinv.numpy()\n",
    "t_ = np.sum(np.stack([x_*(y_ - (theta_fid[0]*x_ + theta_fid[1]))/ sigma_**2, (y_ - (theta_fid[0]*x_ + theta_fid[1])) / sigma_**2], axis=-1) * score_mask.numpy(), axis=1) - np.dot(priorCinv, theta_fid - priormu)\n",
    "pmle_ = theta_fid_ + np.einsum('ijk,ik->ij', np.linalg.inv(F_), t_)"
   ]
  },
  {
   "cell_type": "markdown",
   "id": "c2209c40",
   "metadata": {},
   "source": [
    "Make the Fishnet model"
   ]
  },
  {
   "cell_type": "code",
   "execution_count": 7,
   "id": "6c69c53a",
   "metadata": {},
   "outputs": [],
   "source": [
    "Model = FishnetTwin(n_parameters=2, \n",
    "                n_inputs=3, \n",
    "                n_hidden_score=[64, 64], \n",
    "                activation_score=[tf.nn.leaky_relu, tf.nn.leaky_relu],\n",
    "                n_hidden_fisher=[64, 64], \n",
    "                activation_fisher=[tf.nn.leaky_relu, tf.nn.leaky_relu],\n",
    "                optimizer=tf.keras.optimizers.Adam(lr=5e-4),\n",
    "                theta_fid=theta_fid,\n",
    "                priormu=tf.zeros(2, dtype=tf.float32),\n",
    "                priorCinv=tf.eye(2, dtype=tf.float32))"
   ]
  },
  {
   "cell_type": "markdown",
   "id": "70a11098",
   "metadata": {},
   "source": [
    "Train the model"
   ]
  },
  {
   "cell_type": "code",
   "execution_count": null,
   "id": "5e042cfe",
   "metadata": {},
   "outputs": [
    {
     "name": "stderr",
     "output_type": "stream",
     "text": [
      " 47%|████▋     | 234/500 [03:58<04:29,  1.01s/it, loss=-1.07] "
     ]
    }
   ],
   "source": [
    "Model.train((data, theta, score_mask, fisher_mask), lr=5e-4, epochs=500)\n",
    "Model.train((data, theta, score_mask, fisher_mask), lr=1e-4, epochs=500)\n",
    "Model.train((data, theta, score_mask, fisher_mask), lr=5e-5, epochs=500)"
   ]
  },
  {
   "cell_type": "code",
   "execution_count": null,
   "id": "6297f6e6",
   "metadata": {},
   "outputs": [],
   "source": [
    "Model.lbfgs_optimize(data, theta, score_mask, fisher_mask, max_iterations=10, tolerance=1e-5)"
   ]
  },
  {
   "cell_type": "markdown",
   "id": "e147b8b7",
   "metadata": {},
   "source": [
    "Compute model predictions to compare to exact MLEs"
   ]
  },
  {
   "cell_type": "code",
   "execution_count": null,
   "id": "e1f691f7",
   "metadata": {},
   "outputs": [],
   "source": [
    "# model MLEs\n",
    "mle, F = Model.compute_mle_(data, score_mask, fisher_mask)\n",
    "\n",
    "plt.hist(mle[:,0].numpy() - theta[:,0].numpy(), bins = 60, histtype='step', density=True, label='learned score MLE')\n",
    "plt.hist(pmle_[:,0] - theta[:,0].numpy(), bins = 60, histtype='step', density=True, label='exact MLE')\n",
    "std = np.std(pmle_[:,0] - theta[:,0].numpy())\n",
    "x = np.linspace(-4*std, 4*std, 500)\n",
    "plt.plot(x, stats.norm.pdf(x, loc=0, scale=std), color='orange')\n",
    "#plt.axvline(np.mean(mle[:,0].numpy() - theta[:,0].numpy()))\n",
    "#plt.axvline(np.mean(pmle_[:,0] - theta[:,0].numpy()))\n",
    "plt.xlabel('$\\hat{m} - m$')\n",
    "plt.legend(frameon=False)\n",
    "plt.show()\n",
    "\n",
    "plt.hist(mle[:,1].numpy() - theta[:,1].numpy(), bins = 60, histtype='step', density=True, label='learned score MLE')\n",
    "plt.hist(pmle_[:,1] - theta[:,1].numpy(), bins = 60, histtype='step', density=True, label='exact MLE')\n",
    "std = np.std(pmle_[:,1] - theta[:,1].numpy())\n",
    "x = np.linspace(-4*std, 4*std, 500)\n",
    "plt.plot(x, stats.norm.pdf(x, loc=0, scale=std), color='orange')\n",
    "#plt.axvline(np.mean(mle[:,1].numpy() - theta[:,1].numpy()), color='blue')\n",
    "#plt.axvline(np.mean(pmle_[:,1] - theta[:,1].numpy()), color='orange')\n",
    "plt.xlabel('$\\hat{c} - c$')\n",
    "plt.legend(frameon=False)\n",
    "plt.show()"
   ]
  },
  {
   "cell_type": "code",
   "execution_count": null,
   "id": "b068fd92",
   "metadata": {},
   "outputs": [],
   "source": [
    "# predicted (blue) vs true (orange) MLEs\n",
    "x = np.linspace(-4,4,100)\n",
    "plt.scatter(theta[:,0].numpy(), mle[:,0].numpy(), s = 0.1)\n",
    "plt.scatter(theta[:,0].numpy(), pmle_[:,0], s = 0.1)\n",
    "plt.plot(x,x)\n",
    "plt.xlabel('m true')\n",
    "plt.ylabel('MLE')\n",
    "plt.show()\n",
    "\n",
    "plt.scatter(theta[:,1].numpy(), mle[:,1].numpy(), s = 0.1)\n",
    "plt.scatter(theta[:,1].numpy(), pmle_[:,1], s = 0.1)\n",
    "plt.plot(x,x)\n",
    "plt.xlabel('c true')\n",
    "plt.ylabel('MLE')\n",
    "plt.show()"
   ]
  },
  {
   "cell_type": "code",
   "execution_count": null,
   "id": "ec21efdf",
   "metadata": {},
   "outputs": [],
   "source": []
  }
 ],
 "metadata": {
  "kernelspec": {
   "display_name": "Python 3",
   "language": "python",
   "name": "python3"
  },
  "language_info": {
   "codemirror_mode": {
    "name": "ipython",
    "version": 3
   },
   "file_extension": ".py",
   "mimetype": "text/x-python",
   "name": "python",
   "nbconvert_exporter": "python",
   "pygments_lexer": "ipython3",
   "version": "3.8.6"
  }
 },
 "nbformat": 4,
 "nbformat_minor": 5
}

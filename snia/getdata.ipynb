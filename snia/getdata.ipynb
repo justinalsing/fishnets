{
 "cells": [
  {
   "cell_type": "code",
   "execution_count": 2,
   "metadata": {},
   "outputs": [
    {
     "name": "stdout",
     "output_type": "stream",
     "text": [
      "/home/makinen/repositories/fishnets/snia\n"
     ]
    }
   ],
   "source": [
    "cd /home/makinen/repositories/fishnets/snia"
   ]
  },
  {
   "cell_type": "code",
   "execution_count": 3,
   "metadata": {},
   "outputs": [
    {
     "name": "stdout",
     "output_type": "stream",
     "text": [
      "-55.207462 359.63509 -66.485085 79.03174\n"
     ]
    }
   ],
   "source": [
    "import jax.numpy as jnp\n",
    "from jax import grad, jit, vmap\n",
    "from jax import random\n",
    "#import torch\n",
    "import jax\n",
    "from jax import lax\n",
    "import jax_cosmo as jc\n",
    "import scipy.constants as cnst\n",
    "\n",
    "import matplotlib.pyplot as plt\n",
    "\n",
    "import numpy as np\n",
    "import numpyro\n",
    "import numpyro.distributions as dist\n",
    "\n",
    "from snia_simulator import *\n"
   ]
  },
  {
   "cell_type": "code",
   "execution_count": 4,
   "metadata": {},
   "outputs": [],
   "source": [
    "# generate a shitton of parameters over a prior\n",
    "\n",
    "# do for 500 supernovae\n",
    "\n",
    "size = int(1e6)\n",
    "n_data = 500\n",
    "\n",
    "\n",
    "omegam_ = np.random.uniform(low=0.0, high=1.0, size=size)\n",
    "w_ = np.random.uniform(-2.0, 0.0, size=size)\n",
    "alpha_ = np.random.uniform(0.0, 1.0, size=size)\n",
    "beta_ = np.random.uniform(0.0, 4.0, size=size)\n",
    "\n",
    "key = jax.random.PRNGKey(3)\n",
    "key1,key2,key3 = jax.random.split(key, num=3)\n",
    "\n",
    "M0_ = np.random.normal(-19.3, scale=2.0, size=size)\n",
    "sigma_res_ = dist.TransformedDistribution(\n",
    "                      dist.Uniform(-3.0, 0.0), \n",
    "                      dist.transforms.ExpTransform()).sample(key1, (size,))\n",
    "\n",
    "\n",
    "\n",
    "xstar_ = np.random.normal(0.0, scale=0.1, size=size)\n",
    "Rx_ = dist.TransformedDistribution(\n",
    "                      dist.Uniform(-5.0, 2.0), \n",
    "                      dist.transforms.ExpTransform()).sample(key2, (size,))\n",
    "\n",
    "cstar_ = np.random.normal(0.0, scale=0.1, size=size)\n",
    "Rc_ = dist.TransformedDistribution(\n",
    "                      dist.Uniform(-5.0, 2.0), \n",
    "                      dist.transforms.ExpTransform()).sample(key3, (size,))\n",
    "\n",
    "#omegam, w, alpha, beta, sigma_res, M_0, x1_mean, c_mean, x1_std, c_std = theta\n",
    "theta_ = np.stack([omegam_, w_, alpha_, beta_, M0_, sigma_res_, xstar_, Rx_, cstar_, Rc_]).T"
   ]
  },
  {
   "cell_type": "code",
   "execution_count": 5,
   "metadata": {},
   "outputs": [],
   "source": [
    "outdir = \"/data80/makinen/fishnets/snia/\"\n",
    "\n",
    "np.save(outdir + 'theta2_', theta_)"
   ]
  },
  {
   "cell_type": "code",
   "execution_count": 5,
   "metadata": {},
   "outputs": [],
   "source": [
    "from tqdm import tqdm"
   ]
  },
  {
   "cell_type": "code",
   "execution_count": 20,
   "metadata": {},
   "outputs": [
    {
     "name": "stderr",
     "output_type": "stream",
     "text": [
      "100%|██████████| 1000/1000 [01:12<00:00, 13.83it/s]\n"
     ]
    }
   ],
   "source": [
    "# make simulations\n",
    "\n",
    "\n",
    "data = []\n",
    "\n",
    "\n",
    "for i in tqdm(range(len(theta_[:1000]))):\n",
    "  t = theta_[i]\n",
    "  data.append(simulator(t, n_data, save_data=False)[0])\n",
    "\n",
    "data = np.array(data)"
   ]
  },
  {
   "cell_type": "code",
   "execution_count": 1,
   "metadata": {},
   "outputs": [
    {
     "data": {
      "text/plain": [
       "20"
      ]
     },
     "execution_count": 1,
     "metadata": {},
     "output_type": "execute_result"
    }
   ],
   "source": [
    "2 * 10"
   ]
  },
  {
   "cell_type": "code",
   "execution_count": 14,
   "metadata": {},
   "outputs": [
    {
     "data": {
      "text/plain": [
       "(1000, 10)"
      ]
     },
     "execution_count": 14,
     "metadata": {},
     "output_type": "execute_result"
    }
   ],
   "source": [
    "i = 2\n",
    "theta_[i*1000:(i+1)*1000].shape"
   ]
  },
  {
   "cell_type": "code",
   "execution_count": 7,
   "metadata": {},
   "outputs": [
    {
     "data": {
      "text/plain": [
       "(1000, 500, 12)"
      ]
     },
     "execution_count": 7,
     "metadata": {},
     "output_type": "execute_result"
    }
   ],
   "source": [
    "data.shape"
   ]
  },
  {
   "cell_type": "code",
   "execution_count": 19,
   "metadata": {},
   "outputs": [
    {
     "data": {
      "text/plain": [
       "16.666666666666668"
      ]
     },
     "execution_count": 19,
     "metadata": {},
     "output_type": "execute_result"
    }
   ],
   "source": [
    "1e6 / 1000 / 60"
   ]
  },
  {
   "cell_type": "code",
   "execution_count": null,
   "metadata": {},
   "outputs": [],
   "source": [
    "# data = (np.array([sim_z,sim_mb,sim_dmb,sim_x1,sim_dx1,sim_c,sim_dc,sim_l,sim_b, sim_true_mb,sim_true_x1,sim_true_c]).transpose())\n",
    "# z mb dmb x1 dx1 c dc  | l b true_mb true_x1 true_c\"\n",
    "# put in some \"inductive biases\"\n",
    "#obs_data = data[:, :6]\n",
    "#true_data = data[:, 6:]\n",
    "\n",
    "# throw in some inductive biases\n",
    "#x1_ = x_*(1./ sigma_**2)\n",
    "#x2_ = y_*(1./ sigma_**2)\n",
    "\n",
    "\n",
    "outdir = \"/data80/makinen/fishnets/snia/\"\n",
    "\n",
    "np.save(outdir + 'theta_', theta_)\n",
    "np.save(outdir + 'full_data_', data)"
   ]
  },
  {
   "cell_type": "code",
   "execution_count": 10,
   "metadata": {},
   "outputs": [
    {
     "data": {
      "text/plain": [
       "(1000, 500, 12)"
      ]
     },
     "execution_count": 10,
     "metadata": {},
     "output_type": "execute_result"
    }
   ],
   "source": [
    "data.shape"
   ]
  },
  {
   "cell_type": "code",
   "execution_count": 11,
   "metadata": {},
   "outputs": [
    {
     "data": {
      "text/plain": [
       "1000.0"
      ]
     },
     "execution_count": 11,
     "metadata": {},
     "output_type": "execute_result"
    }
   ],
   "source": [
    "1e6 / 1000"
   ]
  },
  {
   "cell_type": "code",
   "execution_count": 16,
   "metadata": {},
   "outputs": [
    {
     "data": {
      "text/plain": [
       "3.666666666666666"
      ]
     },
     "execution_count": 16,
     "metadata": {},
     "output_type": "execute_result"
    }
   ],
   "source": [
    "22 / 60 * 1000 / 100"
   ]
  },
  {
   "cell_type": "code",
   "execution_count": 7,
   "metadata": {},
   "outputs": [],
   "source": [
    "outdir = \"/data80/makinen/fishnets/snia/\"\n",
    "\n",
    "batch = np.load(outdir + 'full_data_2.npy')"
   ]
  },
  {
   "cell_type": "code",
   "execution_count": 11,
   "metadata": {},
   "outputs": [
    {
     "data": {
      "text/plain": [
       "(10000, 500, 6)"
      ]
     },
     "execution_count": 11,
     "metadata": {},
     "output_type": "execute_result"
    }
   ],
   "source": [
    "batch[:, :, :6].shape"
   ]
  },
  {
   "cell_type": "code",
   "execution_count": 10,
   "metadata": {},
   "outputs": [
    {
     "data": {
      "text/plain": [
       "(10000, 500, 12)"
      ]
     },
     "execution_count": 10,
     "metadata": {},
     "output_type": "execute_result"
    }
   ],
   "source": [
    "batch.shape"
   ]
  },
  {
   "cell_type": "code",
   "execution_count": null,
   "metadata": {},
   "outputs": [],
   "source": []
  }
 ],
 "metadata": {
  "kernelspec": {
   "display_name": "Python 3",
   "language": "python",
   "name": "python3"
  },
  "language_info": {
   "codemirror_mode": {
    "name": "ipython",
    "version": 3
   },
   "file_extension": ".py",
   "mimetype": "text/x-python",
   "name": "python",
   "nbconvert_exporter": "python",
   "pygments_lexer": "ipython3",
   "version": "3.7.7"
  },
  "orig_nbformat": 4
 },
 "nbformat": 4,
 "nbformat_minor": 2
}
